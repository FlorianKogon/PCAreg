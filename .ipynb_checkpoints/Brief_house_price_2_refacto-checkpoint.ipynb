{
 "cells": [
  {
   "cell_type": "code",
   "execution_count": 2,
   "metadata": {},
   "outputs": [
    {
     "name": "stdout",
     "output_type": "stream",
     "text": [
      "Collecting matplotlib\n",
      "  Downloading matplotlib-3.4.2-cp39-cp39-macosx_10_9_x86_64.whl (7.2 MB)\n",
      "\u001b[K     |████████████████████████████████| 7.2 MB 594 kB/s eta 0:00:01     |████████████████████████████▏   | 6.3 MB 321 kB/s eta 0:00:03\n",
      "\u001b[?25hCollecting pillow>=6.2.0\n",
      "  Downloading Pillow-8.2.0-cp39-cp39-macosx_10_10_x86_64.whl (2.8 MB)\n",
      "\u001b[K     |████████████████████████████████| 2.8 MB 937 kB/s eta 0:00:01\n",
      "\u001b[?25hRequirement already satisfied: python-dateutil>=2.7 in /Users/marie/.pyenv/versions/3.9.5/envs/simplon/lib/python3.9/site-packages (from matplotlib) (2.8.1)\n",
      "Requirement already satisfied: numpy>=1.16 in /Users/marie/.pyenv/versions/3.9.5/envs/simplon/lib/python3.9/site-packages (from matplotlib) (1.21.0)\n",
      "Requirement already satisfied: pyparsing>=2.2.1 in /Users/marie/.pyenv/versions/3.9.5/envs/simplon/lib/python3.9/site-packages (from matplotlib) (2.4.7)\n",
      "Collecting cycler>=0.10\n",
      "  Using cached cycler-0.10.0-py2.py3-none-any.whl (6.5 kB)\n",
      "Collecting kiwisolver>=1.0.1\n",
      "  Downloading kiwisolver-1.3.1-cp39-cp39-macosx_10_9_x86_64.whl (61 kB)\n",
      "\u001b[K     |████████████████████████████████| 61 kB 430 kB/s eta 0:00:01\n",
      "\u001b[?25hRequirement already satisfied: six in /Users/marie/.pyenv/versions/3.9.5/envs/simplon/lib/python3.9/site-packages (from cycler>=0.10->matplotlib) (1.16.0)\n",
      "Installing collected packages: pillow, kiwisolver, cycler, matplotlib\n",
      "Successfully installed cycler-0.10.0 kiwisolver-1.3.1 matplotlib-3.4.2 pillow-8.2.0\n",
      "Note: you may need to restart the kernel to use updated packages.\n"
     ]
    }
   ],
   "source": [
    "pip install matplotlib"
   ]
  },
  {
   "cell_type": "code",
   "execution_count": 4,
   "metadata": {},
   "outputs": [
    {
     "name": "stdout",
     "output_type": "stream",
     "text": [
      "Collecting seaborn\n",
      "  Using cached seaborn-0.11.1-py3-none-any.whl (285 kB)\n",
      "Requirement already satisfied: numpy>=1.15 in /Users/marie/.pyenv/versions/3.9.5/envs/simplon/lib/python3.9/site-packages (from seaborn) (1.21.0)\n",
      "Requirement already satisfied: pandas>=0.23 in /Users/marie/.pyenv/versions/3.9.5/envs/simplon/lib/python3.9/site-packages (from seaborn) (1.2.5)\n",
      "Collecting scipy>=1.0\n",
      "  Downloading scipy-1.7.0-cp39-cp39-macosx_10_9_x86_64.whl (32.1 MB)\n",
      "\u001b[K     |████████████████████████████████| 32.1 MB 96 kB/s eta 0:00:011     |███████████████▏                | 15.3 MB 171 kB/s eta 0:01:39     |████████████████████████        | 24.1 MB 1.3 MB/s eta 0:00:07\n",
      "\u001b[?25hRequirement already satisfied: matplotlib>=2.2 in /Users/marie/.pyenv/versions/3.9.5/envs/simplon/lib/python3.9/site-packages (from seaborn) (3.4.2)\n",
      "Requirement already satisfied: cycler>=0.10 in /Users/marie/.pyenv/versions/3.9.5/envs/simplon/lib/python3.9/site-packages (from matplotlib>=2.2->seaborn) (0.10.0)\n",
      "Requirement already satisfied: pyparsing>=2.2.1 in /Users/marie/.pyenv/versions/3.9.5/envs/simplon/lib/python3.9/site-packages (from matplotlib>=2.2->seaborn) (2.4.7)\n",
      "Requirement already satisfied: python-dateutil>=2.7 in /Users/marie/.pyenv/versions/3.9.5/envs/simplon/lib/python3.9/site-packages (from matplotlib>=2.2->seaborn) (2.8.1)\n",
      "Requirement already satisfied: kiwisolver>=1.0.1 in /Users/marie/.pyenv/versions/3.9.5/envs/simplon/lib/python3.9/site-packages (from matplotlib>=2.2->seaborn) (1.3.1)\n",
      "Requirement already satisfied: pillow>=6.2.0 in /Users/marie/.pyenv/versions/3.9.5/envs/simplon/lib/python3.9/site-packages (from matplotlib>=2.2->seaborn) (8.2.0)\n",
      "Requirement already satisfied: six in /Users/marie/.pyenv/versions/3.9.5/envs/simplon/lib/python3.9/site-packages (from cycler>=0.10->matplotlib>=2.2->seaborn) (1.16.0)\n",
      "Requirement already satisfied: pytz>=2017.3 in /Users/marie/.pyenv/versions/3.9.5/envs/simplon/lib/python3.9/site-packages (from pandas>=0.23->seaborn) (2021.1)\n",
      "Installing collected packages: scipy, seaborn\n",
      "Successfully installed scipy-1.7.0 seaborn-0.11.1\n",
      "Note: you may need to restart the kernel to use updated packages.\n"
     ]
    }
   ],
   "source": [
    "pip install seaborn"
   ]
  },
  {
   "cell_type": "code",
   "execution_count": 5,
   "metadata": {},
   "outputs": [],
   "source": [
    "import numpy as np\n",
    "import pandas as pd\n",
    "import matplotlib.pyplot as plt\n",
    "import seaborn as sns\n",
    "sns.set_theme(style=\"white\")\n",
    "\n",
    "## Setting max displayed rows to 500, in order to display the full output of any command\n",
    "pd.set_option('display.max_rows', 500)\n",
    "pd.set_option('display.max_columns', 500)\n",
    "pd.set_option('display.width', 1000)"
   ]
  },
  {
   "cell_type": "code",
   "execution_count": 9,
   "metadata": {},
   "outputs": [],
   "source": []
  },
  {
   "cell_type": "code",
   "execution_count": 11,
   "metadata": {},
   "outputs": [
    {
     "name": "stdout",
     "output_type": "stream",
     "text": [
      "Collecting sklearn\n",
      "  Using cached sklearn-0.0.tar.gz (1.1 kB)\n",
      "Collecting scikit-learn\n",
      "  Downloading scikit_learn-0.24.2-cp39-cp39-macosx_10_13_x86_64.whl (7.3 MB)\n",
      "\u001b[K     |████████████████████████████████| 7.3 MB 2.9 MB/s eta 0:00:01\n",
      "\u001b[?25hRequirement already satisfied: scipy>=0.19.1 in /Users/marie/.pyenv/versions/3.9.5/envs/simplon/lib/python3.9/site-packages (from scikit-learn->sklearn) (1.7.0)\n",
      "Collecting joblib>=0.11\n",
      "  Downloading joblib-1.0.1-py3-none-any.whl (303 kB)\n",
      "\u001b[K     |████████████████████████████████| 303 kB 1.9 MB/s eta 0:00:01\n",
      "\u001b[?25hRequirement already satisfied: numpy>=1.13.3 in /Users/marie/.pyenv/versions/3.9.5/envs/simplon/lib/python3.9/site-packages (from scikit-learn->sklearn) (1.21.0)\n",
      "Collecting threadpoolctl>=2.0.0\n",
      "  Using cached threadpoolctl-2.1.0-py3-none-any.whl (12 kB)\n",
      "Using legacy 'setup.py install' for sklearn, since package 'wheel' is not installed.\n",
      "Installing collected packages: threadpoolctl, joblib, scikit-learn, sklearn\n",
      "    Running setup.py install for sklearn ... \u001b[?25ldone\n",
      "\u001b[?25hSuccessfully installed joblib-1.0.1 scikit-learn-0.24.2 sklearn-0.0 threadpoolctl-2.1.0\n",
      "Note: you may need to restart the kernel to use updated packages.\n"
     ]
    }
   ],
   "source": [
    "pip install sklearn"
   ]
  },
  {
   "cell_type": "code",
   "execution_count": 51,
   "metadata": {},
   "outputs": [],
   "source": [
    "from sklearn.model_selection import train_test_split, cross_validate, cross_val_score, GridSearchCV, RandomizedSearchCV\n",
    "\n",
    "from sklearn.preprocessing import MinMaxScaler, OneHotEncoder, OrdinalEncoder, StandardScaler\n",
    "\n",
    "from sklearn.impute import SimpleImputer\n",
    "\n",
    "from sklearn.pipeline import Pipeline, make_pipeline\n",
    "\n",
    "from sklearn.compose import ColumnTransformer\n",
    "\n",
    "# pour afficher les pipelines\n",
    "from sklearn import set_config\n",
    "set_config(display='diagram')"
   ]
  },
  {
   "cell_type": "markdown",
   "metadata": {},
   "source": [
    "# Fonctions de préparation"
   ]
  },
  {
   "cell_type": "code",
   "execution_count": 13,
   "metadata": {},
   "outputs": [],
   "source": [
    "def log_prep_train_data(df):\n",
    "    data = df.copy()\n",
    "    # passage en catégoriel d'une variable numérique\n",
    "    data[\"MSSubClass\"] = data[\"MSSubClass\"].astype(dtype=\"object\")\n",
    "    # log sur la target\n",
    "    data[\"Log_SalePrice\"] = np.log(data[\"SalePrice\"])\n",
    "    # outliers - drop des rows\n",
    "    outliers_index = data[(data['LotArea'] > 100000) |\n",
    "                (data[\"MasVnrArea\"] > 1500) |\n",
    "                (data['MiscVal']>6000) |\n",
    "                (data['3SsnPorch']>350) |\n",
    "                (data['EnclosedPorch']>400) |\n",
    "                (data['OpenPorchSF']>450) |\n",
    "                (data['1stFlrSF']>4000) |\n",
    "                (data['TotalBsmtSF']>5000) |\n",
    "                (data['GrLivArea']>4700)].index\n",
    "    data = data.drop(outliers_index)\n",
    "    # séparation X et y. Drop de LotFrontage où trop de valeurs manquantes\n",
    "    X = data.drop([\"Id\", \"LotFrontage\", \"SalePrice\", \"Log_SalePrice\"], axis=1)\n",
    "    y = data[\"Log_SalePrice\"]\n",
    "    return X, y"
   ]
  },
  {
   "cell_type": "code",
   "execution_count": 14,
   "metadata": {},
   "outputs": [],
   "source": [
    "def name_cols(X):\n",
    "    ordinal_cols = [\"LotShape\", \"Utilities\", \"LandSlope\", \"Neighborhood\", \"ExterQual\", \"ExterCond\", \"BsmtQual\", \"BsmtCond\", \n",
    "                \"BsmtExposure\", \"BsmtFinType1\", \"BsmtFinType2\", \"HeatingQC\", \"CentralAir\", \"KitchenQual\",\n",
    "               \"FireplaceQu\", \"GarageFinish\", \"GarageQual\", \"GarageCond\", \"PavedDrive\",\n",
    "               \"PoolQC\", \"Fence\"]\n",
    "    cat_cols = [col for col in X.columns if X[col].dtype == \"object\"]\n",
    "    ohe_cols = [col for col in cat_cols if col not in ordinal_cols]\n",
    "    num_cols = [col for col in X.columns if X[col].dtype in [\"int64\", \"float64\"]]\n",
    "    return ordinal_cols, cat_cols, ohe_cols, num_cols"
   ]
  },
  {
   "cell_type": "code",
   "execution_count": 15,
   "metadata": {},
   "outputs": [],
   "source": [
    "def prep_test_data(df):\n",
    "    data = df.copy()\n",
    "    data[\"MSSubClass\"] = data[\"MSSubClass\"].astype(dtype=\"object\")\n",
    "    X = data.drop([\"Id\", \"LotFrontage\"], axis=1)\n",
    "    return X"
   ]
  },
  {
   "cell_type": "markdown",
   "metadata": {},
   "source": [
    "# Chargement des données et utlisation des fonctions de préparation"
   ]
  },
  {
   "cell_type": "code",
   "execution_count": 18,
   "metadata": {},
   "outputs": [],
   "source": [
    "train_path = \"/Users/marie/Ecole_IA/Brief_5_PCA/data/train.csv\"\n",
    "train = pd.read_csv(train_path)\n",
    "\n",
    "test_path = \"/Users/marie/Ecole_IA/Brief_5_PCA/data/test.csv\"\n",
    "test = pd.read_csv(test_path)"
   ]
  },
  {
   "cell_type": "code",
   "execution_count": 19,
   "metadata": {},
   "outputs": [
    {
     "data": {
      "text/plain": [
       "(1446, 78)"
      ]
     },
     "execution_count": 19,
     "metadata": {},
     "output_type": "execute_result"
    }
   ],
   "source": [
    "X_train, y_train = log_prep_train_data(train)\n",
    "X_train.shape"
   ]
  },
  {
   "cell_type": "code",
   "execution_count": 20,
   "metadata": {},
   "outputs": [
    {
     "data": {
      "text/plain": [
       "(1459, 78)"
      ]
     },
     "execution_count": 20,
     "metadata": {},
     "output_type": "execute_result"
    }
   ],
   "source": [
    "X_test = prep_test_data(test)\n",
    "X_test.shape"
   ]
  },
  {
   "cell_type": "code",
   "execution_count": 24,
   "metadata": {},
   "outputs": [],
   "source": [
    "ordinal_cols, cat_cols, ohe_cols, num_cols = name_cols(X_test)\n",
    "assert len(ordinal_cols) + len(ohe_cols) + len(num_cols) == X_test.shape[1]\n",
    "assert len(ordinal_cols) + len(ohe_cols) == len(cat_cols)"
   ]
  },
  {
   "cell_type": "code",
   "execution_count": 26,
   "metadata": {},
   "outputs": [
    {
     "name": "stdout",
     "output_type": "stream",
     "text": [
      "23\n"
     ]
    }
   ],
   "source": [
    "print(len(ohe_cols))"
   ]
  },
  {
   "cell_type": "markdown",
   "metadata": {},
   "source": [
    "# Visualisation des problématiques de multicolinéarité que l'on peut chercher à résoudre avec la PCA\n",
    "Rajouter le VIF ?"
   ]
  },
  {
   "cell_type": "code",
   "execution_count": 57,
   "metadata": {},
   "outputs": [
    {
     "data": {
      "text/plain": [
       "<AxesSubplot:>"
      ]
     },
     "execution_count": 57,
     "metadata": {},
     "output_type": "execute_result"
    },
    {
     "data": {
      "image/png": "[encoded data removed]",
      "text/plain": [
       "<Figure size 792x648 with 2 Axes>"
      ]
     },
     "metadata": {},
     "output_type": "display_data"
    }
   ],
   "source": [
    "# Compute the correlation matrix\n",
    "corr = X_test.corr()\n",
    "\n",
    "# Generate a mask for the upper triangle\n",
    "# mask = np.triu(np.ones_like(corr, dtype=bool))\n",
    "\n",
    "# Set up the matplotlib figure\n",
    "f, ax = plt.subplots(figsize=(11, 9))\n",
    "\n",
    "# Generate a custom diverging colormap\n",
    "cmap = sns.diverging_palette(230, 20, as_cmap=True)\n",
    "\n",
    "# Draw the heatmap with the mask and correct aspect ratio\n",
    "sns.heatmap(corr, cmap=cmap, vmax=1, center=0,\n",
    "            square=True, linewidths=.5, cbar_kws={\"shrink\": .5})"
   ]
  },
  {
   "cell_type": "markdown",
   "metadata": {},
   "source": [
    "# Préprocessing"
   ]
  },
  {
   "cell_type": "markdown",
   "metadata": {},
   "source": [
    "## Préprocessing ordinal"
   ]
  },
  {
   "cell_type": "code",
   "execution_count": 27,
   "metadata": {},
   "outputs": [],
   "source": [
    "# ATTENTION FAIT APPEL AU DATAFRAME TRAIN (il ne faut pas qu'il fasse appel au test)\n",
    "\n",
    "# créer liste ordonnée des modalités de Neighborhood en fonction du prix de vente\n",
    "ordonned_neighborhood_df = train[[\"Neighborhood\", \"SalePrice\"]].groupby([\"Neighborhood\"], as_index=False).mean()\n",
    "ordonned_neighborhood_df = ordonned_neighborhood_df.sort_values(by=\"SalePrice\")\n",
    "\n",
    "ordonned_neighborhood = list(ordonned_neighborhood_df[\"Neighborhood\"])\n",
    "\n",
    "\n",
    "# listes ordonnées pour encodage ordinal : \n",
    "ordinal_codes = [[\"IR3\", \"IR2\", \"IR1\", \"Reg\"], \n",
    "        [\"ELO\", \"NoSeWa\", \"NoSewr\", \"AllPub\"], \n",
    "        [\"Sev\", \"Mod\", \"Gtl\"], \n",
    "        ordonned_neighborhood, \n",
    "        [\"Po\", \"Fa\", \"TA\", \"Gd\", \"Ex\"], \n",
    "        [\"Po\", \"Fa\", \"TA\", \"Gd\", \"Ex\"], \n",
    "        [\"Missing\", \"Po\", \"Fa\", \"TA\", \"Gd\", \"Ex\"], \n",
    "        [\"Missing\", \"Po\", \"Fa\", \"TA\", \"Gd\", \"Ex\"], \n",
    "        [\"Missing\", \"No\", \"Mn\", \"Av\", \"Gd\"], \n",
    "        [\"Missing\", \"Unf\", \"LwQ\", \"Rec\", \"BLQ\", \"ALQ\", \"GLQ\"], \n",
    "        [\"Missing\", \"Unf\", \"LwQ\", \"Rec\", \"BLQ\", \"ALQ\", \"GLQ\"], \n",
    "        [\"Po\", \"Fa\", \"TA\", \"Gd\", \"Ex\"],\n",
    "        [\"N\", \"Y\"], \n",
    "        [\"Po\", \"Fa\", \"TA\", \"Gd\", \"Ex\"],\n",
    "        [\"Missing\", \"Po\", \"Fa\", \"TA\", \"Gd\", \"Ex\"], \n",
    "        [\"Missing\", \"Unf\", \"RFn\", \"Fin\"], \n",
    "        [\"Missing\", \"Po\", \"Fa\", \"TA\", \"Gd\", \"Ex\"], \n",
    "        [\"Missing\", \"Po\", \"Fa\", \"TA\", \"Gd\", \"Ex\"], \n",
    "        [\"N\", \"P\", \"Y\"], \n",
    "        [\"Missing\", \"Fa\", \"TA\", \"Gd\", \"Ex\"], \n",
    "        [\"Missing\", \"MnWw\", \"GdWo\", \"MnPrv\", \"GdPrv\"]]\n",
    "assert len(ordinal_codes) == len(ordinal_cols)\n"
   ]
  },
  {
   "cell_type": "code",
   "execution_count": 42,
   "metadata": {},
   "outputs": [],
   "source": [
    "# imputer données manquantes :\n",
    "ordinal_imputer = SimpleImputer(strategy=\"constant\", fill_value=\"Missing\")\n",
    "X_train_ordinal_imputed = ordinal_imputer.fit_transform(X_train[ordinal_cols])"
   ]
  },
  {
   "cell_type": "code",
   "execution_count": 41,
   "metadata": {},
   "outputs": [
    {
     "data": {
      "text/html": [
       "<div>\n",
       "<style scoped>\n",
       "    .dataframe tbody tr th:only-of-type {\n",
       "        vertical-align: middle;\n",
       "    }\n",
       "\n",
       "    .dataframe tbody tr th {\n",
       "        vertical-align: top;\n",
       "    }\n",
       "\n",
       "    .dataframe thead th {\n",
       "        text-align: right;\n",
       "    }\n",
       "</style>\n",
       "<table border=\"1\" class=\"dataframe\">\n",
       "  <thead>\n",
       "    <tr style=\"text-align: right;\">\n",
       "      <th></th>\n",
       "      <th>LotShape</th>\n",
       "      <th>Utilities</th>\n",
       "      <th>LandSlope</th>\n",
       "      <th>Neighborhood</th>\n",
       "      <th>ExterQual</th>\n",
       "      <th>ExterCond</th>\n",
       "      <th>BsmtQual</th>\n",
       "      <th>BsmtCond</th>\n",
       "      <th>BsmtExposure</th>\n",
       "      <th>BsmtFinType1</th>\n",
       "      <th>BsmtFinType2</th>\n",
       "      <th>HeatingQC</th>\n",
       "      <th>CentralAir</th>\n",
       "      <th>KitchenQual</th>\n",
       "      <th>FireplaceQu</th>\n",
       "      <th>GarageFinish</th>\n",
       "      <th>GarageQual</th>\n",
       "      <th>GarageCond</th>\n",
       "      <th>PavedDrive</th>\n",
       "      <th>PoolQC</th>\n",
       "      <th>Fence</th>\n",
       "    </tr>\n",
       "  </thead>\n",
       "  <tbody>\n",
       "    <tr>\n",
       "      <th>0</th>\n",
       "      <td>3.0</td>\n",
       "      <td>3.0</td>\n",
       "      <td>2.0</td>\n",
       "      <td>16.0</td>\n",
       "      <td>3.0</td>\n",
       "      <td>2.0</td>\n",
       "      <td>4.0</td>\n",
       "      <td>3.0</td>\n",
       "      <td>1.0</td>\n",
       "      <td>6.0</td>\n",
       "      <td>1.0</td>\n",
       "      <td>4.0</td>\n",
       "      <td>1.0</td>\n",
       "      <td>3.0</td>\n",
       "      <td>0.0</td>\n",
       "      <td>2.0</td>\n",
       "      <td>3.0</td>\n",
       "      <td>3.0</td>\n",
       "      <td>2.0</td>\n",
       "      <td>0.0</td>\n",
       "      <td>0.0</td>\n",
       "    </tr>\n",
       "    <tr>\n",
       "      <th>1</th>\n",
       "      <td>3.0</td>\n",
       "      <td>3.0</td>\n",
       "      <td>2.0</td>\n",
       "      <td>20.0</td>\n",
       "      <td>2.0</td>\n",
       "      <td>2.0</td>\n",
       "      <td>4.0</td>\n",
       "      <td>3.0</td>\n",
       "      <td>4.0</td>\n",
       "      <td>5.0</td>\n",
       "      <td>1.0</td>\n",
       "      <td>4.0</td>\n",
       "      <td>1.0</td>\n",
       "      <td>2.0</td>\n",
       "      <td>3.0</td>\n",
       "      <td>2.0</td>\n",
       "      <td>3.0</td>\n",
       "      <td>3.0</td>\n",
       "      <td>2.0</td>\n",
       "      <td>0.0</td>\n",
       "      <td>0.0</td>\n",
       "    </tr>\n",
       "    <tr>\n",
       "      <th>2</th>\n",
       "      <td>2.0</td>\n",
       "      <td>3.0</td>\n",
       "      <td>2.0</td>\n",
       "      <td>16.0</td>\n",
       "      <td>3.0</td>\n",
       "      <td>2.0</td>\n",
       "      <td>4.0</td>\n",
       "      <td>3.0</td>\n",
       "      <td>2.0</td>\n",
       "      <td>6.0</td>\n",
       "      <td>1.0</td>\n",
       "      <td>4.0</td>\n",
       "      <td>1.0</td>\n",
       "      <td>3.0</td>\n",
       "      <td>3.0</td>\n",
       "      <td>2.0</td>\n",
       "      <td>3.0</td>\n",
       "      <td>3.0</td>\n",
       "      <td>2.0</td>\n",
       "      <td>0.0</td>\n",
       "      <td>0.0</td>\n",
       "    </tr>\n",
       "    <tr>\n",
       "      <th>3</th>\n",
       "      <td>2.0</td>\n",
       "      <td>3.0</td>\n",
       "      <td>2.0</td>\n",
       "      <td>17.0</td>\n",
       "      <td>2.0</td>\n",
       "      <td>2.0</td>\n",
       "      <td>3.0</td>\n",
       "      <td>4.0</td>\n",
       "      <td>1.0</td>\n",
       "      <td>5.0</td>\n",
       "      <td>1.0</td>\n",
       "      <td>3.0</td>\n",
       "      <td>1.0</td>\n",
       "      <td>3.0</td>\n",
       "      <td>4.0</td>\n",
       "      <td>1.0</td>\n",
       "      <td>3.0</td>\n",
       "      <td>3.0</td>\n",
       "      <td>2.0</td>\n",
       "      <td>0.0</td>\n",
       "      <td>0.0</td>\n",
       "    </tr>\n",
       "    <tr>\n",
       "      <th>4</th>\n",
       "      <td>2.0</td>\n",
       "      <td>3.0</td>\n",
       "      <td>2.0</td>\n",
       "      <td>24.0</td>\n",
       "      <td>3.0</td>\n",
       "      <td>2.0</td>\n",
       "      <td>4.0</td>\n",
       "      <td>3.0</td>\n",
       "      <td>3.0</td>\n",
       "      <td>6.0</td>\n",
       "      <td>1.0</td>\n",
       "      <td>4.0</td>\n",
       "      <td>1.0</td>\n",
       "      <td>3.0</td>\n",
       "      <td>3.0</td>\n",
       "      <td>2.0</td>\n",
       "      <td>3.0</td>\n",
       "      <td>3.0</td>\n",
       "      <td>2.0</td>\n",
       "      <td>0.0</td>\n",
       "      <td>0.0</td>\n",
       "    </tr>\n",
       "    <tr>\n",
       "      <th>...</th>\n",
       "      <td>...</td>\n",
       "      <td>...</td>\n",
       "      <td>...</td>\n",
       "      <td>...</td>\n",
       "      <td>...</td>\n",
       "      <td>...</td>\n",
       "      <td>...</td>\n",
       "      <td>...</td>\n",
       "      <td>...</td>\n",
       "      <td>...</td>\n",
       "      <td>...</td>\n",
       "      <td>...</td>\n",
       "      <td>...</td>\n",
       "      <td>...</td>\n",
       "      <td>...</td>\n",
       "      <td>...</td>\n",
       "      <td>...</td>\n",
       "      <td>...</td>\n",
       "      <td>...</td>\n",
       "      <td>...</td>\n",
       "      <td>...</td>\n",
       "    </tr>\n",
       "    <tr>\n",
       "      <th>1441</th>\n",
       "      <td>3.0</td>\n",
       "      <td>3.0</td>\n",
       "      <td>2.0</td>\n",
       "      <td>14.0</td>\n",
       "      <td>2.0</td>\n",
       "      <td>2.0</td>\n",
       "      <td>4.0</td>\n",
       "      <td>3.0</td>\n",
       "      <td>1.0</td>\n",
       "      <td>1.0</td>\n",
       "      <td>1.0</td>\n",
       "      <td>4.0</td>\n",
       "      <td>1.0</td>\n",
       "      <td>2.0</td>\n",
       "      <td>3.0</td>\n",
       "      <td>2.0</td>\n",
       "      <td>3.0</td>\n",
       "      <td>3.0</td>\n",
       "      <td>2.0</td>\n",
       "      <td>0.0</td>\n",
       "      <td>0.0</td>\n",
       "    </tr>\n",
       "    <tr>\n",
       "      <th>1442</th>\n",
       "      <td>3.0</td>\n",
       "      <td>3.0</td>\n",
       "      <td>2.0</td>\n",
       "      <td>13.0</td>\n",
       "      <td>2.0</td>\n",
       "      <td>2.0</td>\n",
       "      <td>4.0</td>\n",
       "      <td>3.0</td>\n",
       "      <td>1.0</td>\n",
       "      <td>5.0</td>\n",
       "      <td>3.0</td>\n",
       "      <td>2.0</td>\n",
       "      <td>1.0</td>\n",
       "      <td>2.0</td>\n",
       "      <td>3.0</td>\n",
       "      <td>1.0</td>\n",
       "      <td>3.0</td>\n",
       "      <td>3.0</td>\n",
       "      <td>2.0</td>\n",
       "      <td>0.0</td>\n",
       "      <td>3.0</td>\n",
       "    </tr>\n",
       "    <tr>\n",
       "      <th>1443</th>\n",
       "      <td>3.0</td>\n",
       "      <td>3.0</td>\n",
       "      <td>2.0</td>\n",
       "      <td>17.0</td>\n",
       "      <td>4.0</td>\n",
       "      <td>3.0</td>\n",
       "      <td>3.0</td>\n",
       "      <td>4.0</td>\n",
       "      <td>1.0</td>\n",
       "      <td>6.0</td>\n",
       "      <td>1.0</td>\n",
       "      <td>4.0</td>\n",
       "      <td>1.0</td>\n",
       "      <td>3.0</td>\n",
       "      <td>4.0</td>\n",
       "      <td>2.0</td>\n",
       "      <td>3.0</td>\n",
       "      <td>3.0</td>\n",
       "      <td>2.0</td>\n",
       "      <td>0.0</td>\n",
       "      <td>4.0</td>\n",
       "    </tr>\n",
       "    <tr>\n",
       "      <th>1444</th>\n",
       "      <td>3.0</td>\n",
       "      <td>3.0</td>\n",
       "      <td>2.0</td>\n",
       "      <td>10.0</td>\n",
       "      <td>2.0</td>\n",
       "      <td>2.0</td>\n",
       "      <td>3.0</td>\n",
       "      <td>3.0</td>\n",
       "      <td>2.0</td>\n",
       "      <td>6.0</td>\n",
       "      <td>3.0</td>\n",
       "      <td>3.0</td>\n",
       "      <td>1.0</td>\n",
       "      <td>3.0</td>\n",
       "      <td>0.0</td>\n",
       "      <td>1.0</td>\n",
       "      <td>3.0</td>\n",
       "      <td>3.0</td>\n",
       "      <td>2.0</td>\n",
       "      <td>0.0</td>\n",
       "      <td>0.0</td>\n",
       "    </tr>\n",
       "    <tr>\n",
       "      <th>1445</th>\n",
       "      <td>3.0</td>\n",
       "      <td>3.0</td>\n",
       "      <td>2.0</td>\n",
       "      <td>4.0</td>\n",
       "      <td>3.0</td>\n",
       "      <td>2.0</td>\n",
       "      <td>3.0</td>\n",
       "      <td>3.0</td>\n",
       "      <td>1.0</td>\n",
       "      <td>4.0</td>\n",
       "      <td>2.0</td>\n",
       "      <td>3.0</td>\n",
       "      <td>1.0</td>\n",
       "      <td>2.0</td>\n",
       "      <td>0.0</td>\n",
       "      <td>3.0</td>\n",
       "      <td>3.0</td>\n",
       "      <td>3.0</td>\n",
       "      <td>2.0</td>\n",
       "      <td>0.0</td>\n",
       "      <td>0.0</td>\n",
       "    </tr>\n",
       "  </tbody>\n",
       "</table>\n",
       "<p>1446 rows × 21 columns</p>\n",
       "</div>"
      ],
      "text/plain": [
       "      LotShape  Utilities  LandSlope  Neighborhood  ExterQual  ExterCond  BsmtQual  BsmtCond  BsmtExposure  BsmtFinType1  BsmtFinType2  HeatingQC  CentralAir  KitchenQual  FireplaceQu  GarageFinish  GarageQual  GarageCond  PavedDrive  PoolQC  Fence\n",
       "0          3.0        3.0        2.0          16.0        3.0        2.0       4.0       3.0           1.0           6.0           1.0        4.0         1.0          3.0          0.0           2.0         3.0         3.0         2.0     0.0    0.0\n",
       "1          3.0        3.0        2.0          20.0        2.0        2.0       4.0       3.0           4.0           5.0           1.0        4.0         1.0          2.0          3.0           2.0         3.0         3.0         2.0     0.0    0.0\n",
       "2          2.0        3.0        2.0          16.0        3.0        2.0       4.0       3.0           2.0           6.0           1.0        4.0         1.0          3.0          3.0           2.0         3.0         3.0         2.0     0.0    0.0\n",
       "3          2.0        3.0        2.0          17.0        2.0        2.0       3.0       4.0           1.0           5.0           1.0        3.0         1.0          3.0          4.0           1.0         3.0         3.0         2.0     0.0    0.0\n",
       "4          2.0        3.0        2.0          24.0        3.0        2.0       4.0       3.0           3.0           6.0           1.0        4.0         1.0          3.0          3.0           2.0         3.0         3.0         2.0     0.0    0.0\n",
       "...        ...        ...        ...           ...        ...        ...       ...       ...           ...           ...           ...        ...         ...          ...          ...           ...         ...         ...         ...     ...    ...\n",
       "1441       3.0        3.0        2.0          14.0        2.0        2.0       4.0       3.0           1.0           1.0           1.0        4.0         1.0          2.0          3.0           2.0         3.0         3.0         2.0     0.0    0.0\n",
       "1442       3.0        3.0        2.0          13.0        2.0        2.0       4.0       3.0           1.0           5.0           3.0        2.0         1.0          2.0          3.0           1.0         3.0         3.0         2.0     0.0    3.0\n",
       "1443       3.0        3.0        2.0          17.0        4.0        3.0       3.0       4.0           1.0           6.0           1.0        4.0         1.0          3.0          4.0           2.0         3.0         3.0         2.0     0.0    4.0\n",
       "1444       3.0        3.0        2.0          10.0        2.0        2.0       3.0       3.0           2.0           6.0           3.0        3.0         1.0          3.0          0.0           1.0         3.0         3.0         2.0     0.0    0.0\n",
       "1445       3.0        3.0        2.0           4.0        3.0        2.0       3.0       3.0           1.0           4.0           2.0        3.0         1.0          2.0          0.0           3.0         3.0         3.0         2.0     0.0    0.0\n",
       "\n",
       "[1446 rows x 21 columns]"
      ]
     },
     "execution_count": 41,
     "metadata": {},
     "output_type": "execute_result"
    }
   ],
   "source": [
    "# encoder feature catégorielles en ordinal :\n",
    "ordinal_encoder = OrdinalEncoder(categories = ordinal_codes, handle_unknown = \"use_encoded_value\", unknown_value=-1)\n",
    "# remettre dans un dataframe avec les noms de features\n",
    "X_train_ordinal_encoded = ordinal_encoder.fit_transform(X_train_ordinal_imputed)\n",
    "X_train_ordinal_encoded_df = pd.DataFrame(X_train_ordinal_encoded, columns = ordinal_cols) \n",
    "X_train_ordinal_encoded_df"
   ]
  },
  {
   "cell_type": "raw",
   "metadata": {},
   "source": [
    "# imputer données manquantes :\n",
    "ordinal_imputer = SimpleImputer(strategy=\"constant\", fill_value=\"Missing\")\n",
    "\n",
    "# encoder feature catégorielles en ordinal :\n",
    "ordinal_encoder = OrdinalEncoder(categories = ordinal_codes, handle_unknown = \"use_encoded_value\", unknown_value=-1)\n",
    "                                 \n",
    "# ORDINAL PIPELINE :\n",
    "ordinal_pipe = Pipeline([(\"ordinal_imputer\", ordinal_imputer), (\"ordinal_encoder\", ordinal_encoder)])"
   ]
  },
  {
   "cell_type": "markdown",
   "metadata": {},
   "source": [
    "## Préprocessing One Hot"
   ]
  },
  {
   "cell_type": "code",
   "execution_count": 45,
   "metadata": {},
   "outputs": [
    {
     "data": {
      "text/html": [
       "<div>\n",
       "<style scoped>\n",
       "    .dataframe tbody tr th:only-of-type {\n",
       "        vertical-align: middle;\n",
       "    }\n",
       "\n",
       "    .dataframe tbody tr th {\n",
       "        vertical-align: top;\n",
       "    }\n",
       "\n",
       "    .dataframe thead th {\n",
       "        text-align: right;\n",
       "    }\n",
       "</style>\n",
       "<table border=\"1\" class=\"dataframe\">\n",
       "  <thead>\n",
       "    <tr style=\"text-align: right;\">\n",
       "      <th></th>\n",
       "      <th>MSSubClass</th>\n",
       "      <th>MSZoning</th>\n",
       "      <th>Street</th>\n",
       "      <th>Alley</th>\n",
       "      <th>LandContour</th>\n",
       "      <th>LotConfig</th>\n",
       "      <th>Condition1</th>\n",
       "      <th>Condition2</th>\n",
       "      <th>BldgType</th>\n",
       "      <th>HouseStyle</th>\n",
       "      <th>RoofStyle</th>\n",
       "      <th>RoofMatl</th>\n",
       "      <th>Exterior1st</th>\n",
       "      <th>Exterior2nd</th>\n",
       "      <th>MasVnrType</th>\n",
       "      <th>Foundation</th>\n",
       "      <th>Heating</th>\n",
       "      <th>Electrical</th>\n",
       "      <th>Functional</th>\n",
       "      <th>GarageType</th>\n",
       "      <th>MiscFeature</th>\n",
       "      <th>SaleType</th>\n",
       "      <th>SaleCondition</th>\n",
       "    </tr>\n",
       "  </thead>\n",
       "  <tbody>\n",
       "    <tr>\n",
       "      <th>0</th>\n",
       "      <td>60</td>\n",
       "      <td>RL</td>\n",
       "      <td>Pave</td>\n",
       "      <td>Missing</td>\n",
       "      <td>Lvl</td>\n",
       "      <td>Inside</td>\n",
       "      <td>Norm</td>\n",
       "      <td>Norm</td>\n",
       "      <td>1Fam</td>\n",
       "      <td>2Story</td>\n",
       "      <td>Gable</td>\n",
       "      <td>CompShg</td>\n",
       "      <td>VinylSd</td>\n",
       "      <td>VinylSd</td>\n",
       "      <td>BrkFace</td>\n",
       "      <td>PConc</td>\n",
       "      <td>GasA</td>\n",
       "      <td>SBrkr</td>\n",
       "      <td>Typ</td>\n",
       "      <td>Attchd</td>\n",
       "      <td>Missing</td>\n",
       "      <td>WD</td>\n",
       "      <td>Normal</td>\n",
       "    </tr>\n",
       "    <tr>\n",
       "      <th>1</th>\n",
       "      <td>20</td>\n",
       "      <td>RL</td>\n",
       "      <td>Pave</td>\n",
       "      <td>Missing</td>\n",
       "      <td>Lvl</td>\n",
       "      <td>FR2</td>\n",
       "      <td>Feedr</td>\n",
       "      <td>Norm</td>\n",
       "      <td>1Fam</td>\n",
       "      <td>1Story</td>\n",
       "      <td>Gable</td>\n",
       "      <td>CompShg</td>\n",
       "      <td>MetalSd</td>\n",
       "      <td>MetalSd</td>\n",
       "      <td>None</td>\n",
       "      <td>CBlock</td>\n",
       "      <td>GasA</td>\n",
       "      <td>SBrkr</td>\n",
       "      <td>Typ</td>\n",
       "      <td>Attchd</td>\n",
       "      <td>Missing</td>\n",
       "      <td>WD</td>\n",
       "      <td>Normal</td>\n",
       "    </tr>\n",
       "    <tr>\n",
       "      <th>2</th>\n",
       "      <td>60</td>\n",
       "      <td>RL</td>\n",
       "      <td>Pave</td>\n",
       "      <td>Missing</td>\n",
       "      <td>Lvl</td>\n",
       "      <td>Inside</td>\n",
       "      <td>Norm</td>\n",
       "      <td>Norm</td>\n",
       "      <td>1Fam</td>\n",
       "      <td>2Story</td>\n",
       "      <td>Gable</td>\n",
       "      <td>CompShg</td>\n",
       "      <td>VinylSd</td>\n",
       "      <td>VinylSd</td>\n",
       "      <td>BrkFace</td>\n",
       "      <td>PConc</td>\n",
       "      <td>GasA</td>\n",
       "      <td>SBrkr</td>\n",
       "      <td>Typ</td>\n",
       "      <td>Attchd</td>\n",
       "      <td>Missing</td>\n",
       "      <td>WD</td>\n",
       "      <td>Normal</td>\n",
       "    </tr>\n",
       "    <tr>\n",
       "      <th>3</th>\n",
       "      <td>70</td>\n",
       "      <td>RL</td>\n",
       "      <td>Pave</td>\n",
       "      <td>Missing</td>\n",
       "      <td>Lvl</td>\n",
       "      <td>Corner</td>\n",
       "      <td>Norm</td>\n",
       "      <td>Norm</td>\n",
       "      <td>1Fam</td>\n",
       "      <td>2Story</td>\n",
       "      <td>Gable</td>\n",
       "      <td>CompShg</td>\n",
       "      <td>Wd Sdng</td>\n",
       "      <td>Wd Shng</td>\n",
       "      <td>None</td>\n",
       "      <td>BrkTil</td>\n",
       "      <td>GasA</td>\n",
       "      <td>SBrkr</td>\n",
       "      <td>Typ</td>\n",
       "      <td>Detchd</td>\n",
       "      <td>Missing</td>\n",
       "      <td>WD</td>\n",
       "      <td>Abnorml</td>\n",
       "    </tr>\n",
       "    <tr>\n",
       "      <th>4</th>\n",
       "      <td>60</td>\n",
       "      <td>RL</td>\n",
       "      <td>Pave</td>\n",
       "      <td>Missing</td>\n",
       "      <td>Lvl</td>\n",
       "      <td>FR2</td>\n",
       "      <td>Norm</td>\n",
       "      <td>Norm</td>\n",
       "      <td>1Fam</td>\n",
       "      <td>2Story</td>\n",
       "      <td>Gable</td>\n",
       "      <td>CompShg</td>\n",
       "      <td>VinylSd</td>\n",
       "      <td>VinylSd</td>\n",
       "      <td>BrkFace</td>\n",
       "      <td>PConc</td>\n",
       "      <td>GasA</td>\n",
       "      <td>SBrkr</td>\n",
       "      <td>Typ</td>\n",
       "      <td>Attchd</td>\n",
       "      <td>Missing</td>\n",
       "      <td>WD</td>\n",
       "      <td>Normal</td>\n",
       "    </tr>\n",
       "    <tr>\n",
       "      <th>...</th>\n",
       "      <td>...</td>\n",
       "      <td>...</td>\n",
       "      <td>...</td>\n",
       "      <td>...</td>\n",
       "      <td>...</td>\n",
       "      <td>...</td>\n",
       "      <td>...</td>\n",
       "      <td>...</td>\n",
       "      <td>...</td>\n",
       "      <td>...</td>\n",
       "      <td>...</td>\n",
       "      <td>...</td>\n",
       "      <td>...</td>\n",
       "      <td>...</td>\n",
       "      <td>...</td>\n",
       "      <td>...</td>\n",
       "      <td>...</td>\n",
       "      <td>...</td>\n",
       "      <td>...</td>\n",
       "      <td>...</td>\n",
       "      <td>...</td>\n",
       "      <td>...</td>\n",
       "      <td>...</td>\n",
       "    </tr>\n",
       "    <tr>\n",
       "      <th>1441</th>\n",
       "      <td>60</td>\n",
       "      <td>RL</td>\n",
       "      <td>Pave</td>\n",
       "      <td>Missing</td>\n",
       "      <td>Lvl</td>\n",
       "      <td>Inside</td>\n",
       "      <td>Norm</td>\n",
       "      <td>Norm</td>\n",
       "      <td>1Fam</td>\n",
       "      <td>2Story</td>\n",
       "      <td>Gable</td>\n",
       "      <td>CompShg</td>\n",
       "      <td>VinylSd</td>\n",
       "      <td>VinylSd</td>\n",
       "      <td>None</td>\n",
       "      <td>PConc</td>\n",
       "      <td>GasA</td>\n",
       "      <td>SBrkr</td>\n",
       "      <td>Typ</td>\n",
       "      <td>Attchd</td>\n",
       "      <td>Missing</td>\n",
       "      <td>WD</td>\n",
       "      <td>Normal</td>\n",
       "    </tr>\n",
       "    <tr>\n",
       "      <th>1442</th>\n",
       "      <td>20</td>\n",
       "      <td>RL</td>\n",
       "      <td>Pave</td>\n",
       "      <td>Missing</td>\n",
       "      <td>Lvl</td>\n",
       "      <td>Inside</td>\n",
       "      <td>Norm</td>\n",
       "      <td>Norm</td>\n",
       "      <td>1Fam</td>\n",
       "      <td>1Story</td>\n",
       "      <td>Gable</td>\n",
       "      <td>CompShg</td>\n",
       "      <td>Plywood</td>\n",
       "      <td>Plywood</td>\n",
       "      <td>Stone</td>\n",
       "      <td>CBlock</td>\n",
       "      <td>GasA</td>\n",
       "      <td>SBrkr</td>\n",
       "      <td>Min1</td>\n",
       "      <td>Attchd</td>\n",
       "      <td>Missing</td>\n",
       "      <td>WD</td>\n",
       "      <td>Normal</td>\n",
       "    </tr>\n",
       "    <tr>\n",
       "      <th>1443</th>\n",
       "      <td>70</td>\n",
       "      <td>RL</td>\n",
       "      <td>Pave</td>\n",
       "      <td>Missing</td>\n",
       "      <td>Lvl</td>\n",
       "      <td>Inside</td>\n",
       "      <td>Norm</td>\n",
       "      <td>Norm</td>\n",
       "      <td>1Fam</td>\n",
       "      <td>2Story</td>\n",
       "      <td>Gable</td>\n",
       "      <td>CompShg</td>\n",
       "      <td>CemntBd</td>\n",
       "      <td>CmentBd</td>\n",
       "      <td>None</td>\n",
       "      <td>Stone</td>\n",
       "      <td>GasA</td>\n",
       "      <td>SBrkr</td>\n",
       "      <td>Typ</td>\n",
       "      <td>Attchd</td>\n",
       "      <td>Shed</td>\n",
       "      <td>WD</td>\n",
       "      <td>Normal</td>\n",
       "    </tr>\n",
       "    <tr>\n",
       "      <th>1444</th>\n",
       "      <td>20</td>\n",
       "      <td>RL</td>\n",
       "      <td>Pave</td>\n",
       "      <td>Missing</td>\n",
       "      <td>Lvl</td>\n",
       "      <td>Inside</td>\n",
       "      <td>Norm</td>\n",
       "      <td>Norm</td>\n",
       "      <td>1Fam</td>\n",
       "      <td>1Story</td>\n",
       "      <td>Hip</td>\n",
       "      <td>CompShg</td>\n",
       "      <td>MetalSd</td>\n",
       "      <td>MetalSd</td>\n",
       "      <td>None</td>\n",
       "      <td>CBlock</td>\n",
       "      <td>GasA</td>\n",
       "      <td>FuseA</td>\n",
       "      <td>Typ</td>\n",
       "      <td>Attchd</td>\n",
       "      <td>Missing</td>\n",
       "      <td>WD</td>\n",
       "      <td>Normal</td>\n",
       "    </tr>\n",
       "    <tr>\n",
       "      <th>1445</th>\n",
       "      <td>20</td>\n",
       "      <td>RL</td>\n",
       "      <td>Pave</td>\n",
       "      <td>Missing</td>\n",
       "      <td>Lvl</td>\n",
       "      <td>Inside</td>\n",
       "      <td>Norm</td>\n",
       "      <td>Norm</td>\n",
       "      <td>1Fam</td>\n",
       "      <td>1Story</td>\n",
       "      <td>Gable</td>\n",
       "      <td>CompShg</td>\n",
       "      <td>HdBoard</td>\n",
       "      <td>HdBoard</td>\n",
       "      <td>None</td>\n",
       "      <td>CBlock</td>\n",
       "      <td>GasA</td>\n",
       "      <td>SBrkr</td>\n",
       "      <td>Typ</td>\n",
       "      <td>Attchd</td>\n",
       "      <td>Missing</td>\n",
       "      <td>WD</td>\n",
       "      <td>Normal</td>\n",
       "    </tr>\n",
       "  </tbody>\n",
       "</table>\n",
       "<p>1446 rows × 23 columns</p>\n",
       "</div>"
      ],
      "text/plain": [
       "     MSSubClass MSZoning Street    Alley LandContour LotConfig Condition1 Condition2 BldgType HouseStyle RoofStyle RoofMatl Exterior1st Exterior2nd MasVnrType Foundation Heating Electrical Functional GarageType MiscFeature SaleType SaleCondition\n",
       "0            60       RL   Pave  Missing         Lvl    Inside       Norm       Norm     1Fam     2Story     Gable  CompShg     VinylSd     VinylSd    BrkFace      PConc    GasA      SBrkr        Typ     Attchd     Missing       WD        Normal\n",
       "1            20       RL   Pave  Missing         Lvl       FR2      Feedr       Norm     1Fam     1Story     Gable  CompShg     MetalSd     MetalSd       None     CBlock    GasA      SBrkr        Typ     Attchd     Missing       WD        Normal\n",
       "2            60       RL   Pave  Missing         Lvl    Inside       Norm       Norm     1Fam     2Story     Gable  CompShg     VinylSd     VinylSd    BrkFace      PConc    GasA      SBrkr        Typ     Attchd     Missing       WD        Normal\n",
       "3            70       RL   Pave  Missing         Lvl    Corner       Norm       Norm     1Fam     2Story     Gable  CompShg     Wd Sdng     Wd Shng       None     BrkTil    GasA      SBrkr        Typ     Detchd     Missing       WD       Abnorml\n",
       "4            60       RL   Pave  Missing         Lvl       FR2       Norm       Norm     1Fam     2Story     Gable  CompShg     VinylSd     VinylSd    BrkFace      PConc    GasA      SBrkr        Typ     Attchd     Missing       WD        Normal\n",
       "...         ...      ...    ...      ...         ...       ...        ...        ...      ...        ...       ...      ...         ...         ...        ...        ...     ...        ...        ...        ...         ...      ...           ...\n",
       "1441         60       RL   Pave  Missing         Lvl    Inside       Norm       Norm     1Fam     2Story     Gable  CompShg     VinylSd     VinylSd       None      PConc    GasA      SBrkr        Typ     Attchd     Missing       WD        Normal\n",
       "1442         20       RL   Pave  Missing         Lvl    Inside       Norm       Norm     1Fam     1Story     Gable  CompShg     Plywood     Plywood      Stone     CBlock    GasA      SBrkr       Min1     Attchd     Missing       WD        Normal\n",
       "1443         70       RL   Pave  Missing         Lvl    Inside       Norm       Norm     1Fam     2Story     Gable  CompShg     CemntBd     CmentBd       None      Stone    GasA      SBrkr        Typ     Attchd        Shed       WD        Normal\n",
       "1444         20       RL   Pave  Missing         Lvl    Inside       Norm       Norm     1Fam     1Story       Hip  CompShg     MetalSd     MetalSd       None     CBlock    GasA      FuseA        Typ     Attchd     Missing       WD        Normal\n",
       "1445         20       RL   Pave  Missing         Lvl    Inside       Norm       Norm     1Fam     1Story     Gable  CompShg     HdBoard     HdBoard       None     CBlock    GasA      SBrkr        Typ     Attchd     Missing       WD        Normal\n",
       "\n",
       "[1446 rows x 23 columns]"
      ]
     },
     "execution_count": 45,
     "metadata": {},
     "output_type": "execute_result"
    }
   ],
   "source": [
    "# imputer données manquantes :\n",
    "ohe_imputer = SimpleImputer(strategy=\"constant\", fill_value=\"Missing\")\n",
    "X_train_ohe_imputed = ohe_imputer.fit_transform(X_train[ohe_cols])\n",
    "X_train_ohe_imputed_df = pd.DataFrame(X_train_ohe_imputed, columns = ohe_cols)\n",
    "X_train_ohe_imputed_df"
   ]
  },
  {
   "cell_type": "code",
   "execution_count": 49,
   "metadata": {},
   "outputs": [
    {
     "data": {
      "text/plain": [
       "(1446, 162)"
      ]
     },
     "execution_count": 49,
     "metadata": {},
     "output_type": "execute_result"
    }
   ],
   "source": [
    "# encoder features catégorielles avec get_dummies pour conserver noms des features :\n",
    "X_train_ohe_encoded_df = pd.get_dummies(X_train_ohe_imputed_df)\n",
    "X_train_ohe_encoded_df.shape"
   ]
  },
  {
   "cell_type": "raw",
   "metadata": {},
   "source": [
    "# imputer données manquantes :\n",
    "ohe_imputer = SimpleImputer(strategy=\"constant\", fill_value=\"Missing\")\n",
    "\n",
    "# encoder features catégorielles en one hot :\n",
    "ohe_encoder = OneHotEncoder(handle_unknown=\"ignore\")\n",
    "\n",
    "# OHE PIPELINE :\n",
    "ohe_pipe = Pipeline([(\"ohe_imputer\", ohe_imputer), (\"ohe_encoder\", ohe_encoder)])"
   ]
  },
  {
   "cell_type": "markdown",
   "metadata": {},
   "source": [
    "## Préprocessing Numérique"
   ]
  },
  {
   "cell_type": "code",
   "execution_count": 67,
   "metadata": {},
   "outputs": [],
   "source": [
    "# imputer données manquantes :\n",
    "num_imputer = SimpleImputer(strategy=\"constant\", fill_value=0)\n",
    "X_train_num_imputed = num_imputer.fit_transform(X_train[num_cols])\n",
    "X_train_num_imputed_df = pd.DataFrame(X_train_num_imputed, columns = num_cols)"
   ]
  },
  {
   "cell_type": "markdown",
   "metadata": {},
   "source": [
    "**Deux possibilités à tester pour scaler les variables numériques (contrainte ==> centrées autour de 0) :**\n",
    "- Contrainte : données centrées autour de 0\n",
    "- Normalement fait directement par la méthode PCA de sklearn\n",
    "- A tester :\n",
    "    - StandardScaler\n",
    "    - Soustraction de la moyenne à chaque ligne (voir livre ML)\n",
    "    - Ne rien faire pour voir comment se comporte la méthode sklearn"
   ]
  },
  {
   "cell_type": "code",
   "execution_count": 58,
   "metadata": {},
   "outputs": [
    {
     "data": {
      "text/plain": [
       "(1446, 34)"
      ]
     },
     "execution_count": 58,
     "metadata": {},
     "output_type": "execute_result"
    }
   ],
   "source": [
    "# StandardScaler :\n",
    "num_scaler = StandardScaler()\n",
    "X_train_num_scaled = num_scaler.fit_transform(X_train_num_imputed)\n",
    "X_train_num_scaled_df = pd.DataFrame(X_train_num_scaled, columns = num_cols)\n",
    "X_train_num_scaled_df.shape"
   ]
  },
  {
   "cell_type": "markdown",
   "metadata": {},
   "source": [
    "# COURS PCA"
   ]
  },
  {
   "cell_type": "markdown",
   "metadata": {},
   "source": [
    "### LIENS Utiles\n",
    "- https://www.kaggle.com/hassanamin/principal-component-analysis-with-code-examples/notebook\n",
    "- https://www.kaggle.com/vipulgandhi/pca-beginner-s-guide-to-dimensionality-reduction ==> TOP pour cours. Reprend les bases du bouquin ML et va plus loin (eigenvalues). J'ai téléchargé le notebook.\n",
    "- https://www.kaggle.com/miguelangelnieto/pca-and-regression : exemple avec Sales Prices\n"
   ]
  },
  {
   "cell_type": "markdown",
   "metadata": {},
   "source": [
    "### Intérêt de la PCA\n",
    "\n",
    "### Points de vigilance\n",
    "- ne fonctionne que sur les variables quantitatives continues ==> pas de catégorielles\n",
    "- ne fonctionne que sur des données centrées autour de 0 (la PCA de sklearn se charge de le faire)\n",
    "\n",
    "\n",
    "### Mise en oeuvre de la PCA (théorie)\n",
    "\n",
    "<br><br>**1) On détermine les vecteurs supports des axes :**\n",
    "- Le premier axe est celui pour lequel la projection des variables sur cet axe conserve la plus grande part de variance (on peut aussi dire qu'il s'agit de l'axe qui minimise la moyenne du carré des distances entre les données d'origine et leurs projections)\n",
    "- Ensuite on passe au second axe, orthogonal au premier, qui contribue le plus à la variance résiduelle. Et ainsi de suite jusqu'à ce qu'il ne reste plus de variance résiduelle à expliquer.\n",
    "\n",
    "<br><br> **2) On détermine le nombre de dimensions :**\n",
    "- L'objectif est ensuite de déterminer le nombre d'axes à choisir pour conserver (représenter) le max de la variance du dataset (ie perdre le moins d'information) tout en parvenant à l'objectif de réduction de la dimensionnalité. Pour ca on utilise sous sklearn les outils **d'explained_variance_ratio** et la **pca.get_covariance**  "
   ]
  },
  {
   "cell_type": "markdown",
   "metadata": {},
   "source": [
    "# PCA sur les features numériques"
   ]
  },
  {
   "cell_type": "markdown",
   "metadata": {},
   "source": [
    "## Identification des composantes principales"
   ]
  },
  {
   "cell_type": "code",
   "execution_count": 62,
   "metadata": {},
   "outputs": [
    {
     "data": {
      "text/plain": [
       "array([ 0.15281504,  0.30807113, -0.07878004,  0.23414915,  0.20454417,\n",
       "        0.20108688,  0.12935609, -0.01192562,  0.12066889,  0.25769036,\n",
       "        0.25798692,  0.14304685, -0.01691441,  0.30964926,  0.06836545,\n",
       "       -0.01187418,  0.26562848,  0.13325081,  0.12104078, -0.01796215,\n",
       "        0.25060462,  0.19164872,  0.1526448 ,  0.29973954,  0.2873855 ,\n",
       "        0.13918593,  0.15744039, -0.07587539,  0.01876706,  0.03688836,\n",
       "        0.02753927, -0.02316121,  0.02946443, -0.01555765])"
      ]
     },
     "execution_count": 62,
     "metadata": {},
     "output_type": "execute_result"
    }
   ],
   "source": [
    "# PCA sur le X numérique - méthode en utilisant numpy\n",
    "# on prend le X numérique scalé autour de 0 grâce au standard scaler\n",
    "X_train_num_scaled_array = X_train_num_scaled_df.values\n",
    "U, s, Vt = np.linalg.svd(X_train_num_scaled_array) # svd = Singular Value Decomposition. \n",
    "# svd : c'est l'équation de décomposition de la matrice X qui permet d'en extraire la matrice de composantes principales\n",
    "c1 = Vt.T[:, 0] # vecteur unitaire définissant la première composante principale\n",
    "c2 = Vt.T[:, 1] # et la seconde CP\n",
    "c1"
   ]
  },
  {
   "cell_type": "markdown",
   "metadata": {},
   "source": [
    "## Projection  sur d dimensions"
   ]
  },
  {
   "cell_type": "code",
   "execution_count": 72,
   "metadata": {},
   "outputs": [
    {
     "data": {
      "text/plain": [
       "array([[ 1.33565549, -0.36337859],\n",
       "       [-0.03938682,  1.07449678],\n",
       "       [ 1.59390182, -0.23657424],\n",
       "       ...,\n",
       "       [ 0.73174742, -3.38241878],\n",
       "       [-2.62654107,  1.98717071],\n",
       "       [-0.75058771,  1.51585464]])"
      ]
     },
     "execution_count": 72,
     "metadata": {},
     "output_type": "execute_result"
    }
   ],
   "source": [
    "# matrice des deux vecteurs supports des deux premières CP\n",
    "W2 = Vt.T[:, :2]\n",
    "# produit scalaire de X avec cette matrice\n",
    "X2D = X_train_num_scaled_array.dot(W2)\n",
    "X2D # shape = (1446, 2) => on a réduit notre jeu de données à 2 dimensions"
   ]
  },
  {
   "cell_type": "code",
   "execution_count": 66,
   "metadata": {},
   "outputs": [
    {
     "data": {
      "text/plain": [
       "(1446, 4)"
      ]
     },
     "execution_count": 66,
     "metadata": {},
     "output_type": "execute_result"
    }
   ],
   "source": [
    "# matrice des deux vecteurs supports des 4 premières CP\n",
    "W4 = Vt.T[:, :4]\n",
    "# produit scalaire de X avec cette matrice\n",
    "X4D = X_train_num_scaled_array.dot(W4)\n",
    "X4D.shape # shape = (1446, 2) => on a réduit notre jeu de données à 4 dimensions"
   ]
  },
  {
   "cell_type": "markdown",
   "metadata": {},
   "source": [
    "# Utilisation de SKLearn et choix éclairé du nombre de dimensions"
   ]
  },
  {
   "cell_type": "markdown",
   "metadata": {},
   "source": [
    "## PCA.fit_transform"
   ]
  },
  {
   "cell_type": "code",
   "execution_count": 71,
   "metadata": {},
   "outputs": [
    {
     "data": {
      "text/plain": [
       "array([[-1584.08208592,    59.67196805],\n",
       "       [ -433.97461225,   -66.67838704],\n",
       "       [ 1215.22196465,    87.42532106],\n",
       "       ...,\n",
       "       [ -962.36352338,   774.73833563],\n",
       "       [ -349.5166804 ,  -614.36266381],\n",
       "       [ -100.14795721,  -182.76914229]])"
      ]
     },
     "execution_count": 71,
     "metadata": {},
     "output_type": "execute_result"
    }
   ],
   "source": [
    "from sklearn.decomposition import PCA\n",
    "pca = PCA(n_components = 2)\n",
    "X2D_V2 = pca.fit_transform(X_train_num_imputed_df)\n",
    "X2D_V2"
   ]
  },
  {
   "cell_type": "code",
   "execution_count": 74,
   "metadata": {},
   "outputs": [
    {
     "data": {
      "text/plain": [
       "array([[ 1.33565572,  0.36329267],\n",
       "       [-0.03938501, -1.07451034],\n",
       "       [ 1.59390149,  0.23661656],\n",
       "       ...,\n",
       "       [ 0.73174795,  3.38308967],\n",
       "       [-2.62654111, -1.98718331],\n",
       "       [-0.75058753, -1.515771  ]])"
      ]
     },
     "execution_count": 74,
     "metadata": {},
     "output_type": "execute_result"
    }
   ],
   "source": [
    "X2D_V3 = pca.fit_transform(X_train_num_scaled_df)\n",
    "X2D_V3 # identique au résultat du calcul fait avec numpy."
   ]
  },
  {
   "cell_type": "markdown",
   "metadata": {},
   "source": [
    "## Exploration des paramètres et méthodes de la PCA"
   ]
  },
  {
   "cell_type": "markdown",
   "metadata": {},
   "source": [
    "### Identification du nombre de dimensions permettant de contribuer à 95% de la variance des features\n",
    "- Matrice de covariance des features : vecteurs propres correspondent aux composantes principales, valeurs propres correspondent au % de variance du modèle contenu dans la composante principale.\n",
    "- **pca.explained_variance_ratio_** renvoie un array de ces valeurs propres. On peut en faire la somme cumulative pour voir l'évolution de la proportion de variance totale expliquée par le modèle au fur et à mesure de l'ajout des dimensions.\n",
    "- on peut ploter cette somme cumulative de la pca_explained_variance_ratio pour identifier le nombre oprimal de dimensions (au moment où on a une cassure sur la courbe)\n"
   ]
  },
  {
   "cell_type": "code",
   "execution_count": 81,
   "metadata": {},
   "outputs": [
    {
     "data": {
      "text/plain": [
       "array([2.00861900e-01, 9.24689598e-02, 6.16406868e-02, 5.66791642e-02,\n",
       "       4.25313571e-02, 3.78506409e-02, 3.49621356e-02, 3.40989216e-02,\n",
       "       3.34680240e-02, 3.18475688e-02, 3.15160739e-02, 2.98593305e-02,\n",
       "       2.84206577e-02, 2.77453354e-02, 2.64772128e-02, 2.51348446e-02,\n",
       "       2.43170786e-02, 2.25050137e-02, 2.12758914e-02, 1.93143663e-02,\n",
       "       1.88905602e-02, 1.73825491e-02, 1.66442545e-02, 1.12779781e-02,\n",
       "       1.03339069e-02, 9.44019912e-03, 8.40108115e-03, 7.68480360e-03,\n",
       "       5.79906981e-03, 4.41872995e-03, 3.92318747e-03, 2.82851610e-03,\n",
       "       3.96130251e-32, 5.24522257e-33])"
      ]
     },
     "execution_count": 81,
     "metadata": {},
     "output_type": "execute_result"
    }
   ],
   "source": [
    "pca = PCA() # on instancie sans fixer le n_components\n",
    "pca.fit(X_train_num_scaled_df)\n",
    "pca.explained_variance_ratio_"
   ]
  },
  {
   "cell_type": "code",
   "execution_count": 96,
   "metadata": {},
   "outputs": [
    {
     "name": "stdout",
     "output_type": "stream",
     "text": [
      "la première composante principale explique: 20 % de la variance\n",
      "la seconde composante principale explique: 9 % de la variance\n",
      "la troisième composante principale explique: 6 % de la variance\n",
      "======================================================================\n",
      "les 3 premières composantes principales expliquent: 35 % de la variance\n"
     ]
    }
   ],
   "source": [
    "print(\"la première composante principale explique:\", int(round(pca.explained_variance_ratio_[0],2)*100),\"% de la variance\")\n",
    "print(\"la seconde composante principale explique:\", int(round(pca.explained_variance_ratio_[1],2)*100),\"% de la variance\")\n",
    "print(\"la troisième composante principale explique:\", int(round(pca.explained_variance_ratio_[2],2)*100),\"% de la variance\")\n",
    "print(\"==\"*35)\n",
    "print(\"les 3 premières composantes principales expliquent:\", int(round(pca.explained_variance_ratio_[0:3].sum(),2)*100),\"% de la variance\")"
   ]
  },
  {
   "cell_type": "code",
   "execution_count": 83,
   "metadata": {},
   "outputs": [
    {
     "data": {
      "text/plain": [
       "array([0.2008619 , 0.29333086, 0.35497155, 0.41165071, 0.45418207,\n",
       "       0.49203271, 0.52699484, 0.56109377, 0.59456179, 0.62640936,\n",
       "       0.65792543, 0.68778476, 0.71620542, 0.74395076, 0.77042797,\n",
       "       0.79556281, 0.81987989, 0.84238491, 0.8636608 , 0.88297516,\n",
       "       0.90186572, 0.91924827, 0.93589253, 0.94717051, 0.95750441,\n",
       "       0.96694461, 0.97534569, 0.9830305 , 0.98882957, 0.9932483 ,\n",
       "       0.99717148, 1.        , 1.        , 1.        ])"
      ]
     },
     "execution_count": 83,
     "metadata": {},
     "output_type": "execute_result"
    }
   ],
   "source": [
    "cumsum = np.cumsum(pca.explained_variance_ratio_)\n",
    "cumsum"
   ]
  },
  {
   "cell_type": "code",
   "execution_count": 89,
   "metadata": {},
   "outputs": [
    {
     "data": {
      "text/plain": [
       "25"
      ]
     },
     "execution_count": 89,
     "metadata": {},
     "output_type": "execute_result"
    }
   ],
   "source": [
    "d = np.argmax(cumsum >= 0.95) + 1\n",
    "d # nombre de dimensions pour lesquelles la variance est au total de plus de 95%"
   ]
  },
  {
   "cell_type": "code",
   "execution_count": 90,
   "metadata": {},
   "outputs": [
    {
     "data": {
      "text/plain": [
       "array([[ 1.33565549,  0.36337859, -0.34952978, ...,  0.17635637,\n",
       "         0.1218418 , -0.07689826],\n",
       "       [-0.03938682, -1.07449678,  0.9348292 , ..., -0.56155494,\n",
       "         0.36450873, -0.14245181],\n",
       "       [ 1.59390182,  0.23657424, -0.43993254, ...,  0.7079971 ,\n",
       "        -0.3784877 ,  0.11480332],\n",
       "       ...,\n",
       "       [ 0.73174742,  3.38241878,  2.44769949, ...,  0.7505057 ,\n",
       "         0.68311557, -0.36181495],\n",
       "       [-2.62654107, -1.98717071,  2.02793535, ..., -0.28067519,\n",
       "        -0.0778855 , -0.46916738],\n",
       "       [-0.75058771, -1.51585464,  2.23693891, ..., -0.64745102,\n",
       "         0.25855302, -0.94030788]])"
      ]
     },
     "execution_count": 90,
     "metadata": {},
     "output_type": "execute_result"
    }
   ],
   "source": [
    "pca = PCA(n_components = d)\n",
    "X_reduced = pca.fit_transform(X_train_num_scaled_df)\n",
    "X_reduced"
   ]
  },
  {
   "cell_type": "markdown",
   "metadata": {},
   "source": [
    "### Représentation graphique de cumsum"
   ]
  },
  {
   "cell_type": "code",
   "execution_count": 93,
   "metadata": {},
   "outputs": [
    {
     "data": {
      "image/png": "[encoded data removed]",
      "text/plain": [
       "<Figure size 432x288 with 1 Axes>"
      ]
     },
     "metadata": {},
     "output_type": "display_data"
    }
   ],
   "source": [
    "# code du livre d'A Géron\n",
    "plt.figure(figsize=(6,4))\n",
    "plt.plot(cumsum, linewidth=3)\n",
    "plt.axis([0, X_train_num_scaled_df.shape[1], 0, 1])\n",
    "plt.xlabel(\"Dimensions\")\n",
    "plt.ylabel(\"Explained Variance\")\n",
    "plt.plot([d, d], [0, 0.95], \"k:\")\n",
    "plt.plot([0, d], [0.95, 0.95], \"k:\")\n",
    "plt.plot(d, 0.95, \"ko\")\n",
    "#plt.annotate(\"Elbow\", xy=(65, 0.85), xytext=(70, 0.7),\n",
    "             #arrowprops=dict(arrowstyle=\"->\"), fontsize=16)\n",
    "plt.grid(True)\n",
    "plt.show()"
   ]
  },
  {
   "cell_type": "markdown",
   "metadata": {},
   "source": [
    "### Autre représentation graphique :"
   ]
  },
  {
   "cell_type": "code",
   "execution_count": 98,
   "metadata": {},
   "outputs": [
    {
     "data": {
      "text/plain": [
       "array([[ 1.52815040e-01,  3.08071125e-01, -7.87800403e-02,\n",
       "         2.34149153e-01,  2.04544167e-01,  2.01086876e-01,\n",
       "         1.29356094e-01, -1.19256167e-02,  1.20668885e-01,\n",
       "         2.57690365e-01,  2.57986923e-01,  1.43046845e-01,\n",
       "        -1.69144121e-02,  3.09649260e-01,  6.83654548e-02,\n",
       "        -1.18741831e-02,  2.65628479e-01,  1.33250807e-01,\n",
       "         1.21040783e-01, -1.79621517e-02,  2.50604621e-01,\n",
       "         1.91648716e-01,  1.52644801e-01,  2.99739541e-01,\n",
       "         2.87385498e-01,  1.39185928e-01,  1.57440393e-01,\n",
       "        -7.58753866e-02,  1.87670607e-02,  3.68883581e-02,\n",
       "         2.75392711e-02, -2.31612108e-02,  2.94644295e-02,\n",
       "        -1.55576507e-02],\n",
       "       [-2.94798502e-03, -3.28138437e-02,  5.12426960e-02,\n",
       "        -1.94661323e-01, -8.34870673e-02, -3.24498143e-02,\n",
       "        -3.27012225e-01, -7.64624781e-02,  1.43949892e-01,\n",
       "        -2.17567599e-01, -1.56993591e-01,  4.14561250e-01,\n",
       "         1.27765739e-01,  2.49486560e-01, -3.14446901e-01,\n",
       "        -8.42544778e-03,  1.47916134e-01,  2.06687886e-01,\n",
       "         3.68156526e-01,  1.64388268e-01,  3.25880066e-01,\n",
       "        -6.32475534e-03, -1.18389041e-01, -9.84353793e-02,\n",
       "        -1.26490007e-01, -7.26760501e-02,  3.01693384e-02,\n",
       "         1.11251424e-01, -3.09648788e-02, -5.14000418e-03,\n",
       "         1.72456919e-02,  3.07510897e-02,  2.44412774e-02,\n",
       "        -3.17654901e-02],\n",
       "       [ 2.85853121e-01, -1.22966033e-01,  1.58547792e-01,\n",
       "        -2.94651440e-01, -2.36835779e-01,  1.28251281e-02,\n",
       "         3.54227844e-01,  2.10422770e-01, -3.72462695e-01,\n",
       "         5.57125124e-02,  1.44942729e-01,  5.68084280e-02,\n",
       "         1.04874114e-01,  1.64620240e-01,  3.28956162e-01,\n",
       "         7.23391590e-02, -1.17478301e-01,  3.40304328e-03,\n",
       "         1.66445551e-01,  9.53799077e-02,  1.58188252e-01,\n",
       "         2.15470894e-01, -1.10279657e-01, -1.37570778e-01,\n",
       "        -9.30858097e-02,  1.08086093e-01, -1.59607586e-02,\n",
       "         1.32930772e-01,  6.11002234e-03,  1.67188422e-01,\n",
       "         1.21235260e-01,  1.10613202e-01, -1.03963138e-02,\n",
       "         3.36445521e-02],\n",
       "       [ 1.11855816e-01, -5.09668396e-02, -1.06285720e-01,\n",
       "        -1.64391297e-01, -1.57282189e-01, -1.61744605e-02,\n",
       "        -1.26594100e-01,  1.64414610e-02,  4.29738768e-01,\n",
       "         3.29004303e-01,  3.94110939e-01, -3.28060827e-01,\n",
       "         1.13032410e-01,  2.08239154e-02, -1.37041507e-01,\n",
       "        -3.68465772e-02,  5.17159549e-02, -4.27135255e-01,\n",
       "         7.64979630e-02,  2.30900626e-01,  7.89152520e-02,\n",
       "        -1.13843685e-02, -1.55292375e-01, -6.65364759e-02,\n",
       "        -3.62686353e-02, -8.14176006e-02, -6.29072656e-02,\n",
       "         1.44308310e-01, -2.58812116e-02, -9.94862588e-03,\n",
       "        -2.25000812e-02, -1.67487016e-02,  3.12914825e-02,\n",
       "        -4.01483412e-02],\n",
       "       [-1.57541682e-01, -3.12205691e-02, -3.43010425e-01,\n",
       "         1.97555333e-01,  8.30907300e-02,  5.62209233e-02,\n",
       "         2.12601527e-01, -1.85141612e-01, -1.38468571e-01,\n",
       "         3.73539820e-03, -4.35738907e-03,  3.42109803e-02,\n",
       "         4.29471214e-02,  2.99359007e-02,  2.85476009e-01,\n",
       "        -2.81117219e-01,  1.92803601e-01,  9.95919451e-03,\n",
       "         5.98535065e-02,  3.45390184e-01,  8.38927621e-02,\n",
       "        -2.07568820e-01, -3.95448939e-01, -1.51854023e-01,\n",
       "        -1.59608670e-01,  1.55766870e-02,  2.33122422e-02,\n",
       "        -1.44521478e-01, -5.37827353e-02, -2.79542949e-01,\n",
       "        -4.85830145e-02, -1.90942966e-02, -9.48270000e-02,\n",
       "         1.21351048e-01],\n",
       "       [-4.38323541e-02,  1.56304003e-01,  2.48458687e-01,\n",
       "         8.62502832e-02,  3.16838702e-01, -5.55222152e-02,\n",
       "        -2.27254051e-02,  5.29918923e-02,  1.17122117e-01,\n",
       "         1.20568860e-01,  4.15767029e-02, -3.76040761e-02,\n",
       "         2.47811381e-01,  2.17215661e-02, -4.14305548e-02,\n",
       "         1.50276245e-01,  3.99128641e-02,  1.56381111e-02,\n",
       "        -6.92880110e-02, -3.09687178e-01, -5.36398831e-02,\n",
       "         8.44979609e-02, -4.28901812e-01, -3.02962206e-01,\n",
       "        -3.05925912e-01,  1.38929155e-01,  2.68172961e-01,\n",
       "        -2.18200024e-01,  1.03930838e-01,  9.98886096e-02,\n",
       "         1.24021362e-01,  4.46986321e-02,  1.23438714e-01,\n",
       "        -7.73546789e-02],\n",
       "       [-3.00132276e-02,  7.36364847e-02,  2.77360637e-01,\n",
       "        -4.95490899e-02,  1.97313706e-01, -2.93542536e-02,\n",
       "        -1.07310373e-01,  8.61638686e-02,  1.02009015e-01,\n",
       "         2.92802264e-02,  1.91984831e-02,  4.75825795e-03,\n",
       "         5.38279656e-02,  2.31876711e-02,  1.62353530e-02,\n",
       "        -1.90053819e-01,  2.79009943e-02, -4.49229490e-02,\n",
       "        -3.84064615e-02, -7.68750409e-02,  1.94126775e-02,\n",
       "        -5.52680143e-03,  2.04045157e-02, -2.14567036e-03,\n",
       "         1.07884359e-02,  1.02402156e-01, -1.15741933e-01,\n",
       "         1.41978679e-01, -4.39063211e-02, -8.40533536e-03,\n",
       "        -2.27935741e-02,  1.96304621e-01, -5.31255858e-01,\n",
       "         6.52405159e-01],\n",
       "       [-4.62628474e-03,  1.97875438e-02, -3.59853985e-01,\n",
       "         5.65722805e-02, -1.74922021e-01, -2.94557816e-02,\n",
       "        -1.22261452e-01,  1.94464738e-01,  8.76512748e-02,\n",
       "         4.01492900e-02, -3.78509080e-02,  1.12968385e-02,\n",
       "         1.15495400e-01, -7.37751606e-03,  5.43396695e-02,\n",
       "        -4.25654380e-01, -9.18535274e-02,  1.71411150e-01,\n",
       "        -8.70847991e-02, -1.76929041e-01, -6.33649348e-02,\n",
       "         1.46510312e-01, -2.40892288e-02, -3.13464717e-02,\n",
       "        -3.74713832e-02, -1.61629083e-01,  1.67086597e-01,\n",
       "        -3.86551964e-02, -4.26245604e-01,  4.03813163e-01,\n",
       "         2.08045181e-01, -7.24617117e-04, -1.45780103e-01,\n",
       "        -6.55999294e-02],\n",
       "       [-4.65429153e-02, -7.64100571e-02, -4.16695278e-02,\n",
       "         1.19699684e-01,  1.35189264e-02, -5.96975685e-02,\n",
       "        -5.41038851e-02,  3.15625809e-02, -1.77690635e-02,\n",
       "        -6.29851176e-02, -1.48133755e-04, -5.81581273e-02,\n",
       "        -1.93508334e-01, -6.77161157e-02, -8.35036724e-02,\n",
       "         1.26914240e-01,  1.26885150e-01, -1.04725689e-01,\n",
       "         7.65840589e-02,  2.72102129e-01,  1.22001784e-02,\n",
       "        -6.32790110e-02,  6.22227957e-02,  4.17568466e-02,\n",
       "         2.54000457e-02, -5.28610880e-03, -1.02519078e-01,\n",
       "        -3.81202219e-01,  5.76352161e-02,  2.83982248e-01,\n",
       "         4.13866535e-01,  5.85862606e-01,  1.14979156e-01,\n",
       "         1.02651789e-01],\n",
       "       [ 8.41794622e-02, -1.15028269e-01, -1.74494182e-01,\n",
       "         1.30347070e-01, -6.24970279e-02,  2.68097300e-02,\n",
       "        -1.20798669e-01,  4.59537673e-01, -2.95534311e-02,\n",
       "         1.95826318e-02,  1.70190204e-02, -3.74259351e-02,\n",
       "        -7.28756164e-02, -2.61732848e-02, -1.31537976e-01,\n",
       "         4.29230657e-01,  2.01680683e-02,  6.58823101e-02,\n",
       "         1.33596897e-01,  4.65565168e-02,  2.10127280e-02,\n",
       "        -8.67624587e-02, -2.96319127e-02, -3.44166568e-02,\n",
       "        -5.65366306e-02,  3.40568978e-01, -1.11242697e-01,\n",
       "        -2.79597232e-01, -2.88412145e-01, -9.42496709e-02,\n",
       "        -5.13700209e-02, -3.10174818e-01, -2.25349081e-01,\n",
       "         7.17332201e-02],\n",
       "       [ 2.03963018e-02, -2.29826267e-03,  1.21152695e-01,\n",
       "        -1.27712003e-02,  1.39484130e-01, -3.50570080e-01,\n",
       "        -1.13061658e-01,  2.71767055e-01, -3.43508987e-02,\n",
       "        -4.95920031e-02, -2.44214237e-02,  1.85582715e-02,\n",
       "         8.98033758e-03, -1.30127815e-03,  1.18209816e-01,\n",
       "        -2.62953180e-01,  8.96371801e-02, -1.50943390e-01,\n",
       "         2.04106551e-02, -6.66187986e-03,  2.97661157e-03,\n",
       "        -1.53394731e-01,  1.19149189e-01,  6.84279927e-02,\n",
       "         7.59060520e-02,  2.98238995e-01,  1.07170922e-01,\n",
       "         2.18319502e-01, -1.70982303e-01, -4.15283981e-01,\n",
       "         4.07193395e-01,  3.67894221e-02,  1.61609498e-01,\n",
       "        -2.13151966e-01],\n",
       "       [ 4.27267939e-02,  5.34384414e-02, -8.32324084e-02,\n",
       "         6.72359973e-04, -1.25135368e-01,  2.70263338e-01,\n",
       "         6.98371929e-02, -3.90980262e-01,  1.07974154e-01,\n",
       "         3.66452283e-02,  6.42824264e-03,  3.39532201e-02,\n",
       "        -3.83227324e-01, -2.24279456e-03, -1.17839068e-01,\n",
       "         7.73501944e-02, -6.11244587e-02,  5.05606885e-02,\n",
       "        -3.74761956e-02, -2.06634223e-01, -6.19900456e-02,\n",
       "         2.28734648e-01, -1.29881621e-01, -1.21463113e-01,\n",
       "        -1.40026332e-01,  2.75686204e-01, -2.19563579e-01,\n",
       "         2.05961310e-01, -1.96971629e-01, -2.04415410e-01,\n",
       "         3.25870735e-01,  1.25015161e-01, -1.44763076e-01,\n",
       "        -1.15045962e-01],\n",
       "       [ 2.47967808e-01, -1.23981244e-01, -1.98117493e-01,\n",
       "         1.13806922e-02, -1.65591749e-01, -4.93318252e-02,\n",
       "        -3.74659486e-02, -1.34047532e-01,  3.44016434e-02,\n",
       "        -5.41314557e-02, -2.06720064e-02, -2.70018287e-02,\n",
       "         4.00786780e-01, -6.59213339e-04, -6.17156840e-02,\n",
       "        -9.65298334e-02, -8.21528501e-02,  4.75028465e-02,\n",
       "        -6.19185597e-03, -1.27017165e-01, -1.08016720e-02,\n",
       "        -2.46183248e-02,  7.99941644e-02,  6.08381370e-02,\n",
       "         6.94582891e-02,  1.25339714e-01, -7.64494083e-02,\n",
       "        -2.32760911e-01,  5.42039553e-01, -1.38487647e-01,\n",
       "         2.90841339e-01, -7.28883847e-02, -3.53003494e-01,\n",
       "        -1.07008472e-01],\n",
       "       [ 1.08338767e-01, -3.36735900e-03, -2.29623634e-01,\n",
       "         6.81770688e-02, -3.37469583e-02, -4.27245109e-02,\n",
       "        -1.59847963e-01,  3.87332620e-01,  5.48668058e-02,\n",
       "         4.04645553e-02,  3.17617457e-02,  4.10245865e-02,\n",
       "        -5.11607011e-01,  1.03687393e-02,  1.79661159e-02,\n",
       "        -1.17293877e-01,  1.35870592e-02,  1.57237854e-01,\n",
       "        -4.63834952e-02, -1.53202653e-02, -3.98509070e-02,\n",
       "         1.35318352e-01, -1.08910524e-01, -1.15262751e-01,\n",
       "        -1.38873497e-01, -8.81607684e-02,  1.31516369e-01,\n",
       "         1.88752954e-01,  5.28363936e-01, -7.32303465e-02,\n",
       "        -1.35748203e-02, -1.76569067e-02,  8.77509492e-02,\n",
       "         1.54965074e-01],\n",
       "       [-2.47695289e-01,  4.11615835e-02,  1.34036589e-01,\n",
       "         3.44621139e-03,  1.05916948e-01,  2.39098287e-02,\n",
       "         1.11977118e-01,  4.02470488e-02, -6.05133275e-02,\n",
       "         6.80380310e-02,  5.34110211e-02, -4.29176367e-03,\n",
       "        -1.42649904e-01,  2.22269371e-02,  2.30007906e-02,\n",
       "         2.60748596e-01,  6.11364582e-02, -2.55594690e-02,\n",
       "         4.82713979e-02,  1.08295303e-01,  3.32036571e-02,\n",
       "        -1.70210411e-01, -1.62623470e-02,  1.34803674e-02,\n",
       "         1.48894933e-02, -4.44256025e-01,  1.82887221e-01,\n",
       "         1.75354023e-01,  5.78247424e-02,  6.93661875e-02,\n",
       "         4.23842601e-01, -2.61862107e-01, -4.37559167e-01,\n",
       "        -1.84183113e-01],\n",
       "       [-3.28713566e-01,  1.08761403e-01, -3.03979683e-01,\n",
       "         8.12747760e-02, -6.50837962e-02,  2.19917609e-01,\n",
       "         3.13494365e-03,  3.02568534e-01, -8.62503787e-02,\n",
       "         2.83184049e-02, -2.76432031e-02,  2.63578979e-02,\n",
       "         3.79584724e-01,  3.76515966e-02, -1.88842245e-02,\n",
       "         2.70988071e-01,  5.80377812e-02,  1.39299174e-03,\n",
       "        -6.75363811e-02, -1.41432570e-01, -2.12925224e-02,\n",
       "        -5.96817523e-03, -2.02192925e-02,  3.38934863e-02,\n",
       "         4.13059750e-02, -7.09617094e-02, -1.16630693e-01,\n",
       "         3.46021744e-01,  6.19300060e-02, -1.74226405e-01,\n",
       "        -7.15365644e-02,  4.37532109e-01, -3.45416769e-03,\n",
       "        -8.45454718e-02],\n",
       "       [ 3.54250132e-01, -1.14017354e-01, -4.52252618e-02,\n",
       "        -1.19444859e-02, -4.34532103e-02, -1.07808091e-01,\n",
       "         9.95862533e-03, -1.07104216e-01,  1.81500537e-02,\n",
       "        -1.15957965e-02, -3.18734539e-02, -2.87543314e-02,\n",
       "        -1.04805889e-01, -5.76908200e-02, -3.43040828e-02,\n",
       "         1.67803546e-01, -4.58723985e-02,  7.61601672e-03,\n",
       "        -1.37373732e-02, -7.83720847e-03, -2.35062560e-02,\n",
       "        -7.84823188e-02, -1.80790136e-02,  1.72367108e-02,\n",
       "         6.67735401e-02, -7.24433182e-02,  6.11032599e-01,\n",
       "        -1.58754801e-02, -1.43575243e-01, -2.03136564e-01,\n",
       "        -2.68813494e-01,  4.05568658e-01, -2.85809517e-01,\n",
       "        -1.22080687e-01],\n",
       "       [-3.50688409e-02, -3.30324810e-02, -1.93488931e-01,\n",
       "        -5.75987320e-02, -1.58189283e-01, -3.13093633e-02,\n",
       "         5.52065882e-02, -1.87181774e-01,  2.40631207e-02,\n",
       "         1.09889699e-02, -6.07549100e-03, -6.83429169e-03,\n",
       "         1.60979337e-01,  4.78530711e-03, -5.09425989e-02,\n",
       "         2.60721439e-01, -9.63787556e-02,  4.44798973e-02,\n",
       "        -5.29231447e-02, -1.47917411e-02, -5.50275253e-02,\n",
       "        -8.96382497e-03,  7.21100995e-02,  2.97389363e-02,\n",
       "         5.33515986e-02, -2.55201425e-02,  3.61265623e-01,\n",
       "         9.41100205e-02, -7.24615882e-02, -1.24736755e-01,\n",
       "         3.21328290e-01, -1.77883278e-01,  3.36133649e-01,\n",
       "         6.00421619e-01],\n",
       "       [-1.40104389e-01, -4.72723586e-02,  2.73898894e-01,\n",
       "        -1.46165361e-01, -1.55951800e-01,  6.58232528e-01,\n",
       "        -8.69335736e-02,  1.76408502e-01,  1.02618151e-01,\n",
       "         8.58152778e-02,  1.03956591e-02, -1.98414210e-02,\n",
       "        -2.39801956e-02, -1.14959899e-02,  1.38044968e-02,\n",
       "        -2.18638306e-01, -2.75902861e-01,  1.31449309e-01,\n",
       "        -1.62150277e-02,  1.04568519e-01, -3.69233714e-03,\n",
       "        -2.93358972e-01,  5.48947392e-03,  2.72522064e-03,\n",
       "         7.78921648e-02,  1.04070611e-01,  2.18624047e-01,\n",
       "        -1.81626384e-01,  4.42060247e-02, -1.17555828e-01,\n",
       "         7.14326471e-02,  5.07562638e-02,  7.45155578e-02,\n",
       "        -3.14456979e-02],\n",
       "       [-1.13018738e-01,  2.49618395e-02,  9.12145797e-03,\n",
       "        -8.71776117e-02,  6.94726705e-02, -1.24162846e-02,\n",
       "        -1.04269775e-01, -1.71053568e-02, -1.04502169e-02,\n",
       "        -1.26169514e-01,  1.62707149e-03,  8.25423645e-03,\n",
       "         1.00156120e-01,  1.75928202e-02, -8.76709392e-02,\n",
       "         6.22599912e-02, -3.97026235e-03,  1.01760115e-01,\n",
       "        -5.25164344e-01,  5.74539810e-01, -8.37802815e-02,\n",
       "         3.24528763e-01, -7.06684718e-02,  7.99905499e-02,\n",
       "         4.00724054e-02,  3.15960299e-01,  1.47737511e-01,\n",
       "         1.25372402e-01,  4.73516783e-02,  1.26518143e-01,\n",
       "        -1.42371553e-03, -5.89395934e-02, -1.13418485e-01,\n",
       "        -1.05868378e-01],\n",
       "       [ 2.42741411e-01, -2.88386256e-02, -1.45853296e-01,\n",
       "         3.38237563e-02,  1.39919374e-01,  5.26122735e-02,\n",
       "         1.85032394e-03, -9.67993958e-02,  4.94208285e-02,\n",
       "         1.69937759e-02, -8.77378250e-02,  4.68422485e-02,\n",
       "        -1.13213447e-02, -2.56322595e-02,  5.05731840e-02,\n",
       "         7.24708297e-02,  1.34577017e-05,  5.08982752e-02,\n",
       "        -8.12149827e-03, -2.91950515e-02, -5.64460170e-02,\n",
       "        -5.93072707e-01, -1.62919576e-01,  4.29362410e-02,\n",
       "         9.05181750e-02,  3.05739898e-01, -2.41591990e-02,\n",
       "         3.87992434e-01,  7.68153424e-02,  4.65668548e-01,\n",
       "         2.59563367e-03, -1.99179628e-02,  4.29409590e-02,\n",
       "        -1.69249799e-02],\n",
       "       [ 5.20961118e-01,  2.05218863e-02,  4.81207028e-02,\n",
       "         5.13219246e-02,  1.53594701e-01,  3.70581168e-01,\n",
       "        -8.36555653e-02,  1.21737784e-01, -1.96114659e-01,\n",
       "        -2.47705987e-01, -7.66225862e-02,  3.75217234e-02,\n",
       "         8.59749521e-02, -1.62963512e-02, -1.58388526e-01,\n",
       "        -4.58270148e-02,  2.39673814e-01, -2.32572165e-01,\n",
       "        -2.25246610e-01,  6.16948673e-03, -1.06447516e-01,\n",
       "         4.69888084e-02, -2.07360370e-01,  5.85653310e-02,\n",
       "         6.20361008e-02, -3.19240203e-01, -1.06405442e-01,\n",
       "         7.74584407e-03, -1.14980138e-01, -9.88758244e-02,\n",
       "         1.29818302e-01, -8.09953705e-02,  9.06908734e-02,\n",
       "         6.70223853e-02],\n",
       "       [ 2.37514431e-01,  3.34075859e-02,  6.51427479e-02,\n",
       "         6.75213831e-02,  2.04151262e-01, -1.73850128e-01,\n",
       "        -2.82894699e-02,  1.75934656e-02,  1.84515755e-01,\n",
       "         1.72446197e-01,  5.49752034e-02, -5.18683343e-02,\n",
       "         8.38914499e-02,  4.08241444e-03,  1.11778038e-01,\n",
       "         1.13827202e-01, -3.85956100e-01,  5.31766239e-01,\n",
       "        -9.63776650e-02,  1.92937769e-01,  1.59949598e-02,\n",
       "        -6.59467527e-02, -1.25861117e-01,  5.48280415e-02,\n",
       "         4.79415675e-02, -2.75243705e-01, -3.19491908e-01,\n",
       "         2.76023166e-03, -1.15033621e-01, -1.94290049e-01,\n",
       "         8.30010579e-02,  1.02733843e-01,  9.07295132e-02,\n",
       "        -1.24535681e-02],\n",
       "       [-1.04749354e-02,  2.17562558e-01,  3.45181112e-02,\n",
       "        -2.04965797e-01, -3.08428289e-01, -2.27740104e-01,\n",
       "         2.25742029e-01,  6.13465291e-02, -8.60077078e-02,\n",
       "         1.67613567e-01,  1.37047525e-01,  2.19574955e-01,\n",
       "        -1.02377074e-01,  2.77959328e-01, -2.99449778e-01,\n",
       "        -5.13244923e-02,  1.69548130e-01,  6.10690899e-02,\n",
       "        -4.59330037e-01, -9.74634146e-02, -1.65539437e-02,\n",
       "        -3.42425953e-01, -3.79965452e-02, -5.07970009e-02,\n",
       "         3.70544517e-03, -3.79139933e-02, -9.73575270e-02,\n",
       "        -1.82125339e-01, -2.96242283e-02, -5.40729373e-02,\n",
       "        -2.94784033e-02,  3.98940591e-02, -3.68141589e-03,\n",
       "         1.47156148e-02],\n",
       "       [-1.57853249e-01,  1.24999307e-02, -4.78820357e-02,\n",
       "        -2.16449150e-01, -7.81949904e-02, -1.11943308e-01,\n",
       "        -1.66245487e-01,  5.86517655e-03,  7.01624369e-02,\n",
       "        -9.66072184e-02, -7.42138523e-02,  1.36258481e-01,\n",
       "        -1.40945928e-01,  4.82735990e-02,  2.46731400e-01,\n",
       "         1.03252689e-01, -1.66078069e-01, -2.07449862e-01,\n",
       "        -2.13198006e-02, -1.78560244e-01,  8.76144298e-02,\n",
       "         8.35686578e-02, -5.53706928e-01,  3.20524797e-01,\n",
       "         4.39884913e-01,  5.20299517e-05, -3.85384530e-02,\n",
       "        -1.55922529e-01,  1.97166609e-02, -8.14800611e-03,\n",
       "         1.18939560e-03, -1.60156854e-02, -1.57536517e-02,\n",
       "         1.42080991e-02]])"
      ]
     },
     "execution_count": 98,
     "metadata": {},
     "output_type": "execute_result"
    }
   ],
   "source": [
    "pca.components_"
   ]
  },
  {
   "cell_type": "code",
   "execution_count": 97,
   "metadata": {},
   "outputs": [
    {
     "data": {
      "image/png": "[encoded data removed]",
      "text/plain": [
       "<Figure size 391.68x288 with 2 Axes>"
      ]
     },
     "metadata": {},
     "output_type": "display_data"
    }
   ],
   "source": [
    "# heat-plot to see how the features mixed up to create the components.\n",
    "\n",
    "plt.matshow(pca.components_,cmap='viridis')\n",
    "plt.yticks([0,1,2],['1st Comp','2nd Comp','3rd Comp'],fontsize=8)\n",
    "plt.colorbar()\n",
    "# plt.xticks(range(len(df_main.columns)),df_main.columns,rotation=65,ha='left')\n",
    "# plt.tight_layout()\n",
    "plt.show()"
   ]
  },
  {
   "cell_type": "markdown",
   "metadata": {},
   "source": [
    "### Représentation graphique des données selon les composantes principales (obj = identifier des patterns)\n",
    "#### Composantes principales n°1 et 2"
   ]
  },
  {
   "cell_type": "code",
   "execution_count": null,
   "metadata": {},
   "outputs": [],
   "source": [
    "def pca1(xDF, yDF):\n",
    "    tempDF = pd.DataFrame(data=xDF.loc[:,0:1], index=xDF.index)\n",
    "    tempDF = pd.concat((tempDF,yDF), axis=1, join=\"inner\")\n",
    "    tempDF.columns = [\"First Vector\", \"Second Vector\", \"Attractivité\"]\n",
    "    sns.lmplot(x=\"First Vector\", y=\"Second Vector\", hue=\"Attractivité\", \\\n",
    "               data=tempDF, fit_reg=False)\n",
    "    ax = plt.gca()\n",
    "    ax.set_title(\"Séparation des observations en utilisant l'ACP (2 premiers vecteurs)\")\n",
    "    plt.plot([-1.5, 2.0], [0, 0], color='grey', ls='--')\n",
    "    plt.plot([0, 0], [-1, 2.0], color='grey', ls='--')"
   ]
  },
  {
   "cell_type": "code",
   "execution_count": null,
   "metadata": {},
   "outputs": [],
   "source": [
    "X_train_PCA = pd.DataFrame(data=X_train_PCA, index=X_train.index)\n",
    "\n",
    "pca1(X_train_PCA, y_train)"
   ]
  },
  {
   "cell_type": "code",
   "execution_count": null,
   "metadata": {},
   "outputs": [],
   "source": [
    "# Soustraction de la moyenne (à faire) :\n",
    "X_train_num_"
   ]
  },
  {
   "cell_type": "code",
   "execution_count": 16,
   "metadata": {},
   "outputs": [],
   "source": [
    "# imputer données manquantes :\n",
    "num_imputer = SimpleImputer(strategy=\"constant\", fill_value=0)\n",
    "\n",
    "# scaler les variables numériques :\n",
    "num_scaler = MinMaxScaler()\n",
    "\n",
    "# NUMERICAL PIPELINE :\n",
    "num_pipe = Pipeline([(\"num_imputer\", num_imputer), (\"num_scaler\", num_scaler)])"
   ]
  },
  {
   "cell_type": "markdown",
   "metadata": {},
   "source": [
    "## Pipeline de prépro global"
   ]
  },
  {
   "cell_type": "code",
   "execution_count": 93,
   "metadata": {},
   "outputs": [
    {
     "data": {
      "text/plain": [
       "{'n_jobs': None,\n",
       " 'remainder': 'drop',\n",
       " 'sparse_threshold': 0.3,\n",
       " 'transformer_weights': None,\n",
       " 'transformers': [('ohe_pipe',\n",
       "   Pipeline(steps=[('ohe_imputer',\n",
       "                    SimpleImputer(fill_value='Missing', strategy='constant')),\n",
       "                   ('ohe_encoder', OneHotEncoder(handle_unknown='ignore'))]),\n",
       "   ['MSSubClass',\n",
       "    'MSZoning',\n",
       "    'Street',\n",
       "    'Alley',\n",
       "    'LandContour',\n",
       "    'LotConfig',\n",
       "    'Condition1',\n",
       "    'Condition2',\n",
       "    'BldgType',\n",
       "    'HouseStyle',\n",
       "    'RoofStyle',\n",
       "    'RoofMatl',\n",
       "    'Exterior1st',\n",
       "    'Exterior2nd',\n",
       "    'MasVnrType',\n",
       "    'Foundation',\n",
       "    'Heating',\n",
       "    'Electrical',\n",
       "    'Functional',\n",
       "    'GarageType',\n",
       "    'MiscFeature',\n",
       "    'SaleType',\n",
       "    'SaleCondition']),\n",
       "  ('num_pipe',\n",
       "   Pipeline(steps=[('num_imputer',\n",
       "                    SimpleImputer(fill_value=0, strategy='constant')),\n",
       "                   ('num_scaler', MinMaxScaler())]),\n",
       "   ['LotArea',\n",
       "    'OverallQual',\n",
       "    'OverallCond',\n",
       "    'YearBuilt',\n",
       "    'YearRemodAdd',\n",
       "    'MasVnrArea',\n",
       "    'BsmtFinSF1',\n",
       "    'BsmtFinSF2',\n",
       "    'BsmtUnfSF',\n",
       "    'TotalBsmtSF',\n",
       "    '1stFlrSF',\n",
       "    '2ndFlrSF',\n",
       "    'LowQualFinSF',\n",
       "    'GrLivArea',\n",
       "    'BsmtFullBath',\n",
       "    'BsmtHalfBath',\n",
       "    'FullBath',\n",
       "    'HalfBath',\n",
       "    'BedroomAbvGr',\n",
       "    'KitchenAbvGr',\n",
       "    'TotRmsAbvGrd',\n",
       "    'Fireplaces',\n",
       "    'GarageYrBlt',\n",
       "    'GarageCars',\n",
       "    'GarageArea',\n",
       "    'WoodDeckSF',\n",
       "    'OpenPorchSF',\n",
       "    'EnclosedPorch',\n",
       "    '3SsnPorch',\n",
       "    'ScreenPorch',\n",
       "    'PoolArea',\n",
       "    'MiscVal',\n",
       "    'MoSold',\n",
       "    'YrSold']),\n",
       "  ('ordinal_pipe',\n",
       "   Pipeline(steps=[('ordinal_imputer',\n",
       "                    SimpleImputer(fill_value='Missing', strategy='constant')),\n",
       "                   ('ordinal_encoder',\n",
       "                    OrdinalEncoder(categories=[['IR3', 'IR2', 'IR1', 'Reg'],\n",
       "                                               ['ELO', 'NoSeWa', 'NoSewr',\n",
       "                                                'AllPub'],\n",
       "                                               ['Sev', 'Mod', 'Gtl'],\n",
       "                                               ['MeadowV', 'IDOTRR', 'BrDale',\n",
       "                                                'BrkSide', 'Edwards', 'OldTown',\n",
       "                                                'Sawyer', 'Blueste', 'SWISU',\n",
       "                                                'NPkVill', 'NAmes', 'Mitchel',\n",
       "                                                'SawyerW', 'NWAmes...\n",
       "                                                'BLQ', 'ALQ', 'GLQ'],\n",
       "                                               ['Po', 'Fa', 'TA', 'Gd', 'Ex'],\n",
       "                                               ['N', 'Y'],\n",
       "                                               ['Po', 'Fa', 'TA', 'Gd', 'Ex'],\n",
       "                                               ['Missing', 'Po', 'Fa', 'TA', 'Gd',\n",
       "                                                'Ex'],\n",
       "                                               ['Missing', 'Unf', 'RFn', 'Fin'],\n",
       "                                               ['Missing', 'Po', 'Fa', 'TA', 'Gd',\n",
       "                                                'Ex'],\n",
       "                                               ['Missing', 'Po', 'Fa', 'TA', 'Gd',\n",
       "                                                'Ex'],\n",
       "                                               ['N', 'P', 'Y'],\n",
       "                                               ['Missing', 'Fa', 'TA', 'Gd', 'Ex'],\n",
       "                                               ['Missing', 'MnWw', 'GdWo', 'MnPrv',\n",
       "                                                'GdPrv']],\n",
       "                                   handle_unknown='use_encoded_value',\n",
       "                                   unknown_value=-1))]),\n",
       "   ['LotShape',\n",
       "    'Utilities',\n",
       "    'LandSlope',\n",
       "    'Neighborhood',\n",
       "    'ExterQual',\n",
       "    'ExterCond',\n",
       "    'BsmtQual',\n",
       "    'BsmtCond',\n",
       "    'BsmtExposure',\n",
       "    'BsmtFinType1',\n",
       "    'BsmtFinType2',\n",
       "    'HeatingQC',\n",
       "    'CentralAir',\n",
       "    'KitchenQual',\n",
       "    'FireplaceQu',\n",
       "    'GarageFinish',\n",
       "    'GarageQual',\n",
       "    'GarageCond',\n",
       "    'PavedDrive',\n",
       "    'PoolQC',\n",
       "    'Fence'])],\n",
       " 'verbose': False,\n",
       " 'ohe_pipe': Pipeline(steps=[('ohe_imputer',\n",
       "                  SimpleImputer(fill_value='Missing', strategy='constant')),\n",
       "                 ('ohe_encoder', OneHotEncoder(handle_unknown='ignore'))]),\n",
       " 'num_pipe': Pipeline(steps=[('num_imputer',\n",
       "                  SimpleImputer(fill_value=0, strategy='constant')),\n",
       "                 ('num_scaler', MinMaxScaler())]),\n",
       " 'ordinal_pipe': Pipeline(steps=[('ordinal_imputer',\n",
       "                  SimpleImputer(fill_value='Missing', strategy='constant')),\n",
       "                 ('ordinal_encoder',\n",
       "                  OrdinalEncoder(categories=[['IR3', 'IR2', 'IR1', 'Reg'],\n",
       "                                             ['ELO', 'NoSeWa', 'NoSewr',\n",
       "                                              'AllPub'],\n",
       "                                             ['Sev', 'Mod', 'Gtl'],\n",
       "                                             ['MeadowV', 'IDOTRR', 'BrDale',\n",
       "                                              'BrkSide', 'Edwards', 'OldTown',\n",
       "                                              'Sawyer', 'Blueste', 'SWISU',\n",
       "                                              'NPkVill', 'NAmes', 'Mitchel',\n",
       "                                              'SawyerW', 'NWAmes...\n",
       "                                              'BLQ', 'ALQ', 'GLQ'],\n",
       "                                             ['Po', 'Fa', 'TA', 'Gd', 'Ex'],\n",
       "                                             ['N', 'Y'],\n",
       "                                             ['Po', 'Fa', 'TA', 'Gd', 'Ex'],\n",
       "                                             ['Missing', 'Po', 'Fa', 'TA', 'Gd',\n",
       "                                              'Ex'],\n",
       "                                             ['Missing', 'Unf', 'RFn', 'Fin'],\n",
       "                                             ['Missing', 'Po', 'Fa', 'TA', 'Gd',\n",
       "                                              'Ex'],\n",
       "                                             ['Missing', 'Po', 'Fa', 'TA', 'Gd',\n",
       "                                              'Ex'],\n",
       "                                             ['N', 'P', 'Y'],\n",
       "                                             ['Missing', 'Fa', 'TA', 'Gd', 'Ex'],\n",
       "                                             ['Missing', 'MnWw', 'GdWo', 'MnPrv',\n",
       "                                              'GdPrv']],\n",
       "                                 handle_unknown='use_encoded_value',\n",
       "                                 unknown_value=-1))]),\n",
       " 'ohe_pipe__memory': None,\n",
       " 'ohe_pipe__steps': [('ohe_imputer',\n",
       "   SimpleImputer(fill_value='Missing', strategy='constant')),\n",
       "  ('ohe_encoder', OneHotEncoder(handle_unknown='ignore'))],\n",
       " 'ohe_pipe__verbose': False,\n",
       " 'ohe_pipe__ohe_imputer': SimpleImputer(fill_value='Missing', strategy='constant'),\n",
       " 'ohe_pipe__ohe_encoder': OneHotEncoder(handle_unknown='ignore'),\n",
       " 'ohe_pipe__ohe_imputer__add_indicator': False,\n",
       " 'ohe_pipe__ohe_imputer__copy': True,\n",
       " 'ohe_pipe__ohe_imputer__fill_value': 'Missing',\n",
       " 'ohe_pipe__ohe_imputer__missing_values': nan,\n",
       " 'ohe_pipe__ohe_imputer__strategy': 'constant',\n",
       " 'ohe_pipe__ohe_imputer__verbose': 0,\n",
       " 'ohe_pipe__ohe_encoder__categories': 'auto',\n",
       " 'ohe_pipe__ohe_encoder__drop': None,\n",
       " 'ohe_pipe__ohe_encoder__dtype': numpy.float64,\n",
       " 'ohe_pipe__ohe_encoder__handle_unknown': 'ignore',\n",
       " 'ohe_pipe__ohe_encoder__sparse': True,\n",
       " 'num_pipe__memory': None,\n",
       " 'num_pipe__steps': [('num_imputer',\n",
       "   SimpleImputer(fill_value=0, strategy='constant')),\n",
       "  ('num_scaler', MinMaxScaler())],\n",
       " 'num_pipe__verbose': False,\n",
       " 'num_pipe__num_imputer': SimpleImputer(fill_value=0, strategy='constant'),\n",
       " 'num_pipe__num_scaler': MinMaxScaler(),\n",
       " 'num_pipe__num_imputer__add_indicator': False,\n",
       " 'num_pipe__num_imputer__copy': True,\n",
       " 'num_pipe__num_imputer__fill_value': 0,\n",
       " 'num_pipe__num_imputer__missing_values': nan,\n",
       " 'num_pipe__num_imputer__strategy': 'constant',\n",
       " 'num_pipe__num_imputer__verbose': 0,\n",
       " 'num_pipe__num_scaler__clip': False,\n",
       " 'num_pipe__num_scaler__copy': True,\n",
       " 'num_pipe__num_scaler__feature_range': (0, 1),\n",
       " 'ordinal_pipe__memory': None,\n",
       " 'ordinal_pipe__steps': [('ordinal_imputer',\n",
       "   SimpleImputer(fill_value='Missing', strategy='constant')),\n",
       "  ('ordinal_encoder',\n",
       "   OrdinalEncoder(categories=[['IR3', 'IR2', 'IR1', 'Reg'],\n",
       "                              ['ELO', 'NoSeWa', 'NoSewr', 'AllPub'],\n",
       "                              ['Sev', 'Mod', 'Gtl'],\n",
       "                              ['MeadowV', 'IDOTRR', 'BrDale', 'BrkSide', 'Edwards',\n",
       "                               'OldTown', 'Sawyer', 'Blueste', 'SWISU', 'NPkVill',\n",
       "                               'NAmes', 'Mitchel', 'SawyerW', 'NWAmes', 'Gilbert',\n",
       "                               'Blmngtn', 'CollgCr', 'Crawfor', 'ClearCr',\n",
       "                               'Somerst', 'Veenker', 'Timber', 'StoneBr',\n",
       "                               'NridgHt', 'NoRidge']...\n",
       "                               'GLQ'],\n",
       "                              ['Po', 'Fa', 'TA', 'Gd', 'Ex'], ['N', 'Y'],\n",
       "                              ['Po', 'Fa', 'TA', 'Gd', 'Ex'],\n",
       "                              ['Missing', 'Po', 'Fa', 'TA', 'Gd', 'Ex'],\n",
       "                              ['Missing', 'Unf', 'RFn', 'Fin'],\n",
       "                              ['Missing', 'Po', 'Fa', 'TA', 'Gd', 'Ex'],\n",
       "                              ['Missing', 'Po', 'Fa', 'TA', 'Gd', 'Ex'],\n",
       "                              ['N', 'P', 'Y'], ['Missing', 'Fa', 'TA', 'Gd', 'Ex'],\n",
       "                              ['Missing', 'MnWw', 'GdWo', 'MnPrv', 'GdPrv']],\n",
       "                  handle_unknown='use_encoded_value', unknown_value=-1))],\n",
       " 'ordinal_pipe__verbose': False,\n",
       " 'ordinal_pipe__ordinal_imputer': SimpleImputer(fill_value='Missing', strategy='constant'),\n",
       " 'ordinal_pipe__ordinal_encoder': OrdinalEncoder(categories=[['IR3', 'IR2', 'IR1', 'Reg'],\n",
       "                            ['ELO', 'NoSeWa', 'NoSewr', 'AllPub'],\n",
       "                            ['Sev', 'Mod', 'Gtl'],\n",
       "                            ['MeadowV', 'IDOTRR', 'BrDale', 'BrkSide', 'Edwards',\n",
       "                             'OldTown', 'Sawyer', 'Blueste', 'SWISU', 'NPkVill',\n",
       "                             'NAmes', 'Mitchel', 'SawyerW', 'NWAmes', 'Gilbert',\n",
       "                             'Blmngtn', 'CollgCr', 'Crawfor', 'ClearCr',\n",
       "                             'Somerst', 'Veenker', 'Timber', 'StoneBr',\n",
       "                             'NridgHt', 'NoRidge']...\n",
       "                             'GLQ'],\n",
       "                            ['Po', 'Fa', 'TA', 'Gd', 'Ex'], ['N', 'Y'],\n",
       "                            ['Po', 'Fa', 'TA', 'Gd', 'Ex'],\n",
       "                            ['Missing', 'Po', 'Fa', 'TA', 'Gd', 'Ex'],\n",
       "                            ['Missing', 'Unf', 'RFn', 'Fin'],\n",
       "                            ['Missing', 'Po', 'Fa', 'TA', 'Gd', 'Ex'],\n",
       "                            ['Missing', 'Po', 'Fa', 'TA', 'Gd', 'Ex'],\n",
       "                            ['N', 'P', 'Y'], ['Missing', 'Fa', 'TA', 'Gd', 'Ex'],\n",
       "                            ['Missing', 'MnWw', 'GdWo', 'MnPrv', 'GdPrv']],\n",
       "                handle_unknown='use_encoded_value', unknown_value=-1),\n",
       " 'ordinal_pipe__ordinal_imputer__add_indicator': False,\n",
       " 'ordinal_pipe__ordinal_imputer__copy': True,\n",
       " 'ordinal_pipe__ordinal_imputer__fill_value': 'Missing',\n",
       " 'ordinal_pipe__ordinal_imputer__missing_values': nan,\n",
       " 'ordinal_pipe__ordinal_imputer__strategy': 'constant',\n",
       " 'ordinal_pipe__ordinal_imputer__verbose': 0,\n",
       " 'ordinal_pipe__ordinal_encoder__categories': [['IR3', 'IR2', 'IR1', 'Reg'],\n",
       "  ['ELO', 'NoSeWa', 'NoSewr', 'AllPub'],\n",
       "  ['Sev', 'Mod', 'Gtl'],\n",
       "  ['MeadowV',\n",
       "   'IDOTRR',\n",
       "   'BrDale',\n",
       "   'BrkSide',\n",
       "   'Edwards',\n",
       "   'OldTown',\n",
       "   'Sawyer',\n",
       "   'Blueste',\n",
       "   'SWISU',\n",
       "   'NPkVill',\n",
       "   'NAmes',\n",
       "   'Mitchel',\n",
       "   'SawyerW',\n",
       "   'NWAmes',\n",
       "   'Gilbert',\n",
       "   'Blmngtn',\n",
       "   'CollgCr',\n",
       "   'Crawfor',\n",
       "   'ClearCr',\n",
       "   'Somerst',\n",
       "   'Veenker',\n",
       "   'Timber',\n",
       "   'StoneBr',\n",
       "   'NridgHt',\n",
       "   'NoRidge'],\n",
       "  ['Po', 'Fa', 'TA', 'Gd', 'Ex'],\n",
       "  ['Po', 'Fa', 'TA', 'Gd', 'Ex'],\n",
       "  ['Missing', 'Po', 'Fa', 'TA', 'Gd', 'Ex'],\n",
       "  ['Missing', 'Po', 'Fa', 'TA', 'Gd', 'Ex'],\n",
       "  ['Missing', 'No', 'Mn', 'Av', 'Gd'],\n",
       "  ['Missing', 'Unf', 'LwQ', 'Rec', 'BLQ', 'ALQ', 'GLQ'],\n",
       "  ['Missing', 'Unf', 'LwQ', 'Rec', 'BLQ', 'ALQ', 'GLQ'],\n",
       "  ['Po', 'Fa', 'TA', 'Gd', 'Ex'],\n",
       "  ['N', 'Y'],\n",
       "  ['Po', 'Fa', 'TA', 'Gd', 'Ex'],\n",
       "  ['Missing', 'Po', 'Fa', 'TA', 'Gd', 'Ex'],\n",
       "  ['Missing', 'Unf', 'RFn', 'Fin'],\n",
       "  ['Missing', 'Po', 'Fa', 'TA', 'Gd', 'Ex'],\n",
       "  ['Missing', 'Po', 'Fa', 'TA', 'Gd', 'Ex'],\n",
       "  ['N', 'P', 'Y'],\n",
       "  ['Missing', 'Fa', 'TA', 'Gd', 'Ex'],\n",
       "  ['Missing', 'MnWw', 'GdWo', 'MnPrv', 'GdPrv']],\n",
       " 'ordinal_pipe__ordinal_encoder__dtype': numpy.float64,\n",
       " 'ordinal_pipe__ordinal_encoder__handle_unknown': 'use_encoded_value',\n",
       " 'ordinal_pipe__ordinal_encoder__unknown_value': -1}"
      ]
     },
     "execution_count": 93,
     "metadata": {},
     "output_type": "execute_result"
    }
   ],
   "source": [
    "prepro = ColumnTransformer([(\"ohe_pipe\", ohe_pipe, ohe_cols), (\"num_pipe\", num_pipe, num_cols), (\"ordinal_pipe\", ordinal_pipe, ordinal_cols)])\n",
    "prepro.get_params()"
   ]
  },
  {
   "cell_type": "markdown",
   "metadata": {},
   "source": [
    "# Modèles et pipes associés"
   ]
  },
  {
   "cell_type": "code",
   "execution_count": 94,
   "metadata": {},
   "outputs": [],
   "source": [
    "from sklearn.linear_model import Ridge, Lasso, LassoCV\n",
    "from sklearn.svm import SVR\n",
    "from sklearn.ensemble import RandomForestRegressor"
   ]
  },
  {
   "cell_type": "code",
   "execution_count": 95,
   "metadata": {},
   "outputs": [],
   "source": [
    "model_ridge = Ridge()\n",
    "pipe_ridge = Pipeline([(\"prepro\", prepro), (\"model_ridge\", model_ridge)])"
   ]
  },
  {
   "cell_type": "code",
   "execution_count": 96,
   "metadata": {},
   "outputs": [],
   "source": [
    "model_svr = SVR()\n",
    "pipe_svr = Pipeline([(\"prepro\", prepro), (\"model_svr\", model_svr)])"
   ]
  },
  {
   "cell_type": "code",
   "execution_count": 97,
   "metadata": {},
   "outputs": [],
   "source": [
    "model_forest = RandomForestRegressor()\n",
    "pipe_forest = Pipeline([(\"prepro\", prepro), (\"model_forest\", model_forest)])"
   ]
  },
  {
   "cell_type": "code",
   "execution_count": 98,
   "metadata": {},
   "outputs": [],
   "source": [
    "model_lassocv = LassoCV()\n",
    "pipe_lassocv = Pipeline([(\"prepro\", prepro), (\"lasso_cv\", model_lassocv)])"
   ]
  },
  {
   "cell_type": "markdown",
   "metadata": {},
   "source": [
    "# Définition de la métrique\n",
    "Submissions are evaluated on Root-Mean-Squared-Error (RMSE) between the logarithm of the predicted value and the logarithm of the observed sales price. (Taking logs means that errors in predicting expensive houses and cheap houses will affect the result equally.)"
   ]
  },
  {
   "cell_type": "code",
   "execution_count": 35,
   "metadata": {},
   "outputs": [],
   "source": [
    "from sklearn.metrics import make_scorer, mean_squared_log_error, mean_squared_error\n",
    "import math"
   ]
  },
  {
   "cell_type": "code",
   "execution_count": 36,
   "metadata": {},
   "outputs": [],
   "source": [
    "def custom_score_log(y_true, y_pred):\n",
    "    return math.sqrt(mean_squared_log_error(y_true, y_pred))\n",
    "\n",
    "log_rmse = make_scorer(custom_score_log, greater_is_better=False)"
   ]
  },
  {
   "cell_type": "code",
   "execution_count": 37,
   "metadata": {},
   "outputs": [],
   "source": [
    "def custom_score(y_true, y_pred):\n",
    "    return math.sqrt(mean_squared_error(y_true, y_pred))\n",
    "\n",
    "\n",
    "classic_rmse= make_scorer(custom_score, greater_is_better=False)"
   ]
  },
  {
   "cell_type": "markdown",
   "metadata": {},
   "source": [
    "# Ridge"
   ]
  },
  {
   "cell_type": "markdown",
   "metadata": {},
   "source": [
    "## Entrainement et prédiction sans split (Ridge)"
   ]
  },
  {
   "cell_type": "code",
   "execution_count": 42,
   "metadata": {},
   "outputs": [],
   "source": [
    "X, y = log_prep_train_data(train)"
   ]
  },
  {
   "cell_type": "code",
   "execution_count": 43,
   "metadata": {},
   "outputs": [
    {
     "data": {
      "text/html": [
       "<style>#sk-92d34747-c00b-4722-8948-59a4d568f747 {color: black;background-color: white;}#sk-92d34747-c00b-4722-8948-59a4d568f747 pre{padding: 0;}#sk-92d34747-c00b-4722-8948-59a4d568f747 div.sk-toggleable {background-color: white;}#sk-92d34747-c00b-4722-8948-59a4d568f747 label.sk-toggleable__label {cursor: pointer;display: block;width: 100%;margin-bottom: 0;padding: 0.2em 0.3em;box-sizing: border-box;text-align: center;}#sk-92d34747-c00b-4722-8948-59a4d568f747 div.sk-toggleable__content {max-height: 0;max-width: 0;overflow: hidden;text-align: left;background-color: #f0f8ff;}#sk-92d34747-c00b-4722-8948-59a4d568f747 div.sk-toggleable__content pre {margin: 0.2em;color: black;border-radius: 0.25em;background-color: #f0f8ff;}#sk-92d34747-c00b-4722-8948-59a4d568f747 input.sk-toggleable__control:checked~div.sk-toggleable__content {max-height: 200px;max-width: 100%;overflow: auto;}#sk-92d34747-c00b-4722-8948-59a4d568f747 div.sk-estimator input.sk-toggleable__control:checked~label.sk-toggleable__label {background-color: #d4ebff;}#sk-92d34747-c00b-4722-8948-59a4d568f747 div.sk-label input.sk-toggleable__control:checked~label.sk-toggleable__label {background-color: #d4ebff;}#sk-92d34747-c00b-4722-8948-59a4d568f747 input.sk-hidden--visually {border: 0;clip: rect(1px 1px 1px 1px);clip: rect(1px, 1px, 1px, 1px);height: 1px;margin: -1px;overflow: hidden;padding: 0;position: absolute;width: 1px;}#sk-92d34747-c00b-4722-8948-59a4d568f747 div.sk-estimator {font-family: monospace;background-color: #f0f8ff;margin: 0.25em 0.25em;border: 1px dotted black;border-radius: 0.25em;box-sizing: border-box;}#sk-92d34747-c00b-4722-8948-59a4d568f747 div.sk-estimator:hover {background-color: #d4ebff;}#sk-92d34747-c00b-4722-8948-59a4d568f747 div.sk-parallel-item::after {content: \"\";width: 100%;border-bottom: 1px solid gray;flex-grow: 1;}#sk-92d34747-c00b-4722-8948-59a4d568f747 div.sk-label:hover label.sk-toggleable__label {background-color: #d4ebff;}#sk-92d34747-c00b-4722-8948-59a4d568f747 div.sk-serial::before {content: \"\";position: absolute;border-left: 1px solid gray;box-sizing: border-box;top: 2em;bottom: 0;left: 50%;}#sk-92d34747-c00b-4722-8948-59a4d568f747 div.sk-serial {display: flex;flex-direction: column;align-items: center;background-color: white;}#sk-92d34747-c00b-4722-8948-59a4d568f747 div.sk-item {z-index: 1;}#sk-92d34747-c00b-4722-8948-59a4d568f747 div.sk-parallel {display: flex;align-items: stretch;justify-content: center;background-color: white;}#sk-92d34747-c00b-4722-8948-59a4d568f747 div.sk-parallel-item {display: flex;flex-direction: column;position: relative;background-color: white;}#sk-92d34747-c00b-4722-8948-59a4d568f747 div.sk-parallel-item:first-child::after {align-self: flex-end;width: 50%;}#sk-92d34747-c00b-4722-8948-59a4d568f747 div.sk-parallel-item:last-child::after {align-self: flex-start;width: 50%;}#sk-92d34747-c00b-4722-8948-59a4d568f747 div.sk-parallel-item:only-child::after {width: 0;}#sk-92d34747-c00b-4722-8948-59a4d568f747 div.sk-dashed-wrapped {border: 1px dashed gray;margin: 0.2em;box-sizing: border-box;padding-bottom: 0.1em;background-color: white;position: relative;}#sk-92d34747-c00b-4722-8948-59a4d568f747 div.sk-label label {font-family: monospace;font-weight: bold;background-color: white;display: inline-block;line-height: 1.2em;}#sk-92d34747-c00b-4722-8948-59a4d568f747 div.sk-label-container {position: relative;z-index: 2;text-align: center;}#sk-92d34747-c00b-4722-8948-59a4d568f747 div.sk-container {display: inline-block;position: relative;}</style><div id=\"sk-92d34747-c00b-4722-8948-59a4d568f747\" class\"sk-top-container\"><div class=\"sk-container\"><div class=\"sk-item sk-dashed-wrapped\"><div class=\"sk-label-container\"><div class=\"sk-label sk-toggleable\"><input class=\"sk-toggleable__control sk-hidden--visually\" id=\"bb241a94-2748-4e3c-9bda-c04826cb5e65\" type=\"checkbox\" ><label class=\"sk-toggleable__label\" for=\"bb241a94-2748-4e3c-9bda-c04826cb5e65\">Pipeline</label><div class=\"sk-toggleable__content\"><pre>Pipeline(steps=[('prepro',\n",
       "                 ColumnTransformer(transformers=[('ohe_pipe',\n",
       "                                                  Pipeline(steps=[('ohe_imputer',\n",
       "                                                                   SimpleImputer(fill_value='Missing',\n",
       "                                                                                 strategy='constant')),\n",
       "                                                                  ('ohe_encoder',\n",
       "                                                                   OneHotEncoder(handle_unknown='ignore'))]),\n",
       "                                                  ['MSSubClass', 'MSZoning',\n",
       "                                                   'Street', 'Alley',\n",
       "                                                   'LandContour', 'LotConfig',\n",
       "                                                   'Condition1', 'Condition2',\n",
       "                                                   'BldgType', 'HouseStyle',\n",
       "                                                   'RoofStyle', 'Roof...\n",
       "                                                                                  handle_unknown='use_encoded_value',\n",
       "                                                                                  unknown_value=-999))]),\n",
       "                                                  ['LotShape', 'Utilities',\n",
       "                                                   'LandSlope', 'Neighborhood',\n",
       "                                                   'ExterQual', 'ExterCond',\n",
       "                                                   'BsmtQual', 'BsmtCond',\n",
       "                                                   'BsmtExposure',\n",
       "                                                   'BsmtFinType1',\n",
       "                                                   'BsmtFinType2', 'HeatingQC',\n",
       "                                                   'CentralAir', 'KitchenQual',\n",
       "                                                   'FireplaceQu',\n",
       "                                                   'GarageFinish', 'GarageQual',\n",
       "                                                   'GarageCond', 'PavedDrive',\n",
       "                                                   'PoolQC', 'Fence'])])),\n",
       "                ('model_ridge', Ridge())])</pre></div></div></div><div class=\"sk-serial\"><div class=\"sk-item sk-dashed-wrapped\"><div class=\"sk-label-container\"><div class=\"sk-label sk-toggleable\"><input class=\"sk-toggleable__control sk-hidden--visually\" id=\"35906ff2-c415-4629-976c-5c84500d1328\" type=\"checkbox\" ><label class=\"sk-toggleable__label\" for=\"35906ff2-c415-4629-976c-5c84500d1328\">prepro: ColumnTransformer</label><div class=\"sk-toggleable__content\"><pre>ColumnTransformer(transformers=[('ohe_pipe',\n",
       "                                 Pipeline(steps=[('ohe_imputer',\n",
       "                                                  SimpleImputer(fill_value='Missing',\n",
       "                                                                strategy='constant')),\n",
       "                                                 ('ohe_encoder',\n",
       "                                                  OneHotEncoder(handle_unknown='ignore'))]),\n",
       "                                 ['MSSubClass', 'MSZoning', 'Street', 'Alley',\n",
       "                                  'LandContour', 'LotConfig', 'Condition1',\n",
       "                                  'Condition2', 'BldgType', 'HouseStyle',\n",
       "                                  'RoofStyle', 'RoofMatl', 'Exterior1st',\n",
       "                                  'Exter...\n",
       "                                                                              'GdWo',\n",
       "                                                                              'MnPrv',\n",
       "                                                                              'GdPrv']],\n",
       "                                                                 handle_unknown='use_encoded_value',\n",
       "                                                                 unknown_value=-999))]),\n",
       "                                 ['LotShape', 'Utilities', 'LandSlope',\n",
       "                                  'Neighborhood', 'ExterQual', 'ExterCond',\n",
       "                                  'BsmtQual', 'BsmtCond', 'BsmtExposure',\n",
       "                                  'BsmtFinType1', 'BsmtFinType2', 'HeatingQC',\n",
       "                                  'CentralAir', 'KitchenQual', 'FireplaceQu',\n",
       "                                  'GarageFinish', 'GarageQual', 'GarageCond',\n",
       "                                  'PavedDrive', 'PoolQC', 'Fence'])])</pre></div></div></div><div class=\"sk-parallel\"><div class=\"sk-parallel-item\"><div class=\"sk-item\"><div class=\"sk-label-container\"><div class=\"sk-label sk-toggleable\"><input class=\"sk-toggleable__control sk-hidden--visually\" id=\"b935cc3f-9ad6-4ce2-9daf-3316b78f31e1\" type=\"checkbox\" ><label class=\"sk-toggleable__label\" for=\"b935cc3f-9ad6-4ce2-9daf-3316b78f31e1\">ohe_pipe</label><div class=\"sk-toggleable__content\"><pre>['MSSubClass', 'MSZoning', 'Street', 'Alley', 'LandContour', 'LotConfig', 'Condition1', 'Condition2', 'BldgType', 'HouseStyle', 'RoofStyle', 'RoofMatl', 'Exterior1st', 'Exterior2nd', 'MasVnrType', 'Foundation', 'Heating', 'Electrical', 'Functional', 'GarageType', 'MiscFeature', 'SaleType', 'SaleCondition']</pre></div></div></div><div class=\"sk-serial\"><div class=\"sk-item\"><div class=\"sk-serial\"><div class=\"sk-item\"><div class=\"sk-estimator sk-toggleable\"><input class=\"sk-toggleable__control sk-hidden--visually\" id=\"dfaab12b-8685-4c09-8868-8cbe976f1fc1\" type=\"checkbox\" ><label class=\"sk-toggleable__label\" for=\"dfaab12b-8685-4c09-8868-8cbe976f1fc1\">SimpleImputer</label><div class=\"sk-toggleable__content\"><pre>SimpleImputer(fill_value='Missing', strategy='constant')</pre></div></div></div><div class=\"sk-item\"><div class=\"sk-estimator sk-toggleable\"><input class=\"sk-toggleable__control sk-hidden--visually\" id=\"13f52ea8-2424-47db-b99e-b5776220f667\" type=\"checkbox\" ><label class=\"sk-toggleable__label\" for=\"13f52ea8-2424-47db-b99e-b5776220f667\">OneHotEncoder</label><div class=\"sk-toggleable__content\"><pre>OneHotEncoder(handle_unknown='ignore')</pre></div></div></div></div></div></div></div></div><div class=\"sk-parallel-item\"><div class=\"sk-item\"><div class=\"sk-label-container\"><div class=\"sk-label sk-toggleable\"><input class=\"sk-toggleable__control sk-hidden--visually\" id=\"3615065a-4dec-400b-9d60-fabec2514aa8\" type=\"checkbox\" ><label class=\"sk-toggleable__label\" for=\"3615065a-4dec-400b-9d60-fabec2514aa8\">num_pipe</label><div class=\"sk-toggleable__content\"><pre>['LotArea', 'OverallQual', 'OverallCond', 'YearBuilt', 'YearRemodAdd', 'MasVnrArea', 'BsmtFinSF1', 'BsmtFinSF2', 'BsmtUnfSF', 'TotalBsmtSF', '1stFlrSF', '2ndFlrSF', 'LowQualFinSF', 'GrLivArea', 'BsmtFullBath', 'BsmtHalfBath', 'FullBath', 'HalfBath', 'BedroomAbvGr', 'KitchenAbvGr', 'TotRmsAbvGrd', 'Fireplaces', 'GarageYrBlt', 'GarageCars', 'GarageArea', 'WoodDeckSF', 'OpenPorchSF', 'EnclosedPorch', '3SsnPorch', 'ScreenPorch', 'PoolArea', 'MiscVal', 'MoSold', 'YrSold']</pre></div></div></div><div class=\"sk-serial\"><div class=\"sk-item\"><div class=\"sk-serial\"><div class=\"sk-item\"><div class=\"sk-estimator sk-toggleable\"><input class=\"sk-toggleable__control sk-hidden--visually\" id=\"99d3b417-5852-422a-9d19-0f8f1d51e106\" type=\"checkbox\" ><label class=\"sk-toggleable__label\" for=\"99d3b417-5852-422a-9d19-0f8f1d51e106\">SimpleImputer</label><div class=\"sk-toggleable__content\"><pre>SimpleImputer(fill_value=0, strategy='constant')</pre></div></div></div><div class=\"sk-item\"><div class=\"sk-estimator sk-toggleable\"><input class=\"sk-toggleable__control sk-hidden--visually\" id=\"64931242-3458-44eb-9652-98000e56a7b9\" type=\"checkbox\" ><label class=\"sk-toggleable__label\" for=\"64931242-3458-44eb-9652-98000e56a7b9\">MinMaxScaler</label><div class=\"sk-toggleable__content\"><pre>MinMaxScaler()</pre></div></div></div></div></div></div></div></div><div class=\"sk-parallel-item\"><div class=\"sk-item\"><div class=\"sk-label-container\"><div class=\"sk-label sk-toggleable\"><input class=\"sk-toggleable__control sk-hidden--visually\" id=\"9b542155-cbda-468c-87da-b7ebc21cb689\" type=\"checkbox\" ><label class=\"sk-toggleable__label\" for=\"9b542155-cbda-468c-87da-b7ebc21cb689\">ordinal_pipe</label><div class=\"sk-toggleable__content\"><pre>['LotShape', 'Utilities', 'LandSlope', 'Neighborhood', 'ExterQual', 'ExterCond', 'BsmtQual', 'BsmtCond', 'BsmtExposure', 'BsmtFinType1', 'BsmtFinType2', 'HeatingQC', 'CentralAir', 'KitchenQual', 'FireplaceQu', 'GarageFinish', 'GarageQual', 'GarageCond', 'PavedDrive', 'PoolQC', 'Fence']</pre></div></div></div><div class=\"sk-serial\"><div class=\"sk-item\"><div class=\"sk-serial\"><div class=\"sk-item\"><div class=\"sk-estimator sk-toggleable\"><input class=\"sk-toggleable__control sk-hidden--visually\" id=\"69a7bf3c-3f56-4fef-9de5-19fcc8d9f496\" type=\"checkbox\" ><label class=\"sk-toggleable__label\" for=\"69a7bf3c-3f56-4fef-9de5-19fcc8d9f496\">SimpleImputer</label><div class=\"sk-toggleable__content\"><pre>SimpleImputer(fill_value='Missing', strategy='constant')</pre></div></div></div><div class=\"sk-item\"><div class=\"sk-estimator sk-toggleable\"><input class=\"sk-toggleable__control sk-hidden--visually\" id=\"17dc2e7a-8f9e-4448-ba77-baea15c8e67e\" type=\"checkbox\" ><label class=\"sk-toggleable__label\" for=\"17dc2e7a-8f9e-4448-ba77-baea15c8e67e\">OrdinalEncoder</label><div class=\"sk-toggleable__content\"><pre>OrdinalEncoder(categories=[['IR3', 'IR2', 'IR1', 'Reg'],\n",
       "                           ['ELO', 'NoSeWa', 'NoSewr', 'AllPub'],\n",
       "                           ['Sev', 'Mod', 'Gtl'],\n",
       "                           ['MeadowV', 'IDOTRR', 'BrDale', 'BrkSide', 'Edwards',\n",
       "                            'OldTown', 'Sawyer', 'Blueste', 'SWISU', 'NPkVill',\n",
       "                            'NAmes', 'Mitchel', 'SawyerW', 'NWAmes', 'Gilbert',\n",
       "                            'Blmngtn', 'CollgCr', 'Crawfor', 'ClearCr',\n",
       "                            'Somerst', 'Veenker', 'Timber', 'StoneBr',\n",
       "                            'NridgHt', 'NoRidge']...\n",
       "                            'GLQ'],\n",
       "                           ['Po', 'Fa', 'TA', 'Gd', 'Ex'], ['N', 'Y'],\n",
       "                           ['Po', 'Fa', 'TA', 'Gd', 'Ex'],\n",
       "                           ['Missing', 'Po', 'Fa', 'TA', 'Gd', 'Ex'],\n",
       "                           ['Missing', 'Unf', 'RFn', 'Fin'],\n",
       "                           ['Missing', 'Po', 'Fa', 'TA', 'Gd', 'Ex'],\n",
       "                           ['Missing', 'Po', 'Fa', 'TA', 'Gd', 'Ex'],\n",
       "                           ['N', 'P', 'Y'], ['Missing', 'Fa', 'TA', 'Gd', 'Ex'],\n",
       "                           ['Missing', 'MnWw', 'GdWo', 'MnPrv', 'GdPrv']],\n",
       "               handle_unknown='use_encoded_value', unknown_value=-999)</pre></div></div></div></div></div></div></div></div></div></div><div class=\"sk-item\"><div class=\"sk-estimator sk-toggleable\"><input class=\"sk-toggleable__control sk-hidden--visually\" id=\"d878f244-c6d4-4592-8898-11f554fedd22\" type=\"checkbox\" ><label class=\"sk-toggleable__label\" for=\"d878f244-c6d4-4592-8898-11f554fedd22\">Ridge</label><div class=\"sk-toggleable__content\"><pre>Ridge()</pre></div></div></div></div></div></div></div>"
      ],
      "text/plain": [
       "Pipeline(steps=[('prepro',\n",
       "                 ColumnTransformer(transformers=[('ohe_pipe',\n",
       "                                                  Pipeline(steps=[('ohe_imputer',\n",
       "                                                                   SimpleImputer(fill_value='Missing',\n",
       "                                                                                 strategy='constant')),\n",
       "                                                                  ('ohe_encoder',\n",
       "                                                                   OneHotEncoder(handle_unknown='ignore'))]),\n",
       "                                                  ['MSSubClass', 'MSZoning',\n",
       "                                                   'Street', 'Alley',\n",
       "                                                   'LandContour', 'LotConfig',\n",
       "                                                   'Condition1', 'Condition2',\n",
       "                                                   'BldgType', 'HouseStyle',\n",
       "                                                   'RoofStyle', 'Roof...\n",
       "                                                                                  handle_unknown='use_encoded_value',\n",
       "                                                                                  unknown_value=-999))]),\n",
       "                                                  ['LotShape', 'Utilities',\n",
       "                                                   'LandSlope', 'Neighborhood',\n",
       "                                                   'ExterQual', 'ExterCond',\n",
       "                                                   'BsmtQual', 'BsmtCond',\n",
       "                                                   'BsmtExposure',\n",
       "                                                   'BsmtFinType1',\n",
       "                                                   'BsmtFinType2', 'HeatingQC',\n",
       "                                                   'CentralAir', 'KitchenQual',\n",
       "                                                   'FireplaceQu',\n",
       "                                                   'GarageFinish', 'GarageQual',\n",
       "                                                   'GarageCond', 'PavedDrive',\n",
       "                                                   'PoolQC', 'Fence'])])),\n",
       "                ('model_ridge', Ridge())])"
      ]
     },
     "execution_count": 43,
     "metadata": {},
     "output_type": "execute_result"
    }
   ],
   "source": [
    "pipe_ridge.fit(X, y)"
   ]
  },
  {
   "cell_type": "code",
   "execution_count": 44,
   "metadata": {},
   "outputs": [
    {
     "data": {
      "text/plain": [
       "array([-0.11535955, -0.15321363, -0.13058881, -0.11493633, -0.11670488])"
      ]
     },
     "execution_count": 44,
     "metadata": {},
     "output_type": "execute_result"
    }
   ],
   "source": [
    "cross_val_score(pipe_ridge, X_train, y_train, scoring=classic_rmse)"
   ]
  },
  {
   "cell_type": "markdown",
   "metadata": {},
   "source": [
    "## Entrainement et prédiction avec split (Ridge)"
   ]
  },
  {
   "cell_type": "code",
   "execution_count": 45,
   "metadata": {},
   "outputs": [],
   "source": [
    "X_train, X_val, y_train, y_val = train_test_split(X, y, test_size = 0.2, random_state = 0)"
   ]
  },
  {
   "cell_type": "code",
   "execution_count": 101,
   "metadata": {},
   "outputs": [
    {
     "data": {
      "text/html": [
       "<style>#sk-6683d2a0-b0f0-472e-aaab-7f4fecbd4561 {color: black;background-color: white;}#sk-6683d2a0-b0f0-472e-aaab-7f4fecbd4561 pre{padding: 0;}#sk-6683d2a0-b0f0-472e-aaab-7f4fecbd4561 div.sk-toggleable {background-color: white;}#sk-6683d2a0-b0f0-472e-aaab-7f4fecbd4561 label.sk-toggleable__label {cursor: pointer;display: block;width: 100%;margin-bottom: 0;padding: 0.2em 0.3em;box-sizing: border-box;text-align: center;}#sk-6683d2a0-b0f0-472e-aaab-7f4fecbd4561 div.sk-toggleable__content {max-height: 0;max-width: 0;overflow: hidden;text-align: left;background-color: #f0f8ff;}#sk-6683d2a0-b0f0-472e-aaab-7f4fecbd4561 div.sk-toggleable__content pre {margin: 0.2em;color: black;border-radius: 0.25em;background-color: #f0f8ff;}#sk-6683d2a0-b0f0-472e-aaab-7f4fecbd4561 input.sk-toggleable__control:checked~div.sk-toggleable__content {max-height: 200px;max-width: 100%;overflow: auto;}#sk-6683d2a0-b0f0-472e-aaab-7f4fecbd4561 div.sk-estimator input.sk-toggleable__control:checked~label.sk-toggleable__label {background-color: #d4ebff;}#sk-6683d2a0-b0f0-472e-aaab-7f4fecbd4561 div.sk-label input.sk-toggleable__control:checked~label.sk-toggleable__label {background-color: #d4ebff;}#sk-6683d2a0-b0f0-472e-aaab-7f4fecbd4561 input.sk-hidden--visually {border: 0;clip: rect(1px 1px 1px 1px);clip: rect(1px, 1px, 1px, 1px);height: 1px;margin: -1px;overflow: hidden;padding: 0;position: absolute;width: 1px;}#sk-6683d2a0-b0f0-472e-aaab-7f4fecbd4561 div.sk-estimator {font-family: monospace;background-color: #f0f8ff;margin: 0.25em 0.25em;border: 1px dotted black;border-radius: 0.25em;box-sizing: border-box;}#sk-6683d2a0-b0f0-472e-aaab-7f4fecbd4561 div.sk-estimator:hover {background-color: #d4ebff;}#sk-6683d2a0-b0f0-472e-aaab-7f4fecbd4561 div.sk-parallel-item::after {content: \"\";width: 100%;border-bottom: 1px solid gray;flex-grow: 1;}#sk-6683d2a0-b0f0-472e-aaab-7f4fecbd4561 div.sk-label:hover label.sk-toggleable__label {background-color: #d4ebff;}#sk-6683d2a0-b0f0-472e-aaab-7f4fecbd4561 div.sk-serial::before {content: \"\";position: absolute;border-left: 1px solid gray;box-sizing: border-box;top: 2em;bottom: 0;left: 50%;}#sk-6683d2a0-b0f0-472e-aaab-7f4fecbd4561 div.sk-serial {display: flex;flex-direction: column;align-items: center;background-color: white;}#sk-6683d2a0-b0f0-472e-aaab-7f4fecbd4561 div.sk-item {z-index: 1;}#sk-6683d2a0-b0f0-472e-aaab-7f4fecbd4561 div.sk-parallel {display: flex;align-items: stretch;justify-content: center;background-color: white;}#sk-6683d2a0-b0f0-472e-aaab-7f4fecbd4561 div.sk-parallel-item {display: flex;flex-direction: column;position: relative;background-color: white;}#sk-6683d2a0-b0f0-472e-aaab-7f4fecbd4561 div.sk-parallel-item:first-child::after {align-self: flex-end;width: 50%;}#sk-6683d2a0-b0f0-472e-aaab-7f4fecbd4561 div.sk-parallel-item:last-child::after {align-self: flex-start;width: 50%;}#sk-6683d2a0-b0f0-472e-aaab-7f4fecbd4561 div.sk-parallel-item:only-child::after {width: 0;}#sk-6683d2a0-b0f0-472e-aaab-7f4fecbd4561 div.sk-dashed-wrapped {border: 1px dashed gray;margin: 0.2em;box-sizing: border-box;padding-bottom: 0.1em;background-color: white;position: relative;}#sk-6683d2a0-b0f0-472e-aaab-7f4fecbd4561 div.sk-label label {font-family: monospace;font-weight: bold;background-color: white;display: inline-block;line-height: 1.2em;}#sk-6683d2a0-b0f0-472e-aaab-7f4fecbd4561 div.sk-label-container {position: relative;z-index: 2;text-align: center;}#sk-6683d2a0-b0f0-472e-aaab-7f4fecbd4561 div.sk-container {display: inline-block;position: relative;}</style><div id=\"sk-6683d2a0-b0f0-472e-aaab-7f4fecbd4561\" class\"sk-top-container\"><div class=\"sk-container\"><div class=\"sk-item sk-dashed-wrapped\"><div class=\"sk-label-container\"><div class=\"sk-label sk-toggleable\"><input class=\"sk-toggleable__control sk-hidden--visually\" id=\"4f6f977a-c0ce-41db-b1ac-4f80bbd3653b\" type=\"checkbox\" ><label class=\"sk-toggleable__label\" for=\"4f6f977a-c0ce-41db-b1ac-4f80bbd3653b\">Pipeline</label><div class=\"sk-toggleable__content\"><pre>Pipeline(steps=[('prepro',\n",
       "                 ColumnTransformer(transformers=[('ohe_pipe',\n",
       "                                                  Pipeline(steps=[('ohe_imputer',\n",
       "                                                                   SimpleImputer(fill_value='Missing',\n",
       "                                                                                 strategy='constant')),\n",
       "                                                                  ('ohe_encoder',\n",
       "                                                                   OneHotEncoder(handle_unknown='ignore'))]),\n",
       "                                                  ['MSSubClass', 'MSZoning',\n",
       "                                                   'Street', 'Alley',\n",
       "                                                   'LandContour', 'LotConfig',\n",
       "                                                   'Condition1', 'Condition2',\n",
       "                                                   'BldgType', 'HouseStyle',\n",
       "                                                   'RoofStyle', 'Roof...\n",
       "                                                                                  handle_unknown='use_encoded_value',\n",
       "                                                                                  unknown_value=-1))]),\n",
       "                                                  ['LotShape', 'Utilities',\n",
       "                                                   'LandSlope', 'Neighborhood',\n",
       "                                                   'ExterQual', 'ExterCond',\n",
       "                                                   'BsmtQual', 'BsmtCond',\n",
       "                                                   'BsmtExposure',\n",
       "                                                   'BsmtFinType1',\n",
       "                                                   'BsmtFinType2', 'HeatingQC',\n",
       "                                                   'CentralAir', 'KitchenQual',\n",
       "                                                   'FireplaceQu',\n",
       "                                                   'GarageFinish', 'GarageQual',\n",
       "                                                   'GarageCond', 'PavedDrive',\n",
       "                                                   'PoolQC', 'Fence'])])),\n",
       "                ('model_ridge', Ridge())])</pre></div></div></div><div class=\"sk-serial\"><div class=\"sk-item sk-dashed-wrapped\"><div class=\"sk-label-container\"><div class=\"sk-label sk-toggleable\"><input class=\"sk-toggleable__control sk-hidden--visually\" id=\"ee22331f-bb1c-4cc5-b72f-9d0cc27e903f\" type=\"checkbox\" ><label class=\"sk-toggleable__label\" for=\"ee22331f-bb1c-4cc5-b72f-9d0cc27e903f\">prepro: ColumnTransformer</label><div class=\"sk-toggleable__content\"><pre>ColumnTransformer(transformers=[('ohe_pipe',\n",
       "                                 Pipeline(steps=[('ohe_imputer',\n",
       "                                                  SimpleImputer(fill_value='Missing',\n",
       "                                                                strategy='constant')),\n",
       "                                                 ('ohe_encoder',\n",
       "                                                  OneHotEncoder(handle_unknown='ignore'))]),\n",
       "                                 ['MSSubClass', 'MSZoning', 'Street', 'Alley',\n",
       "                                  'LandContour', 'LotConfig', 'Condition1',\n",
       "                                  'Condition2', 'BldgType', 'HouseStyle',\n",
       "                                  'RoofStyle', 'RoofMatl', 'Exterior1st',\n",
       "                                  'Exter...\n",
       "                                                                              'GdWo',\n",
       "                                                                              'MnPrv',\n",
       "                                                                              'GdPrv']],\n",
       "                                                                 handle_unknown='use_encoded_value',\n",
       "                                                                 unknown_value=-1))]),\n",
       "                                 ['LotShape', 'Utilities', 'LandSlope',\n",
       "                                  'Neighborhood', 'ExterQual', 'ExterCond',\n",
       "                                  'BsmtQual', 'BsmtCond', 'BsmtExposure',\n",
       "                                  'BsmtFinType1', 'BsmtFinType2', 'HeatingQC',\n",
       "                                  'CentralAir', 'KitchenQual', 'FireplaceQu',\n",
       "                                  'GarageFinish', 'GarageQual', 'GarageCond',\n",
       "                                  'PavedDrive', 'PoolQC', 'Fence'])])</pre></div></div></div><div class=\"sk-parallel\"><div class=\"sk-parallel-item\"><div class=\"sk-item\"><div class=\"sk-label-container\"><div class=\"sk-label sk-toggleable\"><input class=\"sk-toggleable__control sk-hidden--visually\" id=\"4ca18eba-a32f-4fbf-9a84-84a2ab6f6cbc\" type=\"checkbox\" ><label class=\"sk-toggleable__label\" for=\"4ca18eba-a32f-4fbf-9a84-84a2ab6f6cbc\">ohe_pipe</label><div class=\"sk-toggleable__content\"><pre>['MSSubClass', 'MSZoning', 'Street', 'Alley', 'LandContour', 'LotConfig', 'Condition1', 'Condition2', 'BldgType', 'HouseStyle', 'RoofStyle', 'RoofMatl', 'Exterior1st', 'Exterior2nd', 'MasVnrType', 'Foundation', 'Heating', 'Electrical', 'Functional', 'GarageType', 'MiscFeature', 'SaleType', 'SaleCondition']</pre></div></div></div><div class=\"sk-serial\"><div class=\"sk-item\"><div class=\"sk-serial\"><div class=\"sk-item\"><div class=\"sk-estimator sk-toggleable\"><input class=\"sk-toggleable__control sk-hidden--visually\" id=\"c8415f29-bafc-4b81-85dd-6c9fa814de43\" type=\"checkbox\" ><label class=\"sk-toggleable__label\" for=\"c8415f29-bafc-4b81-85dd-6c9fa814de43\">SimpleImputer</label><div class=\"sk-toggleable__content\"><pre>SimpleImputer(fill_value='Missing', strategy='constant')</pre></div></div></div><div class=\"sk-item\"><div class=\"sk-estimator sk-toggleable\"><input class=\"sk-toggleable__control sk-hidden--visually\" id=\"f9c91717-a9b0-4a95-8509-1133c73bc5ff\" type=\"checkbox\" ><label class=\"sk-toggleable__label\" for=\"f9c91717-a9b0-4a95-8509-1133c73bc5ff\">OneHotEncoder</label><div class=\"sk-toggleable__content\"><pre>OneHotEncoder(handle_unknown='ignore')</pre></div></div></div></div></div></div></div></div><div class=\"sk-parallel-item\"><div class=\"sk-item\"><div class=\"sk-label-container\"><div class=\"sk-label sk-toggleable\"><input class=\"sk-toggleable__control sk-hidden--visually\" id=\"7023cbc9-ba1e-4356-8409-abc54cdaa081\" type=\"checkbox\" ><label class=\"sk-toggleable__label\" for=\"7023cbc9-ba1e-4356-8409-abc54cdaa081\">num_pipe</label><div class=\"sk-toggleable__content\"><pre>['LotArea', 'OverallQual', 'OverallCond', 'YearBuilt', 'YearRemodAdd', 'MasVnrArea', 'BsmtFinSF1', 'BsmtFinSF2', 'BsmtUnfSF', 'TotalBsmtSF', '1stFlrSF', '2ndFlrSF', 'LowQualFinSF', 'GrLivArea', 'BsmtFullBath', 'BsmtHalfBath', 'FullBath', 'HalfBath', 'BedroomAbvGr', 'KitchenAbvGr', 'TotRmsAbvGrd', 'Fireplaces', 'GarageYrBlt', 'GarageCars', 'GarageArea', 'WoodDeckSF', 'OpenPorchSF', 'EnclosedPorch', '3SsnPorch', 'ScreenPorch', 'PoolArea', 'MiscVal', 'MoSold', 'YrSold']</pre></div></div></div><div class=\"sk-serial\"><div class=\"sk-item\"><div class=\"sk-serial\"><div class=\"sk-item\"><div class=\"sk-estimator sk-toggleable\"><input class=\"sk-toggleable__control sk-hidden--visually\" id=\"ce676ee7-111a-47bf-bb70-9a4beeeb4981\" type=\"checkbox\" ><label class=\"sk-toggleable__label\" for=\"ce676ee7-111a-47bf-bb70-9a4beeeb4981\">SimpleImputer</label><div class=\"sk-toggleable__content\"><pre>SimpleImputer(fill_value=0, strategy='constant')</pre></div></div></div><div class=\"sk-item\"><div class=\"sk-estimator sk-toggleable\"><input class=\"sk-toggleable__control sk-hidden--visually\" id=\"1a72197a-a840-441d-9559-bd29de9d960c\" type=\"checkbox\" ><label class=\"sk-toggleable__label\" for=\"1a72197a-a840-441d-9559-bd29de9d960c\">MinMaxScaler</label><div class=\"sk-toggleable__content\"><pre>MinMaxScaler()</pre></div></div></div></div></div></div></div></div><div class=\"sk-parallel-item\"><div class=\"sk-item\"><div class=\"sk-label-container\"><div class=\"sk-label sk-toggleable\"><input class=\"sk-toggleable__control sk-hidden--visually\" id=\"64716252-a7e1-4d01-98d6-86393b18ab47\" type=\"checkbox\" ><label class=\"sk-toggleable__label\" for=\"64716252-a7e1-4d01-98d6-86393b18ab47\">ordinal_pipe</label><div class=\"sk-toggleable__content\"><pre>['LotShape', 'Utilities', 'LandSlope', 'Neighborhood', 'ExterQual', 'ExterCond', 'BsmtQual', 'BsmtCond', 'BsmtExposure', 'BsmtFinType1', 'BsmtFinType2', 'HeatingQC', 'CentralAir', 'KitchenQual', 'FireplaceQu', 'GarageFinish', 'GarageQual', 'GarageCond', 'PavedDrive', 'PoolQC', 'Fence']</pre></div></div></div><div class=\"sk-serial\"><div class=\"sk-item\"><div class=\"sk-serial\"><div class=\"sk-item\"><div class=\"sk-estimator sk-toggleable\"><input class=\"sk-toggleable__control sk-hidden--visually\" id=\"e3d28532-f298-41c2-bbd3-1f8defc0e591\" type=\"checkbox\" ><label class=\"sk-toggleable__label\" for=\"e3d28532-f298-41c2-bbd3-1f8defc0e591\">SimpleImputer</label><div class=\"sk-toggleable__content\"><pre>SimpleImputer(fill_value='Missing', strategy='constant')</pre></div></div></div><div class=\"sk-item\"><div class=\"sk-estimator sk-toggleable\"><input class=\"sk-toggleable__control sk-hidden--visually\" id=\"63d23753-508a-4c3e-9b8d-694a867121ce\" type=\"checkbox\" ><label class=\"sk-toggleable__label\" for=\"63d23753-508a-4c3e-9b8d-694a867121ce\">OrdinalEncoder</label><div class=\"sk-toggleable__content\"><pre>OrdinalEncoder(categories=[['IR3', 'IR2', 'IR1', 'Reg'],\n",
       "                           ['ELO', 'NoSeWa', 'NoSewr', 'AllPub'],\n",
       "                           ['Sev', 'Mod', 'Gtl'],\n",
       "                           ['MeadowV', 'IDOTRR', 'BrDale', 'BrkSide', 'Edwards',\n",
       "                            'OldTown', 'Sawyer', 'Blueste', 'SWISU', 'NPkVill',\n",
       "                            'NAmes', 'Mitchel', 'SawyerW', 'NWAmes', 'Gilbert',\n",
       "                            'Blmngtn', 'CollgCr', 'Crawfor', 'ClearCr',\n",
       "                            'Somerst', 'Veenker', 'Timber', 'StoneBr',\n",
       "                            'NridgHt', 'NoRidge']...\n",
       "                            'GLQ'],\n",
       "                           ['Po', 'Fa', 'TA', 'Gd', 'Ex'], ['N', 'Y'],\n",
       "                           ['Po', 'Fa', 'TA', 'Gd', 'Ex'],\n",
       "                           ['Missing', 'Po', 'Fa', 'TA', 'Gd', 'Ex'],\n",
       "                           ['Missing', 'Unf', 'RFn', 'Fin'],\n",
       "                           ['Missing', 'Po', 'Fa', 'TA', 'Gd', 'Ex'],\n",
       "                           ['Missing', 'Po', 'Fa', 'TA', 'Gd', 'Ex'],\n",
       "                           ['N', 'P', 'Y'], ['Missing', 'Fa', 'TA', 'Gd', 'Ex'],\n",
       "                           ['Missing', 'MnWw', 'GdWo', 'MnPrv', 'GdPrv']],\n",
       "               handle_unknown='use_encoded_value', unknown_value=-1)</pre></div></div></div></div></div></div></div></div></div></div><div class=\"sk-item\"><div class=\"sk-estimator sk-toggleable\"><input class=\"sk-toggleable__control sk-hidden--visually\" id=\"ddc58b00-138b-4ed8-bab7-dd9e3554c3cf\" type=\"checkbox\" ><label class=\"sk-toggleable__label\" for=\"ddc58b00-138b-4ed8-bab7-dd9e3554c3cf\">Ridge</label><div class=\"sk-toggleable__content\"><pre>Ridge()</pre></div></div></div></div></div></div></div>"
      ],
      "text/plain": [
       "Pipeline(steps=[('prepro',\n",
       "                 ColumnTransformer(transformers=[('ohe_pipe',\n",
       "                                                  Pipeline(steps=[('ohe_imputer',\n",
       "                                                                   SimpleImputer(fill_value='Missing',\n",
       "                                                                                 strategy='constant')),\n",
       "                                                                  ('ohe_encoder',\n",
       "                                                                   OneHotEncoder(handle_unknown='ignore'))]),\n",
       "                                                  ['MSSubClass', 'MSZoning',\n",
       "                                                   'Street', 'Alley',\n",
       "                                                   'LandContour', 'LotConfig',\n",
       "                                                   'Condition1', 'Condition2',\n",
       "                                                   'BldgType', 'HouseStyle',\n",
       "                                                   'RoofStyle', 'Roof...\n",
       "                                                                                  handle_unknown='use_encoded_value',\n",
       "                                                                                  unknown_value=-1))]),\n",
       "                                                  ['LotShape', 'Utilities',\n",
       "                                                   'LandSlope', 'Neighborhood',\n",
       "                                                   'ExterQual', 'ExterCond',\n",
       "                                                   'BsmtQual', 'BsmtCond',\n",
       "                                                   'BsmtExposure',\n",
       "                                                   'BsmtFinType1',\n",
       "                                                   'BsmtFinType2', 'HeatingQC',\n",
       "                                                   'CentralAir', 'KitchenQual',\n",
       "                                                   'FireplaceQu',\n",
       "                                                   'GarageFinish', 'GarageQual',\n",
       "                                                   'GarageCond', 'PavedDrive',\n",
       "                                                   'PoolQC', 'Fence'])])),\n",
       "                ('model_ridge', Ridge())])"
      ]
     },
     "execution_count": 101,
     "metadata": {},
     "output_type": "execute_result"
    }
   ],
   "source": [
    "pipe_ridge.fit(X_train, y_train)"
   ]
  },
  {
   "cell_type": "code",
   "execution_count": 102,
   "metadata": {},
   "outputs": [
    {
     "data": {
      "text/plain": [
       "array([-0.12196351, -0.11388988, -0.13571353, -0.15703203, -0.11267503])"
      ]
     },
     "execution_count": 102,
     "metadata": {},
     "output_type": "execute_result"
    }
   ],
   "source": [
    "cross_val_score(pipe_ridge, X_train, y_train, scoring=classic_rmse)"
   ]
  },
  {
   "cell_type": "code",
   "execution_count": 103,
   "metadata": {},
   "outputs": [],
   "source": [
    "y_pred = pipe_ridge.predict(X_val)"
   ]
  },
  {
   "cell_type": "code",
   "execution_count": 104,
   "metadata": {},
   "outputs": [
    {
     "data": {
      "text/plain": [
       "0.12508814703906207"
      ]
     },
     "execution_count": 104,
     "metadata": {},
     "output_type": "execute_result"
    }
   ],
   "source": [
    "custom_score(y_val, y_pred)"
   ]
  },
  {
   "cell_type": "markdown",
   "metadata": {},
   "source": [
    "## Optimisation du modèle Ridge :\n",
    "Randomized Search + Grid Search\n",
    "<br>Ensemble"
   ]
  },
  {
   "cell_type": "code",
   "execution_count": 64,
   "metadata": {},
   "outputs": [
    {
     "data": {
      "text/plain": [
       "dict_keys(['memory', 'steps', 'verbose', 'prepro', 'model_ridge', 'prepro__n_jobs', 'prepro__remainder', 'prepro__sparse_threshold', 'prepro__transformer_weights', 'prepro__transformers', 'prepro__verbose', 'prepro__ohe_pipe', 'prepro__num_pipe', 'prepro__ordinal_pipe', 'prepro__ohe_pipe__memory', 'prepro__ohe_pipe__steps', 'prepro__ohe_pipe__verbose', 'prepro__ohe_pipe__ohe_imputer', 'prepro__ohe_pipe__ohe_encoder', 'prepro__ohe_pipe__ohe_imputer__add_indicator', 'prepro__ohe_pipe__ohe_imputer__copy', 'prepro__ohe_pipe__ohe_imputer__fill_value', 'prepro__ohe_pipe__ohe_imputer__missing_values', 'prepro__ohe_pipe__ohe_imputer__strategy', 'prepro__ohe_pipe__ohe_imputer__verbose', 'prepro__ohe_pipe__ohe_encoder__categories', 'prepro__ohe_pipe__ohe_encoder__drop', 'prepro__ohe_pipe__ohe_encoder__dtype', 'prepro__ohe_pipe__ohe_encoder__handle_unknown', 'prepro__ohe_pipe__ohe_encoder__sparse', 'prepro__num_pipe__memory', 'prepro__num_pipe__steps', 'prepro__num_pipe__verbose', 'prepro__num_pipe__num_imputer', 'prepro__num_pipe__num_scaler', 'prepro__num_pipe__num_imputer__add_indicator', 'prepro__num_pipe__num_imputer__copy', 'prepro__num_pipe__num_imputer__fill_value', 'prepro__num_pipe__num_imputer__missing_values', 'prepro__num_pipe__num_imputer__strategy', 'prepro__num_pipe__num_imputer__verbose', 'prepro__num_pipe__num_scaler__clip', 'prepro__num_pipe__num_scaler__copy', 'prepro__num_pipe__num_scaler__feature_range', 'prepro__ordinal_pipe__memory', 'prepro__ordinal_pipe__steps', 'prepro__ordinal_pipe__verbose', 'prepro__ordinal_pipe__ordinal_imputer', 'prepro__ordinal_pipe__ordinal_encoder', 'prepro__ordinal_pipe__ordinal_imputer__add_indicator', 'prepro__ordinal_pipe__ordinal_imputer__copy', 'prepro__ordinal_pipe__ordinal_imputer__fill_value', 'prepro__ordinal_pipe__ordinal_imputer__missing_values', 'prepro__ordinal_pipe__ordinal_imputer__strategy', 'prepro__ordinal_pipe__ordinal_imputer__verbose', 'prepro__ordinal_pipe__ordinal_encoder__categories', 'prepro__ordinal_pipe__ordinal_encoder__dtype', 'prepro__ordinal_pipe__ordinal_encoder__handle_unknown', 'prepro__ordinal_pipe__ordinal_encoder__unknown_value', 'model_ridge__alpha', 'model_ridge__copy_X', 'model_ridge__fit_intercept', 'model_ridge__max_iter', 'model_ridge__normalize', 'model_ridge__random_state', 'model_ridge__solver', 'model_ridge__tol'])"
      ]
     },
     "execution_count": 64,
     "metadata": {},
     "output_type": "execute_result"
    }
   ],
   "source": [
    "pipe_ridge.get_params().keys()"
   ]
  },
  {
   "cell_type": "code",
   "execution_count": 99,
   "metadata": {},
   "outputs": [
    {
     "data": {
      "text/html": [
       "<style>#sk-87ef68cb-7197-4960-b5d6-c9fa326a6ce9 {color: black;background-color: white;}#sk-87ef68cb-7197-4960-b5d6-c9fa326a6ce9 pre{padding: 0;}#sk-87ef68cb-7197-4960-b5d6-c9fa326a6ce9 div.sk-toggleable {background-color: white;}#sk-87ef68cb-7197-4960-b5d6-c9fa326a6ce9 label.sk-toggleable__label {cursor: pointer;display: block;width: 100%;margin-bottom: 0;padding: 0.2em 0.3em;box-sizing: border-box;text-align: center;}#sk-87ef68cb-7197-4960-b5d6-c9fa326a6ce9 div.sk-toggleable__content {max-height: 0;max-width: 0;overflow: hidden;text-align: left;background-color: #f0f8ff;}#sk-87ef68cb-7197-4960-b5d6-c9fa326a6ce9 div.sk-toggleable__content pre {margin: 0.2em;color: black;border-radius: 0.25em;background-color: #f0f8ff;}#sk-87ef68cb-7197-4960-b5d6-c9fa326a6ce9 input.sk-toggleable__control:checked~div.sk-toggleable__content {max-height: 200px;max-width: 100%;overflow: auto;}#sk-87ef68cb-7197-4960-b5d6-c9fa326a6ce9 div.sk-estimator input.sk-toggleable__control:checked~label.sk-toggleable__label {background-color: #d4ebff;}#sk-87ef68cb-7197-4960-b5d6-c9fa326a6ce9 div.sk-label input.sk-toggleable__control:checked~label.sk-toggleable__label {background-color: #d4ebff;}#sk-87ef68cb-7197-4960-b5d6-c9fa326a6ce9 input.sk-hidden--visually {border: 0;clip: rect(1px 1px 1px 1px);clip: rect(1px, 1px, 1px, 1px);height: 1px;margin: -1px;overflow: hidden;padding: 0;position: absolute;width: 1px;}#sk-87ef68cb-7197-4960-b5d6-c9fa326a6ce9 div.sk-estimator {font-family: monospace;background-color: #f0f8ff;margin: 0.25em 0.25em;border: 1px dotted black;border-radius: 0.25em;box-sizing: border-box;}#sk-87ef68cb-7197-4960-b5d6-c9fa326a6ce9 div.sk-estimator:hover {background-color: #d4ebff;}#sk-87ef68cb-7197-4960-b5d6-c9fa326a6ce9 div.sk-parallel-item::after {content: \"\";width: 100%;border-bottom: 1px solid gray;flex-grow: 1;}#sk-87ef68cb-7197-4960-b5d6-c9fa326a6ce9 div.sk-label:hover label.sk-toggleable__label {background-color: #d4ebff;}#sk-87ef68cb-7197-4960-b5d6-c9fa326a6ce9 div.sk-serial::before {content: \"\";position: absolute;border-left: 1px solid gray;box-sizing: border-box;top: 2em;bottom: 0;left: 50%;}#sk-87ef68cb-7197-4960-b5d6-c9fa326a6ce9 div.sk-serial {display: flex;flex-direction: column;align-items: center;background-color: white;}#sk-87ef68cb-7197-4960-b5d6-c9fa326a6ce9 div.sk-item {z-index: 1;}#sk-87ef68cb-7197-4960-b5d6-c9fa326a6ce9 div.sk-parallel {display: flex;align-items: stretch;justify-content: center;background-color: white;}#sk-87ef68cb-7197-4960-b5d6-c9fa326a6ce9 div.sk-parallel-item {display: flex;flex-direction: column;position: relative;background-color: white;}#sk-87ef68cb-7197-4960-b5d6-c9fa326a6ce9 div.sk-parallel-item:first-child::after {align-self: flex-end;width: 50%;}#sk-87ef68cb-7197-4960-b5d6-c9fa326a6ce9 div.sk-parallel-item:last-child::after {align-self: flex-start;width: 50%;}#sk-87ef68cb-7197-4960-b5d6-c9fa326a6ce9 div.sk-parallel-item:only-child::after {width: 0;}#sk-87ef68cb-7197-4960-b5d6-c9fa326a6ce9 div.sk-dashed-wrapped {border: 1px dashed gray;margin: 0.2em;box-sizing: border-box;padding-bottom: 0.1em;background-color: white;position: relative;}#sk-87ef68cb-7197-4960-b5d6-c9fa326a6ce9 div.sk-label label {font-family: monospace;font-weight: bold;background-color: white;display: inline-block;line-height: 1.2em;}#sk-87ef68cb-7197-4960-b5d6-c9fa326a6ce9 div.sk-label-container {position: relative;z-index: 2;text-align: center;}#sk-87ef68cb-7197-4960-b5d6-c9fa326a6ce9 div.sk-container {display: inline-block;position: relative;}</style><div id=\"sk-87ef68cb-7197-4960-b5d6-c9fa326a6ce9\" class\"sk-top-container\"><div class=\"sk-container\"><div class=\"sk-item sk-dashed-wrapped\"><div class=\"sk-label-container\"><div class=\"sk-label sk-toggleable\"><input class=\"sk-toggleable__control sk-hidden--visually\" id=\"907cdec3-ba06-4fad-8c22-bf30768e4da0\" type=\"checkbox\" ><label class=\"sk-toggleable__label\" for=\"907cdec3-ba06-4fad-8c22-bf30768e4da0\">RandomizedSearchCV</label><div class=\"sk-toggleable__content\"><pre>RandomizedSearchCV(estimator=Pipeline(steps=[('prepro',\n",
       "                                              ColumnTransformer(transformers=[('ohe_pipe',\n",
       "                                                                               Pipeline(steps=[('ohe_imputer',\n",
       "                                                                                                SimpleImputer(fill_value='Missing',\n",
       "                                                                                                              strategy='constant')),\n",
       "                                                                                               ('ohe_encoder',\n",
       "                                                                                                OneHotEncoder(handle_unknown='ignore'))]),\n",
       "                                                                               ['MSSubClass',\n",
       "                                                                                'MSZoning',\n",
       "                                                                                'Street',\n",
       "                                                                                'Alley',\n",
       "                                                                                'LandContour',\n",
       "                                                                                'LotConfig',\n",
       "                                                                                'Condition1',\n",
       "                                                                                'Condition2',\n",
       "                                                                                'BldgType',\n",
       "                                                                                '...\n",
       "       5600, 5700, 5800, 5900, 6000, 6100, 6200, 6300, 6400, 6500, 6600,\n",
       "       6700, 6800, 6900, 7000, 7100, 7200, 7300, 7400, 7500, 7600, 7700,\n",
       "       7800, 7900, 8000, 8100, 8200, 8300, 8400, 8500, 8600, 8700, 8800,\n",
       "       8900, 9000, 9100, 9200, 9300, 9400, 9500, 9600, 9700, 9800, 9900]),\n",
       "                                        'model_ridge__solver': ['auto', 'svd',\n",
       "                                                                'cholesky',\n",
       "                                                                'lsqr',\n",
       "                                                                'sparse_cg',\n",
       "                                                                'sag',\n",
       "                                                                'saga']},\n",
       "                   random_state=0,\n",
       "                   scoring=make_scorer(custom_score, greater_is_better=False))</pre></div></div></div><div class=\"sk-parallel\"><div class=\"sk-parallel-item\"><div class=\"sk-item\"><div class=\"sk-serial\"><div class=\"sk-item\"><div class=\"sk-serial\"><div class=\"sk-item sk-dashed-wrapped\"><div class=\"sk-label-container\"><div class=\"sk-label sk-toggleable\"><input class=\"sk-toggleable__control sk-hidden--visually\" id=\"a4eeff54-0094-4d84-8046-a5a78d1dc8b6\" type=\"checkbox\" ><label class=\"sk-toggleable__label\" for=\"a4eeff54-0094-4d84-8046-a5a78d1dc8b6\">prepro: ColumnTransformer</label><div class=\"sk-toggleable__content\"><pre>ColumnTransformer(transformers=[('ohe_pipe',\n",
       "                                 Pipeline(steps=[('ohe_imputer',\n",
       "                                                  SimpleImputer(fill_value='Missing',\n",
       "                                                                strategy='constant')),\n",
       "                                                 ('ohe_encoder',\n",
       "                                                  OneHotEncoder(handle_unknown='ignore'))]),\n",
       "                                 ['MSSubClass', 'MSZoning', 'Street', 'Alley',\n",
       "                                  'LandContour', 'LotConfig', 'Condition1',\n",
       "                                  'Condition2', 'BldgType', 'HouseStyle',\n",
       "                                  'RoofStyle', 'RoofMatl', 'Exterior1st',\n",
       "                                  'Exter...\n",
       "                                                                              'GdWo',\n",
       "                                                                              'MnPrv',\n",
       "                                                                              'GdPrv']],\n",
       "                                                                 handle_unknown='use_encoded_value',\n",
       "                                                                 unknown_value=-1))]),\n",
       "                                 ['LotShape', 'Utilities', 'LandSlope',\n",
       "                                  'Neighborhood', 'ExterQual', 'ExterCond',\n",
       "                                  'BsmtQual', 'BsmtCond', 'BsmtExposure',\n",
       "                                  'BsmtFinType1', 'BsmtFinType2', 'HeatingQC',\n",
       "                                  'CentralAir', 'KitchenQual', 'FireplaceQu',\n",
       "                                  'GarageFinish', 'GarageQual', 'GarageCond',\n",
       "                                  'PavedDrive', 'PoolQC', 'Fence'])])</pre></div></div></div><div class=\"sk-parallel\"><div class=\"sk-parallel-item\"><div class=\"sk-item\"><div class=\"sk-label-container\"><div class=\"sk-label sk-toggleable\"><input class=\"sk-toggleable__control sk-hidden--visually\" id=\"18698702-f568-4e83-a2b3-5ab780ac1bfa\" type=\"checkbox\" ><label class=\"sk-toggleable__label\" for=\"18698702-f568-4e83-a2b3-5ab780ac1bfa\">ohe_pipe</label><div class=\"sk-toggleable__content\"><pre>['MSSubClass', 'MSZoning', 'Street', 'Alley', 'LandContour', 'LotConfig', 'Condition1', 'Condition2', 'BldgType', 'HouseStyle', 'RoofStyle', 'RoofMatl', 'Exterior1st', 'Exterior2nd', 'MasVnrType', 'Foundation', 'Heating', 'Electrical', 'Functional', 'GarageType', 'MiscFeature', 'SaleType', 'SaleCondition']</pre></div></div></div><div class=\"sk-serial\"><div class=\"sk-item\"><div class=\"sk-serial\"><div class=\"sk-item\"><div class=\"sk-estimator sk-toggleable\"><input class=\"sk-toggleable__control sk-hidden--visually\" id=\"941fbd59-9800-4e8c-826c-1286e5ca0d9c\" type=\"checkbox\" ><label class=\"sk-toggleable__label\" for=\"941fbd59-9800-4e8c-826c-1286e5ca0d9c\">SimpleImputer</label><div class=\"sk-toggleable__content\"><pre>SimpleImputer(fill_value='Missing', strategy='constant')</pre></div></div></div><div class=\"sk-item\"><div class=\"sk-estimator sk-toggleable\"><input class=\"sk-toggleable__control sk-hidden--visually\" id=\"33a6d662-a0cd-4ce4-80d0-22c54d99bf04\" type=\"checkbox\" ><label class=\"sk-toggleable__label\" for=\"33a6d662-a0cd-4ce4-80d0-22c54d99bf04\">OneHotEncoder</label><div class=\"sk-toggleable__content\"><pre>OneHotEncoder(handle_unknown='ignore')</pre></div></div></div></div></div></div></div></div><div class=\"sk-parallel-item\"><div class=\"sk-item\"><div class=\"sk-label-container\"><div class=\"sk-label sk-toggleable\"><input class=\"sk-toggleable__control sk-hidden--visually\" id=\"5d057aed-f288-453b-87fa-9b6a05c6c902\" type=\"checkbox\" ><label class=\"sk-toggleable__label\" for=\"5d057aed-f288-453b-87fa-9b6a05c6c902\">num_pipe</label><div class=\"sk-toggleable__content\"><pre>['LotArea', 'OverallQual', 'OverallCond', 'YearBuilt', 'YearRemodAdd', 'MasVnrArea', 'BsmtFinSF1', 'BsmtFinSF2', 'BsmtUnfSF', 'TotalBsmtSF', '1stFlrSF', '2ndFlrSF', 'LowQualFinSF', 'GrLivArea', 'BsmtFullBath', 'BsmtHalfBath', 'FullBath', 'HalfBath', 'BedroomAbvGr', 'KitchenAbvGr', 'TotRmsAbvGrd', 'Fireplaces', 'GarageYrBlt', 'GarageCars', 'GarageArea', 'WoodDeckSF', 'OpenPorchSF', 'EnclosedPorch', '3SsnPorch', 'ScreenPorch', 'PoolArea', 'MiscVal', 'MoSold', 'YrSold']</pre></div></div></div><div class=\"sk-serial\"><div class=\"sk-item\"><div class=\"sk-serial\"><div class=\"sk-item\"><div class=\"sk-estimator sk-toggleable\"><input class=\"sk-toggleable__control sk-hidden--visually\" id=\"c472a176-198a-46a1-8c54-340b4fdcf439\" type=\"checkbox\" ><label class=\"sk-toggleable__label\" for=\"c472a176-198a-46a1-8c54-340b4fdcf439\">SimpleImputer</label><div class=\"sk-toggleable__content\"><pre>SimpleImputer(fill_value=0, strategy='constant')</pre></div></div></div><div class=\"sk-item\"><div class=\"sk-estimator sk-toggleable\"><input class=\"sk-toggleable__control sk-hidden--visually\" id=\"7a170de2-f615-4945-a0d8-f9450dce1da9\" type=\"checkbox\" ><label class=\"sk-toggleable__label\" for=\"7a170de2-f615-4945-a0d8-f9450dce1da9\">MinMaxScaler</label><div class=\"sk-toggleable__content\"><pre>MinMaxScaler()</pre></div></div></div></div></div></div></div></div><div class=\"sk-parallel-item\"><div class=\"sk-item\"><div class=\"sk-label-container\"><div class=\"sk-label sk-toggleable\"><input class=\"sk-toggleable__control sk-hidden--visually\" id=\"e8958992-0c56-4181-8f89-42fae4282105\" type=\"checkbox\" ><label class=\"sk-toggleable__label\" for=\"e8958992-0c56-4181-8f89-42fae4282105\">ordinal_pipe</label><div class=\"sk-toggleable__content\"><pre>['LotShape', 'Utilities', 'LandSlope', 'Neighborhood', 'ExterQual', 'ExterCond', 'BsmtQual', 'BsmtCond', 'BsmtExposure', 'BsmtFinType1', 'BsmtFinType2', 'HeatingQC', 'CentralAir', 'KitchenQual', 'FireplaceQu', 'GarageFinish', 'GarageQual', 'GarageCond', 'PavedDrive', 'PoolQC', 'Fence']</pre></div></div></div><div class=\"sk-serial\"><div class=\"sk-item\"><div class=\"sk-serial\"><div class=\"sk-item\"><div class=\"sk-estimator sk-toggleable\"><input class=\"sk-toggleable__control sk-hidden--visually\" id=\"94ec7b00-394e-4d22-8f7e-af78d63415fe\" type=\"checkbox\" ><label class=\"sk-toggleable__label\" for=\"94ec7b00-394e-4d22-8f7e-af78d63415fe\">SimpleImputer</label><div class=\"sk-toggleable__content\"><pre>SimpleImputer(fill_value='Missing', strategy='constant')</pre></div></div></div><div class=\"sk-item\"><div class=\"sk-estimator sk-toggleable\"><input class=\"sk-toggleable__control sk-hidden--visually\" id=\"4d6b6e7c-f918-482a-8f7b-0ba2c00127f0\" type=\"checkbox\" ><label class=\"sk-toggleable__label\" for=\"4d6b6e7c-f918-482a-8f7b-0ba2c00127f0\">OrdinalEncoder</label><div class=\"sk-toggleable__content\"><pre>OrdinalEncoder(categories=[['IR3', 'IR2', 'IR1', 'Reg'],\n",
       "                           ['ELO', 'NoSeWa', 'NoSewr', 'AllPub'],\n",
       "                           ['Sev', 'Mod', 'Gtl'],\n",
       "                           ['MeadowV', 'IDOTRR', 'BrDale', 'BrkSide', 'Edwards',\n",
       "                            'OldTown', 'Sawyer', 'Blueste', 'SWISU', 'NPkVill',\n",
       "                            'NAmes', 'Mitchel', 'SawyerW', 'NWAmes', 'Gilbert',\n",
       "                            'Blmngtn', 'CollgCr', 'Crawfor', 'ClearCr',\n",
       "                            'Somerst', 'Veenker', 'Timber', 'StoneBr',\n",
       "                            'NridgHt', 'NoRidge']...\n",
       "                            'GLQ'],\n",
       "                           ['Po', 'Fa', 'TA', 'Gd', 'Ex'], ['N', 'Y'],\n",
       "                           ['Po', 'Fa', 'TA', 'Gd', 'Ex'],\n",
       "                           ['Missing', 'Po', 'Fa', 'TA', 'Gd', 'Ex'],\n",
       "                           ['Missing', 'Unf', 'RFn', 'Fin'],\n",
       "                           ['Missing', 'Po', 'Fa', 'TA', 'Gd', 'Ex'],\n",
       "                           ['Missing', 'Po', 'Fa', 'TA', 'Gd', 'Ex'],\n",
       "                           ['N', 'P', 'Y'], ['Missing', 'Fa', 'TA', 'Gd', 'Ex'],\n",
       "                           ['Missing', 'MnWw', 'GdWo', 'MnPrv', 'GdPrv']],\n",
       "               handle_unknown='use_encoded_value', unknown_value=-1)</pre></div></div></div></div></div></div></div></div></div></div><div class=\"sk-item\"><div class=\"sk-estimator sk-toggleable\"><input class=\"sk-toggleable__control sk-hidden--visually\" id=\"f27626c5-01bd-4331-9240-a96be2ed02a0\" type=\"checkbox\" ><label class=\"sk-toggleable__label\" for=\"f27626c5-01bd-4331-9240-a96be2ed02a0\">Ridge</label><div class=\"sk-toggleable__content\"><pre>Ridge()</pre></div></div></div></div></div></div></div></div></div></div></div></div>"
      ],
      "text/plain": [
       "RandomizedSearchCV(estimator=Pipeline(steps=[('prepro',\n",
       "                                              ColumnTransformer(transformers=[('ohe_pipe',\n",
       "                                                                               Pipeline(steps=[('ohe_imputer',\n",
       "                                                                                                SimpleImputer(fill_value='Missing',\n",
       "                                                                                                              strategy='constant')),\n",
       "                                                                                               ('ohe_encoder',\n",
       "                                                                                                OneHotEncoder(handle_unknown='ignore'))]),\n",
       "                                                                               ['MSSubClass',\n",
       "                                                                                'MSZoning',\n",
       "                                                                                'Street',\n",
       "                                                                                'Alley',\n",
       "                                                                                'LandContour',\n",
       "                                                                                'LotConfig',\n",
       "                                                                                'Condition1',\n",
       "                                                                                'Condition2',\n",
       "                                                                                'BldgType',\n",
       "                                                                                '...\n",
       "       5600, 5700, 5800, 5900, 6000, 6100, 6200, 6300, 6400, 6500, 6600,\n",
       "       6700, 6800, 6900, 7000, 7100, 7200, 7300, 7400, 7500, 7600, 7700,\n",
       "       7800, 7900, 8000, 8100, 8200, 8300, 8400, 8500, 8600, 8700, 8800,\n",
       "       8900, 9000, 9100, 9200, 9300, 9400, 9500, 9600, 9700, 9800, 9900]),\n",
       "                                        'model_ridge__solver': ['auto', 'svd',\n",
       "                                                                'cholesky',\n",
       "                                                                'lsqr',\n",
       "                                                                'sparse_cg',\n",
       "                                                                'sag',\n",
       "                                                                'saga']},\n",
       "                   random_state=0,\n",
       "                   scoring=make_scorer(custom_score, greater_is_better=False))"
      ]
     },
     "execution_count": 99,
     "metadata": {},
     "output_type": "execute_result"
    }
   ],
   "source": [
    "from sklearn.model_selection import RandomizedSearchCV\n",
    "distributions_ridge = dict(model_ridge__solver = [\"auto\", \"svd\", \"cholesky\", \"lsqr\", \"sparse_cg\", \"sag\", \"saga\"], model_ridge__max_iter = np.arange(100, 10000, 100), model_ridge__alpha = np.linspace(0,1))\n",
    "\n",
    "ridge_search = RandomizedSearchCV(pipe_ridge, distributions_ridge, random_state=0, scoring=classic_rmse)\n",
    "ridge_search.fit(X_train, y_train)\n",
    "\n"
   ]
  },
  {
   "cell_type": "code",
   "execution_count": 100,
   "metadata": {},
   "outputs": [
    {
     "name": "stdout",
     "output_type": "stream",
     "text": [
      "Best Score : -0.12843732904810506\n",
      "Best Parameters : {'model_ridge__solver': 'cholesky', 'model_ridge__max_iter': 5100, 'model_ridge__alpha': 0.9387755102040816}\n"
     ]
    }
   ],
   "source": [
    "print(f\"Best Score : {ridge_search.best_score_}\")\n",
    "print(f\"Best Parameters : {ridge_search.best_params_}\")"
   ]
  },
  {
   "cell_type": "markdown",
   "metadata": {},
   "source": [
    "# SVR"
   ]
  },
  {
   "cell_type": "markdown",
   "metadata": {},
   "source": [
    "## Entrainement et prédiction avec split"
   ]
  },
  {
   "cell_type": "code",
   "execution_count": 105,
   "metadata": {},
   "outputs": [],
   "source": [
    "X_train, X_val, y_train, y_val = train_test_split(X, y, test_size = 0.2, random_state = 0)"
   ]
  },
  {
   "cell_type": "code",
   "execution_count": 106,
   "metadata": {},
   "outputs": [
    {
     "data": {
      "text/html": [
       "<style>#sk-522e000d-d396-4ff9-9b9c-e1ce8fb006a1 {color: black;background-color: white;}#sk-522e000d-d396-4ff9-9b9c-e1ce8fb006a1 pre{padding: 0;}#sk-522e000d-d396-4ff9-9b9c-e1ce8fb006a1 div.sk-toggleable {background-color: white;}#sk-522e000d-d396-4ff9-9b9c-e1ce8fb006a1 label.sk-toggleable__label {cursor: pointer;display: block;width: 100%;margin-bottom: 0;padding: 0.2em 0.3em;box-sizing: border-box;text-align: center;}#sk-522e000d-d396-4ff9-9b9c-e1ce8fb006a1 div.sk-toggleable__content {max-height: 0;max-width: 0;overflow: hidden;text-align: left;background-color: #f0f8ff;}#sk-522e000d-d396-4ff9-9b9c-e1ce8fb006a1 div.sk-toggleable__content pre {margin: 0.2em;color: black;border-radius: 0.25em;background-color: #f0f8ff;}#sk-522e000d-d396-4ff9-9b9c-e1ce8fb006a1 input.sk-toggleable__control:checked~div.sk-toggleable__content {max-height: 200px;max-width: 100%;overflow: auto;}#sk-522e000d-d396-4ff9-9b9c-e1ce8fb006a1 div.sk-estimator input.sk-toggleable__control:checked~label.sk-toggleable__label {background-color: #d4ebff;}#sk-522e000d-d396-4ff9-9b9c-e1ce8fb006a1 div.sk-label input.sk-toggleable__control:checked~label.sk-toggleable__label {background-color: #d4ebff;}#sk-522e000d-d396-4ff9-9b9c-e1ce8fb006a1 input.sk-hidden--visually {border: 0;clip: rect(1px 1px 1px 1px);clip: rect(1px, 1px, 1px, 1px);height: 1px;margin: -1px;overflow: hidden;padding: 0;position: absolute;width: 1px;}#sk-522e000d-d396-4ff9-9b9c-e1ce8fb006a1 div.sk-estimator {font-family: monospace;background-color: #f0f8ff;margin: 0.25em 0.25em;border: 1px dotted black;border-radius: 0.25em;box-sizing: border-box;}#sk-522e000d-d396-4ff9-9b9c-e1ce8fb006a1 div.sk-estimator:hover {background-color: #d4ebff;}#sk-522e000d-d396-4ff9-9b9c-e1ce8fb006a1 div.sk-parallel-item::after {content: \"\";width: 100%;border-bottom: 1px solid gray;flex-grow: 1;}#sk-522e000d-d396-4ff9-9b9c-e1ce8fb006a1 div.sk-label:hover label.sk-toggleable__label {background-color: #d4ebff;}#sk-522e000d-d396-4ff9-9b9c-e1ce8fb006a1 div.sk-serial::before {content: \"\";position: absolute;border-left: 1px solid gray;box-sizing: border-box;top: 2em;bottom: 0;left: 50%;}#sk-522e000d-d396-4ff9-9b9c-e1ce8fb006a1 div.sk-serial {display: flex;flex-direction: column;align-items: center;background-color: white;}#sk-522e000d-d396-4ff9-9b9c-e1ce8fb006a1 div.sk-item {z-index: 1;}#sk-522e000d-d396-4ff9-9b9c-e1ce8fb006a1 div.sk-parallel {display: flex;align-items: stretch;justify-content: center;background-color: white;}#sk-522e000d-d396-4ff9-9b9c-e1ce8fb006a1 div.sk-parallel-item {display: flex;flex-direction: column;position: relative;background-color: white;}#sk-522e000d-d396-4ff9-9b9c-e1ce8fb006a1 div.sk-parallel-item:first-child::after {align-self: flex-end;width: 50%;}#sk-522e000d-d396-4ff9-9b9c-e1ce8fb006a1 div.sk-parallel-item:last-child::after {align-self: flex-start;width: 50%;}#sk-522e000d-d396-4ff9-9b9c-e1ce8fb006a1 div.sk-parallel-item:only-child::after {width: 0;}#sk-522e000d-d396-4ff9-9b9c-e1ce8fb006a1 div.sk-dashed-wrapped {border: 1px dashed gray;margin: 0.2em;box-sizing: border-box;padding-bottom: 0.1em;background-color: white;position: relative;}#sk-522e000d-d396-4ff9-9b9c-e1ce8fb006a1 div.sk-label label {font-family: monospace;font-weight: bold;background-color: white;display: inline-block;line-height: 1.2em;}#sk-522e000d-d396-4ff9-9b9c-e1ce8fb006a1 div.sk-label-container {position: relative;z-index: 2;text-align: center;}#sk-522e000d-d396-4ff9-9b9c-e1ce8fb006a1 div.sk-container {display: inline-block;position: relative;}</style><div id=\"sk-522e000d-d396-4ff9-9b9c-e1ce8fb006a1\" class\"sk-top-container\"><div class=\"sk-container\"><div class=\"sk-item sk-dashed-wrapped\"><div class=\"sk-label-container\"><div class=\"sk-label sk-toggleable\"><input class=\"sk-toggleable__control sk-hidden--visually\" id=\"e98c0104-5e3f-42ef-9748-6be26dbfe8b3\" type=\"checkbox\" ><label class=\"sk-toggleable__label\" for=\"e98c0104-5e3f-42ef-9748-6be26dbfe8b3\">Pipeline</label><div class=\"sk-toggleable__content\"><pre>Pipeline(steps=[('prepro',\n",
       "                 ColumnTransformer(transformers=[('ohe_pipe',\n",
       "                                                  Pipeline(steps=[('ohe_imputer',\n",
       "                                                                   SimpleImputer(fill_value='Missing',\n",
       "                                                                                 strategy='constant')),\n",
       "                                                                  ('ohe_encoder',\n",
       "                                                                   OneHotEncoder(handle_unknown='ignore'))]),\n",
       "                                                  ['MSSubClass', 'MSZoning',\n",
       "                                                   'Street', 'Alley',\n",
       "                                                   'LandContour', 'LotConfig',\n",
       "                                                   'Condition1', 'Condition2',\n",
       "                                                   'BldgType', 'HouseStyle',\n",
       "                                                   'RoofStyle', 'Roof...\n",
       "                                                                                               'GdPrv']],\n",
       "                                                                                  handle_unknown='use_encoded_value',\n",
       "                                                                                  unknown_value=-1))]),\n",
       "                                                  ['LotShape', 'Utilities',\n",
       "                                                   'LandSlope', 'Neighborhood',\n",
       "                                                   'ExterQual', 'ExterCond',\n",
       "                                                   'BsmtQual', 'BsmtCond',\n",
       "                                                   'BsmtExposure',\n",
       "                                                   'BsmtFinType1',\n",
       "                                                   'BsmtFinType2', 'HeatingQC',\n",
       "                                                   'CentralAir', 'KitchenQual',\n",
       "                                                   'FireplaceQu',\n",
       "                                                   'GarageFinish', 'GarageQual',\n",
       "                                                   'GarageCond', 'PavedDrive',\n",
       "                                                   'PoolQC', 'Fence'])])),\n",
       "                ('model_svr', SVR())])</pre></div></div></div><div class=\"sk-serial\"><div class=\"sk-item sk-dashed-wrapped\"><div class=\"sk-label-container\"><div class=\"sk-label sk-toggleable\"><input class=\"sk-toggleable__control sk-hidden--visually\" id=\"4c2f19d6-23c2-4cb5-b834-2c3f99f36338\" type=\"checkbox\" ><label class=\"sk-toggleable__label\" for=\"4c2f19d6-23c2-4cb5-b834-2c3f99f36338\">prepro: ColumnTransformer</label><div class=\"sk-toggleable__content\"><pre>ColumnTransformer(transformers=[('ohe_pipe',\n",
       "                                 Pipeline(steps=[('ohe_imputer',\n",
       "                                                  SimpleImputer(fill_value='Missing',\n",
       "                                                                strategy='constant')),\n",
       "                                                 ('ohe_encoder',\n",
       "                                                  OneHotEncoder(handle_unknown='ignore'))]),\n",
       "                                 ['MSSubClass', 'MSZoning', 'Street', 'Alley',\n",
       "                                  'LandContour', 'LotConfig', 'Condition1',\n",
       "                                  'Condition2', 'BldgType', 'HouseStyle',\n",
       "                                  'RoofStyle', 'RoofMatl', 'Exterior1st',\n",
       "                                  'Exter...\n",
       "                                                                              'GdWo',\n",
       "                                                                              'MnPrv',\n",
       "                                                                              'GdPrv']],\n",
       "                                                                 handle_unknown='use_encoded_value',\n",
       "                                                                 unknown_value=-1))]),\n",
       "                                 ['LotShape', 'Utilities', 'LandSlope',\n",
       "                                  'Neighborhood', 'ExterQual', 'ExterCond',\n",
       "                                  'BsmtQual', 'BsmtCond', 'BsmtExposure',\n",
       "                                  'BsmtFinType1', 'BsmtFinType2', 'HeatingQC',\n",
       "                                  'CentralAir', 'KitchenQual', 'FireplaceQu',\n",
       "                                  'GarageFinish', 'GarageQual', 'GarageCond',\n",
       "                                  'PavedDrive', 'PoolQC', 'Fence'])])</pre></div></div></div><div class=\"sk-parallel\"><div class=\"sk-parallel-item\"><div class=\"sk-item\"><div class=\"sk-label-container\"><div class=\"sk-label sk-toggleable\"><input class=\"sk-toggleable__control sk-hidden--visually\" id=\"14dfa218-e858-4fa1-b8a6-5b1ce5834277\" type=\"checkbox\" ><label class=\"sk-toggleable__label\" for=\"14dfa218-e858-4fa1-b8a6-5b1ce5834277\">ohe_pipe</label><div class=\"sk-toggleable__content\"><pre>['MSSubClass', 'MSZoning', 'Street', 'Alley', 'LandContour', 'LotConfig', 'Condition1', 'Condition2', 'BldgType', 'HouseStyle', 'RoofStyle', 'RoofMatl', 'Exterior1st', 'Exterior2nd', 'MasVnrType', 'Foundation', 'Heating', 'Electrical', 'Functional', 'GarageType', 'MiscFeature', 'SaleType', 'SaleCondition']</pre></div></div></div><div class=\"sk-serial\"><div class=\"sk-item\"><div class=\"sk-serial\"><div class=\"sk-item\"><div class=\"sk-estimator sk-toggleable\"><input class=\"sk-toggleable__control sk-hidden--visually\" id=\"67ad397f-4691-4d6c-a73e-044174b00b9e\" type=\"checkbox\" ><label class=\"sk-toggleable__label\" for=\"67ad397f-4691-4d6c-a73e-044174b00b9e\">SimpleImputer</label><div class=\"sk-toggleable__content\"><pre>SimpleImputer(fill_value='Missing', strategy='constant')</pre></div></div></div><div class=\"sk-item\"><div class=\"sk-estimator sk-toggleable\"><input class=\"sk-toggleable__control sk-hidden--visually\" id=\"1b536400-8c9d-4959-970f-2f7fc316a22a\" type=\"checkbox\" ><label class=\"sk-toggleable__label\" for=\"1b536400-8c9d-4959-970f-2f7fc316a22a\">OneHotEncoder</label><div class=\"sk-toggleable__content\"><pre>OneHotEncoder(handle_unknown='ignore')</pre></div></div></div></div></div></div></div></div><div class=\"sk-parallel-item\"><div class=\"sk-item\"><div class=\"sk-label-container\"><div class=\"sk-label sk-toggleable\"><input class=\"sk-toggleable__control sk-hidden--visually\" id=\"edcc793b-47a2-4bf3-98b1-264cf44935c6\" type=\"checkbox\" ><label class=\"sk-toggleable__label\" for=\"edcc793b-47a2-4bf3-98b1-264cf44935c6\">num_pipe</label><div class=\"sk-toggleable__content\"><pre>['LotArea', 'OverallQual', 'OverallCond', 'YearBuilt', 'YearRemodAdd', 'MasVnrArea', 'BsmtFinSF1', 'BsmtFinSF2', 'BsmtUnfSF', 'TotalBsmtSF', '1stFlrSF', '2ndFlrSF', 'LowQualFinSF', 'GrLivArea', 'BsmtFullBath', 'BsmtHalfBath', 'FullBath', 'HalfBath', 'BedroomAbvGr', 'KitchenAbvGr', 'TotRmsAbvGrd', 'Fireplaces', 'GarageYrBlt', 'GarageCars', 'GarageArea', 'WoodDeckSF', 'OpenPorchSF', 'EnclosedPorch', '3SsnPorch', 'ScreenPorch', 'PoolArea', 'MiscVal', 'MoSold', 'YrSold']</pre></div></div></div><div class=\"sk-serial\"><div class=\"sk-item\"><div class=\"sk-serial\"><div class=\"sk-item\"><div class=\"sk-estimator sk-toggleable\"><input class=\"sk-toggleable__control sk-hidden--visually\" id=\"a912661d-5f25-41cb-bf7e-c10ceb90de5f\" type=\"checkbox\" ><label class=\"sk-toggleable__label\" for=\"a912661d-5f25-41cb-bf7e-c10ceb90de5f\">SimpleImputer</label><div class=\"sk-toggleable__content\"><pre>SimpleImputer(fill_value=0, strategy='constant')</pre></div></div></div><div class=\"sk-item\"><div class=\"sk-estimator sk-toggleable\"><input class=\"sk-toggleable__control sk-hidden--visually\" id=\"b515a610-0b7e-42a9-90dc-54a7f5225fda\" type=\"checkbox\" ><label class=\"sk-toggleable__label\" for=\"b515a610-0b7e-42a9-90dc-54a7f5225fda\">MinMaxScaler</label><div class=\"sk-toggleable__content\"><pre>MinMaxScaler()</pre></div></div></div></div></div></div></div></div><div class=\"sk-parallel-item\"><div class=\"sk-item\"><div class=\"sk-label-container\"><div class=\"sk-label sk-toggleable\"><input class=\"sk-toggleable__control sk-hidden--visually\" id=\"666fff78-e4f9-45e2-9df6-ba10045e0e51\" type=\"checkbox\" ><label class=\"sk-toggleable__label\" for=\"666fff78-e4f9-45e2-9df6-ba10045e0e51\">ordinal_pipe</label><div class=\"sk-toggleable__content\"><pre>['LotShape', 'Utilities', 'LandSlope', 'Neighborhood', 'ExterQual', 'ExterCond', 'BsmtQual', 'BsmtCond', 'BsmtExposure', 'BsmtFinType1', 'BsmtFinType2', 'HeatingQC', 'CentralAir', 'KitchenQual', 'FireplaceQu', 'GarageFinish', 'GarageQual', 'GarageCond', 'PavedDrive', 'PoolQC', 'Fence']</pre></div></div></div><div class=\"sk-serial\"><div class=\"sk-item\"><div class=\"sk-serial\"><div class=\"sk-item\"><div class=\"sk-estimator sk-toggleable\"><input class=\"sk-toggleable__control sk-hidden--visually\" id=\"08a6f939-2553-4896-9d95-e0fa345da3bd\" type=\"checkbox\" ><label class=\"sk-toggleable__label\" for=\"08a6f939-2553-4896-9d95-e0fa345da3bd\">SimpleImputer</label><div class=\"sk-toggleable__content\"><pre>SimpleImputer(fill_value='Missing', strategy='constant')</pre></div></div></div><div class=\"sk-item\"><div class=\"sk-estimator sk-toggleable\"><input class=\"sk-toggleable__control sk-hidden--visually\" id=\"7d14965a-d6f5-4eb5-91ca-0228c97b5a3d\" type=\"checkbox\" ><label class=\"sk-toggleable__label\" for=\"7d14965a-d6f5-4eb5-91ca-0228c97b5a3d\">OrdinalEncoder</label><div class=\"sk-toggleable__content\"><pre>OrdinalEncoder(categories=[['IR3', 'IR2', 'IR1', 'Reg'],\n",
       "                           ['ELO', 'NoSeWa', 'NoSewr', 'AllPub'],\n",
       "                           ['Sev', 'Mod', 'Gtl'],\n",
       "                           ['MeadowV', 'IDOTRR', 'BrDale', 'BrkSide', 'Edwards',\n",
       "                            'OldTown', 'Sawyer', 'Blueste', 'SWISU', 'NPkVill',\n",
       "                            'NAmes', 'Mitchel', 'SawyerW', 'NWAmes', 'Gilbert',\n",
       "                            'Blmngtn', 'CollgCr', 'Crawfor', 'ClearCr',\n",
       "                            'Somerst', 'Veenker', 'Timber', 'StoneBr',\n",
       "                            'NridgHt', 'NoRidge']...\n",
       "                            'GLQ'],\n",
       "                           ['Po', 'Fa', 'TA', 'Gd', 'Ex'], ['N', 'Y'],\n",
       "                           ['Po', 'Fa', 'TA', 'Gd', 'Ex'],\n",
       "                           ['Missing', 'Po', 'Fa', 'TA', 'Gd', 'Ex'],\n",
       "                           ['Missing', 'Unf', 'RFn', 'Fin'],\n",
       "                           ['Missing', 'Po', 'Fa', 'TA', 'Gd', 'Ex'],\n",
       "                           ['Missing', 'Po', 'Fa', 'TA', 'Gd', 'Ex'],\n",
       "                           ['N', 'P', 'Y'], ['Missing', 'Fa', 'TA', 'Gd', 'Ex'],\n",
       "                           ['Missing', 'MnWw', 'GdWo', 'MnPrv', 'GdPrv']],\n",
       "               handle_unknown='use_encoded_value', unknown_value=-1)</pre></div></div></div></div></div></div></div></div></div></div><div class=\"sk-item\"><div class=\"sk-estimator sk-toggleable\"><input class=\"sk-toggleable__control sk-hidden--visually\" id=\"b143dfee-8358-432c-a7af-ce185afa55f6\" type=\"checkbox\" ><label class=\"sk-toggleable__label\" for=\"b143dfee-8358-432c-a7af-ce185afa55f6\">SVR</label><div class=\"sk-toggleable__content\"><pre>SVR()</pre></div></div></div></div></div></div></div>"
      ],
      "text/plain": [
       "Pipeline(steps=[('prepro',\n",
       "                 ColumnTransformer(transformers=[('ohe_pipe',\n",
       "                                                  Pipeline(steps=[('ohe_imputer',\n",
       "                                                                   SimpleImputer(fill_value='Missing',\n",
       "                                                                                 strategy='constant')),\n",
       "                                                                  ('ohe_encoder',\n",
       "                                                                   OneHotEncoder(handle_unknown='ignore'))]),\n",
       "                                                  ['MSSubClass', 'MSZoning',\n",
       "                                                   'Street', 'Alley',\n",
       "                                                   'LandContour', 'LotConfig',\n",
       "                                                   'Condition1', 'Condition2',\n",
       "                                                   'BldgType', 'HouseStyle',\n",
       "                                                   'RoofStyle', 'Roof...\n",
       "                                                                                               'GdPrv']],\n",
       "                                                                                  handle_unknown='use_encoded_value',\n",
       "                                                                                  unknown_value=-1))]),\n",
       "                                                  ['LotShape', 'Utilities',\n",
       "                                                   'LandSlope', 'Neighborhood',\n",
       "                                                   'ExterQual', 'ExterCond',\n",
       "                                                   'BsmtQual', 'BsmtCond',\n",
       "                                                   'BsmtExposure',\n",
       "                                                   'BsmtFinType1',\n",
       "                                                   'BsmtFinType2', 'HeatingQC',\n",
       "                                                   'CentralAir', 'KitchenQual',\n",
       "                                                   'FireplaceQu',\n",
       "                                                   'GarageFinish', 'GarageQual',\n",
       "                                                   'GarageCond', 'PavedDrive',\n",
       "                                                   'PoolQC', 'Fence'])])),\n",
       "                ('model_svr', SVR())])"
      ]
     },
     "execution_count": 106,
     "metadata": {},
     "output_type": "execute_result"
    }
   ],
   "source": [
    "pipe_svr.fit(X_train, y_train)"
   ]
  },
  {
   "cell_type": "code",
   "execution_count": 107,
   "metadata": {},
   "outputs": [
    {
     "data": {
      "text/plain": [
       "array([-0.16146011, -0.13563572, -0.14455032, -0.1458673 , -0.13460105])"
      ]
     },
     "execution_count": 107,
     "metadata": {},
     "output_type": "execute_result"
    }
   ],
   "source": [
    "cross_val_score(pipe_svr, X_train, y_train, scoring=classic_rmse)"
   ]
  },
  {
   "cell_type": "code",
   "execution_count": 108,
   "metadata": {},
   "outputs": [],
   "source": [
    "y_pred = pipe_svr.predict(X_val)"
   ]
  },
  {
   "cell_type": "code",
   "execution_count": 109,
   "metadata": {},
   "outputs": [
    {
     "data": {
      "text/plain": [
       "0.1474950174302717"
      ]
     },
     "execution_count": 109,
     "metadata": {},
     "output_type": "execute_result"
    }
   ],
   "source": [
    "custom_score(y_val, y_pred)"
   ]
  },
  {
   "cell_type": "markdown",
   "metadata": {},
   "source": [
    "## Optimisation du modèle - à faire"
   ]
  },
  {
   "cell_type": "markdown",
   "metadata": {},
   "source": [
    "### Randomized Search"
   ]
  },
  {
   "cell_type": "code",
   "execution_count": 83,
   "metadata": {},
   "outputs": [
    {
     "data": {
      "text/plain": [
       "dict_keys(['memory', 'steps', 'verbose', 'prepro', 'model_svr', 'prepro__n_jobs', 'prepro__remainder', 'prepro__sparse_threshold', 'prepro__transformer_weights', 'prepro__transformers', 'prepro__verbose', 'prepro__ohe_pipe', 'prepro__num_pipe', 'prepro__ordinal_pipe', 'prepro__ohe_pipe__memory', 'prepro__ohe_pipe__steps', 'prepro__ohe_pipe__verbose', 'prepro__ohe_pipe__ohe_imputer', 'prepro__ohe_pipe__ohe_encoder', 'prepro__ohe_pipe__ohe_imputer__add_indicator', 'prepro__ohe_pipe__ohe_imputer__copy', 'prepro__ohe_pipe__ohe_imputer__fill_value', 'prepro__ohe_pipe__ohe_imputer__missing_values', 'prepro__ohe_pipe__ohe_imputer__strategy', 'prepro__ohe_pipe__ohe_imputer__verbose', 'prepro__ohe_pipe__ohe_encoder__categories', 'prepro__ohe_pipe__ohe_encoder__drop', 'prepro__ohe_pipe__ohe_encoder__dtype', 'prepro__ohe_pipe__ohe_encoder__handle_unknown', 'prepro__ohe_pipe__ohe_encoder__sparse', 'prepro__num_pipe__memory', 'prepro__num_pipe__steps', 'prepro__num_pipe__verbose', 'prepro__num_pipe__num_imputer', 'prepro__num_pipe__num_scaler', 'prepro__num_pipe__num_imputer__add_indicator', 'prepro__num_pipe__num_imputer__copy', 'prepro__num_pipe__num_imputer__fill_value', 'prepro__num_pipe__num_imputer__missing_values', 'prepro__num_pipe__num_imputer__strategy', 'prepro__num_pipe__num_imputer__verbose', 'prepro__num_pipe__num_scaler__clip', 'prepro__num_pipe__num_scaler__copy', 'prepro__num_pipe__num_scaler__feature_range', 'prepro__ordinal_pipe__memory', 'prepro__ordinal_pipe__steps', 'prepro__ordinal_pipe__verbose', 'prepro__ordinal_pipe__ordinal_imputer', 'prepro__ordinal_pipe__ordinal_encoder', 'prepro__ordinal_pipe__ordinal_imputer__add_indicator', 'prepro__ordinal_pipe__ordinal_imputer__copy', 'prepro__ordinal_pipe__ordinal_imputer__fill_value', 'prepro__ordinal_pipe__ordinal_imputer__missing_values', 'prepro__ordinal_pipe__ordinal_imputer__strategy', 'prepro__ordinal_pipe__ordinal_imputer__verbose', 'prepro__ordinal_pipe__ordinal_encoder__categories', 'prepro__ordinal_pipe__ordinal_encoder__dtype', 'prepro__ordinal_pipe__ordinal_encoder__handle_unknown', 'prepro__ordinal_pipe__ordinal_encoder__unknown_value', 'model_svr__C', 'model_svr__cache_size', 'model_svr__coef0', 'model_svr__degree', 'model_svr__epsilon', 'model_svr__gamma', 'model_svr__kernel', 'model_svr__max_iter', 'model_svr__shrinking', 'model_svr__tol', 'model_svr__verbose'])"
      ]
     },
     "execution_count": 83,
     "metadata": {},
     "output_type": "execute_result"
    }
   ],
   "source": [
    "pipe_svr.get_params().keys()"
   ]
  },
  {
   "cell_type": "code",
   "execution_count": null,
   "metadata": {},
   "outputs": [],
   "source": [
    "param_grid = {'C': [0.1,1, 10, 100], 'gamma': [1,0.1,0.01,0.001],'kernel': ['rbf', 'poly', 'sigmoid']}"
   ]
  },
  {
   "cell_type": "code",
   "execution_count": 110,
   "metadata": {},
   "outputs": [
    {
     "name": "stderr",
     "output_type": "stream",
     "text": [
      "/Users/marie/opt/anaconda3/lib/python3.8/site-packages/numpy/core/function_base.py:265: RuntimeWarning: overflow encountered in power\n",
      "  return _nx.power(base, y)\n",
      "/Users/marie/opt/anaconda3/lib/python3.8/site-packages/sklearn/model_selection/_validation.py:615: FitFailedWarning: Estimator fit failed. The score on this train-test partition for these parameters will be set to nan. Details: \n",
      "Traceback (most recent call last):\n",
      "  File \"/Users/marie/opt/anaconda3/lib/python3.8/site-packages/sklearn/model_selection/_validation.py\", line 598, in _fit_and_score\n",
      "    estimator.fit(X_train, y_train, **fit_params)\n",
      "  File \"/Users/marie/opt/anaconda3/lib/python3.8/site-packages/sklearn/pipeline.py\", line 346, in fit\n",
      "    self._final_estimator.fit(Xt, y, **fit_params_last_step)\n",
      "  File \"/Users/marie/opt/anaconda3/lib/python3.8/site-packages/sklearn/svm/_base.py\", line 188, in fit\n",
      "    raise ValueError(\"Precomputed matrix must be a square matrix.\"\n",
      "ValueError: Precomputed matrix must be a square matrix. Input is a 924x208 matrix.\n",
      "\n",
      "  warnings.warn(\"Estimator fit failed. The score on this train-test\"\n",
      "/Users/marie/opt/anaconda3/lib/python3.8/site-packages/sklearn/model_selection/_validation.py:615: FitFailedWarning: Estimator fit failed. The score on this train-test partition for these parameters will be set to nan. Details: \n",
      "Traceback (most recent call last):\n",
      "  File \"/Users/marie/opt/anaconda3/lib/python3.8/site-packages/sklearn/model_selection/_validation.py\", line 598, in _fit_and_score\n",
      "    estimator.fit(X_train, y_train, **fit_params)\n",
      "  File \"/Users/marie/opt/anaconda3/lib/python3.8/site-packages/sklearn/pipeline.py\", line 346, in fit\n",
      "    self._final_estimator.fit(Xt, y, **fit_params_last_step)\n",
      "  File \"/Users/marie/opt/anaconda3/lib/python3.8/site-packages/sklearn/svm/_base.py\", line 188, in fit\n",
      "    raise ValueError(\"Precomputed matrix must be a square matrix.\"\n",
      "ValueError: Precomputed matrix must be a square matrix. Input is a 925x212 matrix.\n",
      "\n",
      "  warnings.warn(\"Estimator fit failed. The score on this train-test\"\n",
      "/Users/marie/opt/anaconda3/lib/python3.8/site-packages/sklearn/model_selection/_validation.py:615: FitFailedWarning: Estimator fit failed. The score on this train-test partition for these parameters will be set to nan. Details: \n",
      "Traceback (most recent call last):\n",
      "  File \"/Users/marie/opt/anaconda3/lib/python3.8/site-packages/sklearn/model_selection/_validation.py\", line 598, in _fit_and_score\n",
      "    estimator.fit(X_train, y_train, **fit_params)\n",
      "  File \"/Users/marie/opt/anaconda3/lib/python3.8/site-packages/sklearn/pipeline.py\", line 346, in fit\n",
      "    self._final_estimator.fit(Xt, y, **fit_params_last_step)\n",
      "  File \"/Users/marie/opt/anaconda3/lib/python3.8/site-packages/sklearn/svm/_base.py\", line 188, in fit\n",
      "    raise ValueError(\"Precomputed matrix must be a square matrix.\"\n",
      "ValueError: Precomputed matrix must be a square matrix. Input is a 925x207 matrix.\n",
      "\n",
      "  warnings.warn(\"Estimator fit failed. The score on this train-test\"\n",
      "/Users/marie/opt/anaconda3/lib/python3.8/site-packages/sklearn/model_selection/_validation.py:615: FitFailedWarning: Estimator fit failed. The score on this train-test partition for these parameters will be set to nan. Details: \n",
      "Traceback (most recent call last):\n",
      "  File \"/Users/marie/opt/anaconda3/lib/python3.8/site-packages/sklearn/model_selection/_validation.py\", line 598, in _fit_and_score\n",
      "    estimator.fit(X_train, y_train, **fit_params)\n",
      "  File \"/Users/marie/opt/anaconda3/lib/python3.8/site-packages/sklearn/pipeline.py\", line 346, in fit\n",
      "    self._final_estimator.fit(Xt, y, **fit_params_last_step)\n",
      "  File \"/Users/marie/opt/anaconda3/lib/python3.8/site-packages/sklearn/svm/_base.py\", line 188, in fit\n",
      "    raise ValueError(\"Precomputed matrix must be a square matrix.\"\n",
      "ValueError: Precomputed matrix must be a square matrix. Input is a 925x213 matrix.\n",
      "\n",
      "  warnings.warn(\"Estimator fit failed. The score on this train-test\"\n",
      "/Users/marie/opt/anaconda3/lib/python3.8/site-packages/sklearn/model_selection/_validation.py:615: FitFailedWarning: Estimator fit failed. The score on this train-test partition for these parameters will be set to nan. Details: \n",
      "Traceback (most recent call last):\n",
      "  File \"/Users/marie/opt/anaconda3/lib/python3.8/site-packages/sklearn/model_selection/_validation.py\", line 598, in _fit_and_score\n",
      "    estimator.fit(X_train, y_train, **fit_params)\n",
      "  File \"/Users/marie/opt/anaconda3/lib/python3.8/site-packages/sklearn/pipeline.py\", line 346, in fit\n",
      "    self._final_estimator.fit(Xt, y, **fit_params_last_step)\n",
      "  File \"/Users/marie/opt/anaconda3/lib/python3.8/site-packages/sklearn/svm/_base.py\", line 188, in fit\n",
      "    raise ValueError(\"Precomputed matrix must be a square matrix.\"\n",
      "ValueError: Precomputed matrix must be a square matrix. Input is a 925x212 matrix.\n",
      "\n",
      "  warnings.warn(\"Estimator fit failed. The score on this train-test\"\n",
      "/Users/marie/opt/anaconda3/lib/python3.8/site-packages/sklearn/model_selection/_validation.py:615: FitFailedWarning: Estimator fit failed. The score on this train-test partition for these parameters will be set to nan. Details: \n",
      "Traceback (most recent call last):\n",
      "  File \"/Users/marie/opt/anaconda3/lib/python3.8/site-packages/sklearn/model_selection/_validation.py\", line 598, in _fit_and_score\n",
      "    estimator.fit(X_train, y_train, **fit_params)\n",
      "  File \"/Users/marie/opt/anaconda3/lib/python3.8/site-packages/sklearn/pipeline.py\", line 346, in fit\n",
      "    self._final_estimator.fit(Xt, y, **fit_params_last_step)\n",
      "  File \"/Users/marie/opt/anaconda3/lib/python3.8/site-packages/sklearn/svm/_base.py\", line 188, in fit\n",
      "    raise ValueError(\"Precomputed matrix must be a square matrix.\"\n",
      "ValueError: Precomputed matrix must be a square matrix. Input is a 924x208 matrix.\n",
      "\n",
      "  warnings.warn(\"Estimator fit failed. The score on this train-test\"\n",
      "/Users/marie/opt/anaconda3/lib/python3.8/site-packages/sklearn/model_selection/_validation.py:615: FitFailedWarning: Estimator fit failed. The score on this train-test partition for these parameters will be set to nan. Details: \n",
      "Traceback (most recent call last):\n",
      "  File \"/Users/marie/opt/anaconda3/lib/python3.8/site-packages/sklearn/model_selection/_validation.py\", line 598, in _fit_and_score\n",
      "    estimator.fit(X_train, y_train, **fit_params)\n",
      "  File \"/Users/marie/opt/anaconda3/lib/python3.8/site-packages/sklearn/pipeline.py\", line 346, in fit\n",
      "    self._final_estimator.fit(Xt, y, **fit_params_last_step)\n",
      "  File \"/Users/marie/opt/anaconda3/lib/python3.8/site-packages/sklearn/svm/_base.py\", line 188, in fit\n",
      "    raise ValueError(\"Precomputed matrix must be a square matrix.\"\n",
      "ValueError: Precomputed matrix must be a square matrix. Input is a 925x212 matrix.\n",
      "\n",
      "  warnings.warn(\"Estimator fit failed. The score on this train-test\"\n",
      "/Users/marie/opt/anaconda3/lib/python3.8/site-packages/sklearn/model_selection/_validation.py:615: FitFailedWarning: Estimator fit failed. The score on this train-test partition for these parameters will be set to nan. Details: \n",
      "Traceback (most recent call last):\n",
      "  File \"/Users/marie/opt/anaconda3/lib/python3.8/site-packages/sklearn/model_selection/_validation.py\", line 598, in _fit_and_score\n",
      "    estimator.fit(X_train, y_train, **fit_params)\n",
      "  File \"/Users/marie/opt/anaconda3/lib/python3.8/site-packages/sklearn/pipeline.py\", line 346, in fit\n",
      "    self._final_estimator.fit(Xt, y, **fit_params_last_step)\n",
      "  File \"/Users/marie/opt/anaconda3/lib/python3.8/site-packages/sklearn/svm/_base.py\", line 188, in fit\n",
      "    raise ValueError(\"Precomputed matrix must be a square matrix.\"\n",
      "ValueError: Precomputed matrix must be a square matrix. Input is a 925x207 matrix.\n",
      "\n",
      "  warnings.warn(\"Estimator fit failed. The score on this train-test\"\n",
      "/Users/marie/opt/anaconda3/lib/python3.8/site-packages/sklearn/model_selection/_validation.py:615: FitFailedWarning: Estimator fit failed. The score on this train-test partition for these parameters will be set to nan. Details: \n",
      "Traceback (most recent call last):\n",
      "  File \"/Users/marie/opt/anaconda3/lib/python3.8/site-packages/sklearn/model_selection/_validation.py\", line 598, in _fit_and_score\n",
      "    estimator.fit(X_train, y_train, **fit_params)\n",
      "  File \"/Users/marie/opt/anaconda3/lib/python3.8/site-packages/sklearn/pipeline.py\", line 346, in fit\n",
      "    self._final_estimator.fit(Xt, y, **fit_params_last_step)\n",
      "  File \"/Users/marie/opt/anaconda3/lib/python3.8/site-packages/sklearn/svm/_base.py\", line 188, in fit\n",
      "    raise ValueError(\"Precomputed matrix must be a square matrix.\"\n",
      "ValueError: Precomputed matrix must be a square matrix. Input is a 925x213 matrix.\n",
      "\n",
      "  warnings.warn(\"Estimator fit failed. The score on this train-test\"\n",
      "/Users/marie/opt/anaconda3/lib/python3.8/site-packages/sklearn/model_selection/_validation.py:615: FitFailedWarning: Estimator fit failed. The score on this train-test partition for these parameters will be set to nan. Details: \n",
      "Traceback (most recent call last):\n",
      "  File \"/Users/marie/opt/anaconda3/lib/python3.8/site-packages/sklearn/model_selection/_validation.py\", line 598, in _fit_and_score\n",
      "    estimator.fit(X_train, y_train, **fit_params)\n",
      "  File \"/Users/marie/opt/anaconda3/lib/python3.8/site-packages/sklearn/pipeline.py\", line 346, in fit\n",
      "    self._final_estimator.fit(Xt, y, **fit_params_last_step)\n",
      "  File \"/Users/marie/opt/anaconda3/lib/python3.8/site-packages/sklearn/svm/_base.py\", line 188, in fit\n",
      "    raise ValueError(\"Precomputed matrix must be a square matrix.\"\n",
      "ValueError: Precomputed matrix must be a square matrix. Input is a 925x212 matrix.\n",
      "\n",
      "  warnings.warn(\"Estimator fit failed. The score on this train-test\"\n",
      "/Users/marie/opt/anaconda3/lib/python3.8/site-packages/sklearn/model_selection/_validation.py:615: FitFailedWarning: Estimator fit failed. The score on this train-test partition for these parameters will be set to nan. Details: \n",
      "Traceback (most recent call last):\n",
      "  File \"/Users/marie/opt/anaconda3/lib/python3.8/site-packages/sklearn/model_selection/_validation.py\", line 598, in _fit_and_score\n",
      "    estimator.fit(X_train, y_train, **fit_params)\n",
      "  File \"/Users/marie/opt/anaconda3/lib/python3.8/site-packages/sklearn/pipeline.py\", line 346, in fit\n",
      "    self._final_estimator.fit(Xt, y, **fit_params_last_step)\n",
      "  File \"/Users/marie/opt/anaconda3/lib/python3.8/site-packages/sklearn/svm/_base.py\", line 188, in fit\n",
      "    raise ValueError(\"Precomputed matrix must be a square matrix.\"\n",
      "ValueError: Precomputed matrix must be a square matrix. Input is a 924x208 matrix.\n",
      "\n",
      "  warnings.warn(\"Estimator fit failed. The score on this train-test\"\n",
      "/Users/marie/opt/anaconda3/lib/python3.8/site-packages/sklearn/model_selection/_validation.py:615: FitFailedWarning: Estimator fit failed. The score on this train-test partition for these parameters will be set to nan. Details: \n",
      "Traceback (most recent call last):\n",
      "  File \"/Users/marie/opt/anaconda3/lib/python3.8/site-packages/sklearn/model_selection/_validation.py\", line 598, in _fit_and_score\n",
      "    estimator.fit(X_train, y_train, **fit_params)\n",
      "  File \"/Users/marie/opt/anaconda3/lib/python3.8/site-packages/sklearn/pipeline.py\", line 346, in fit\n",
      "    self._final_estimator.fit(Xt, y, **fit_params_last_step)\n",
      "  File \"/Users/marie/opt/anaconda3/lib/python3.8/site-packages/sklearn/svm/_base.py\", line 188, in fit\n",
      "    raise ValueError(\"Precomputed matrix must be a square matrix.\"\n",
      "ValueError: Precomputed matrix must be a square matrix. Input is a 925x212 matrix.\n",
      "\n",
      "  warnings.warn(\"Estimator fit failed. The score on this train-test\"\n"
     ]
    },
    {
     "name": "stderr",
     "output_type": "stream",
     "text": [
      "/Users/marie/opt/anaconda3/lib/python3.8/site-packages/sklearn/model_selection/_validation.py:615: FitFailedWarning: Estimator fit failed. The score on this train-test partition for these parameters will be set to nan. Details: \n",
      "Traceback (most recent call last):\n",
      "  File \"/Users/marie/opt/anaconda3/lib/python3.8/site-packages/sklearn/model_selection/_validation.py\", line 598, in _fit_and_score\n",
      "    estimator.fit(X_train, y_train, **fit_params)\n",
      "  File \"/Users/marie/opt/anaconda3/lib/python3.8/site-packages/sklearn/pipeline.py\", line 346, in fit\n",
      "    self._final_estimator.fit(Xt, y, **fit_params_last_step)\n",
      "  File \"/Users/marie/opt/anaconda3/lib/python3.8/site-packages/sklearn/svm/_base.py\", line 188, in fit\n",
      "    raise ValueError(\"Precomputed matrix must be a square matrix.\"\n",
      "ValueError: Precomputed matrix must be a square matrix. Input is a 925x207 matrix.\n",
      "\n",
      "  warnings.warn(\"Estimator fit failed. The score on this train-test\"\n",
      "/Users/marie/opt/anaconda3/lib/python3.8/site-packages/sklearn/model_selection/_validation.py:615: FitFailedWarning: Estimator fit failed. The score on this train-test partition for these parameters will be set to nan. Details: \n",
      "Traceback (most recent call last):\n",
      "  File \"/Users/marie/opt/anaconda3/lib/python3.8/site-packages/sklearn/model_selection/_validation.py\", line 598, in _fit_and_score\n",
      "    estimator.fit(X_train, y_train, **fit_params)\n",
      "  File \"/Users/marie/opt/anaconda3/lib/python3.8/site-packages/sklearn/pipeline.py\", line 346, in fit\n",
      "    self._final_estimator.fit(Xt, y, **fit_params_last_step)\n",
      "  File \"/Users/marie/opt/anaconda3/lib/python3.8/site-packages/sklearn/svm/_base.py\", line 188, in fit\n",
      "    raise ValueError(\"Precomputed matrix must be a square matrix.\"\n",
      "ValueError: Precomputed matrix must be a square matrix. Input is a 925x213 matrix.\n",
      "\n",
      "  warnings.warn(\"Estimator fit failed. The score on this train-test\"\n",
      "/Users/marie/opt/anaconda3/lib/python3.8/site-packages/sklearn/model_selection/_validation.py:615: FitFailedWarning: Estimator fit failed. The score on this train-test partition for these parameters will be set to nan. Details: \n",
      "Traceback (most recent call last):\n",
      "  File \"/Users/marie/opt/anaconda3/lib/python3.8/site-packages/sklearn/model_selection/_validation.py\", line 598, in _fit_and_score\n",
      "    estimator.fit(X_train, y_train, **fit_params)\n",
      "  File \"/Users/marie/opt/anaconda3/lib/python3.8/site-packages/sklearn/pipeline.py\", line 346, in fit\n",
      "    self._final_estimator.fit(Xt, y, **fit_params_last_step)\n",
      "  File \"/Users/marie/opt/anaconda3/lib/python3.8/site-packages/sklearn/svm/_base.py\", line 188, in fit\n",
      "    raise ValueError(\"Precomputed matrix must be a square matrix.\"\n",
      "ValueError: Precomputed matrix must be a square matrix. Input is a 925x212 matrix.\n",
      "\n",
      "  warnings.warn(\"Estimator fit failed. The score on this train-test\"\n",
      "/Users/marie/opt/anaconda3/lib/python3.8/site-packages/sklearn/model_selection/_search.py:922: UserWarning: One or more of the test scores are non-finite: [        nan         nan         nan -0.39521776 -0.39521776 -0.39521776\n",
      " -0.39555196 -0.39521776 -0.39521776 -0.39521776]\n",
      "  warnings.warn(\n"
     ]
    },
    {
     "data": {
      "text/html": [
       "<style>#sk-ec196c38-0cdd-4595-b7ba-001cb1250dca {color: black;background-color: white;}#sk-ec196c38-0cdd-4595-b7ba-001cb1250dca pre{padding: 0;}#sk-ec196c38-0cdd-4595-b7ba-001cb1250dca div.sk-toggleable {background-color: white;}#sk-ec196c38-0cdd-4595-b7ba-001cb1250dca label.sk-toggleable__label {cursor: pointer;display: block;width: 100%;margin-bottom: 0;padding: 0.2em 0.3em;box-sizing: border-box;text-align: center;}#sk-ec196c38-0cdd-4595-b7ba-001cb1250dca div.sk-toggleable__content {max-height: 0;max-width: 0;overflow: hidden;text-align: left;background-color: #f0f8ff;}#sk-ec196c38-0cdd-4595-b7ba-001cb1250dca div.sk-toggleable__content pre {margin: 0.2em;color: black;border-radius: 0.25em;background-color: #f0f8ff;}#sk-ec196c38-0cdd-4595-b7ba-001cb1250dca input.sk-toggleable__control:checked~div.sk-toggleable__content {max-height: 200px;max-width: 100%;overflow: auto;}#sk-ec196c38-0cdd-4595-b7ba-001cb1250dca div.sk-estimator input.sk-toggleable__control:checked~label.sk-toggleable__label {background-color: #d4ebff;}#sk-ec196c38-0cdd-4595-b7ba-001cb1250dca div.sk-label input.sk-toggleable__control:checked~label.sk-toggleable__label {background-color: #d4ebff;}#sk-ec196c38-0cdd-4595-b7ba-001cb1250dca input.sk-hidden--visually {border: 0;clip: rect(1px 1px 1px 1px);clip: rect(1px, 1px, 1px, 1px);height: 1px;margin: -1px;overflow: hidden;padding: 0;position: absolute;width: 1px;}#sk-ec196c38-0cdd-4595-b7ba-001cb1250dca div.sk-estimator {font-family: monospace;background-color: #f0f8ff;margin: 0.25em 0.25em;border: 1px dotted black;border-radius: 0.25em;box-sizing: border-box;}#sk-ec196c38-0cdd-4595-b7ba-001cb1250dca div.sk-estimator:hover {background-color: #d4ebff;}#sk-ec196c38-0cdd-4595-b7ba-001cb1250dca div.sk-parallel-item::after {content: \"\";width: 100%;border-bottom: 1px solid gray;flex-grow: 1;}#sk-ec196c38-0cdd-4595-b7ba-001cb1250dca div.sk-label:hover label.sk-toggleable__label {background-color: #d4ebff;}#sk-ec196c38-0cdd-4595-b7ba-001cb1250dca div.sk-serial::before {content: \"\";position: absolute;border-left: 1px solid gray;box-sizing: border-box;top: 2em;bottom: 0;left: 50%;}#sk-ec196c38-0cdd-4595-b7ba-001cb1250dca div.sk-serial {display: flex;flex-direction: column;align-items: center;background-color: white;}#sk-ec196c38-0cdd-4595-b7ba-001cb1250dca div.sk-item {z-index: 1;}#sk-ec196c38-0cdd-4595-b7ba-001cb1250dca div.sk-parallel {display: flex;align-items: stretch;justify-content: center;background-color: white;}#sk-ec196c38-0cdd-4595-b7ba-001cb1250dca div.sk-parallel-item {display: flex;flex-direction: column;position: relative;background-color: white;}#sk-ec196c38-0cdd-4595-b7ba-001cb1250dca div.sk-parallel-item:first-child::after {align-self: flex-end;width: 50%;}#sk-ec196c38-0cdd-4595-b7ba-001cb1250dca div.sk-parallel-item:last-child::after {align-self: flex-start;width: 50%;}#sk-ec196c38-0cdd-4595-b7ba-001cb1250dca div.sk-parallel-item:only-child::after {width: 0;}#sk-ec196c38-0cdd-4595-b7ba-001cb1250dca div.sk-dashed-wrapped {border: 1px dashed gray;margin: 0.2em;box-sizing: border-box;padding-bottom: 0.1em;background-color: white;position: relative;}#sk-ec196c38-0cdd-4595-b7ba-001cb1250dca div.sk-label label {font-family: monospace;font-weight: bold;background-color: white;display: inline-block;line-height: 1.2em;}#sk-ec196c38-0cdd-4595-b7ba-001cb1250dca div.sk-label-container {position: relative;z-index: 2;text-align: center;}#sk-ec196c38-0cdd-4595-b7ba-001cb1250dca div.sk-container {display: inline-block;position: relative;}</style><div id=\"sk-ec196c38-0cdd-4595-b7ba-001cb1250dca\" class\"sk-top-container\"><div class=\"sk-container\"><div class=\"sk-item sk-dashed-wrapped\"><div class=\"sk-label-container\"><div class=\"sk-label sk-toggleable\"><input class=\"sk-toggleable__control sk-hidden--visually\" id=\"51872e31-f4ba-4053-be99-261e7d83c95b\" type=\"checkbox\" ><label class=\"sk-toggleable__label\" for=\"51872e31-f4ba-4053-be99-261e7d83c95b\">RandomizedSearchCV</label><div class=\"sk-toggleable__content\"><pre>RandomizedSearchCV(estimator=Pipeline(steps=[('prepro',\n",
       "                                              ColumnTransformer(transformers=[('ohe_pipe',\n",
       "                                                                               Pipeline(steps=[('ohe_imputer',\n",
       "                                                                                                SimpleImputer(fill_value='Missing',\n",
       "                                                                                                              strategy='constant')),\n",
       "                                                                                               ('ohe_encoder',\n",
       "                                                                                                OneHotEncoder(handle_unknown='ignore'))]),\n",
       "                                                                               ['MSSubClass',\n",
       "                                                                                'MSZoning',\n",
       "                                                                                'Street',\n",
       "                                                                                'Alley',\n",
       "                                                                                'LandContour',\n",
       "                                                                                'LotConfig',\n",
       "                                                                                'Condition1',\n",
       "                                                                                'Condition2',\n",
       "                                                                                'BldgType',\n",
       "                                                                                '...\n",
       "       4500, 4600, 4700, 4800, 4900, 5000, 5100, 5200, 5300, 5400, 5500,\n",
       "       5600, 5700, 5800, 5900, 6000, 6100, 6200, 6300, 6400, 6500, 6600,\n",
       "       6700, 6800, 6900, 7000, 7100, 7200, 7300, 7400, 7500, 7600, 7700,\n",
       "       7800, 7900, 8000, 8100, 8200, 8300, 8400, 8500, 8600, 8700, 8800,\n",
       "       8900, 9000, 9100, 9200, 9300, 9400, 9500, 9600, 9700, 9800, 9900])},\n",
       "                   random_state=0,\n",
       "                   scoring=make_scorer(custom_score, greater_is_better=False))</pre></div></div></div><div class=\"sk-parallel\"><div class=\"sk-parallel-item\"><div class=\"sk-item\"><div class=\"sk-serial\"><div class=\"sk-item\"><div class=\"sk-serial\"><div class=\"sk-item sk-dashed-wrapped\"><div class=\"sk-label-container\"><div class=\"sk-label sk-toggleable\"><input class=\"sk-toggleable__control sk-hidden--visually\" id=\"509d35f3-12fe-4f93-ad25-ce38e3b897b5\" type=\"checkbox\" ><label class=\"sk-toggleable__label\" for=\"509d35f3-12fe-4f93-ad25-ce38e3b897b5\">prepro: ColumnTransformer</label><div class=\"sk-toggleable__content\"><pre>ColumnTransformer(transformers=[('ohe_pipe',\n",
       "                                 Pipeline(steps=[('ohe_imputer',\n",
       "                                                  SimpleImputer(fill_value='Missing',\n",
       "                                                                strategy='constant')),\n",
       "                                                 ('ohe_encoder',\n",
       "                                                  OneHotEncoder(handle_unknown='ignore'))]),\n",
       "                                 ['MSSubClass', 'MSZoning', 'Street', 'Alley',\n",
       "                                  'LandContour', 'LotConfig', 'Condition1',\n",
       "                                  'Condition2', 'BldgType', 'HouseStyle',\n",
       "                                  'RoofStyle', 'RoofMatl', 'Exterior1st',\n",
       "                                  'Exter...\n",
       "                                                                              'GdWo',\n",
       "                                                                              'MnPrv',\n",
       "                                                                              'GdPrv']],\n",
       "                                                                 handle_unknown='use_encoded_value',\n",
       "                                                                 unknown_value=-1))]),\n",
       "                                 ['LotShape', 'Utilities', 'LandSlope',\n",
       "                                  'Neighborhood', 'ExterQual', 'ExterCond',\n",
       "                                  'BsmtQual', 'BsmtCond', 'BsmtExposure',\n",
       "                                  'BsmtFinType1', 'BsmtFinType2', 'HeatingQC',\n",
       "                                  'CentralAir', 'KitchenQual', 'FireplaceQu',\n",
       "                                  'GarageFinish', 'GarageQual', 'GarageCond',\n",
       "                                  'PavedDrive', 'PoolQC', 'Fence'])])</pre></div></div></div><div class=\"sk-parallel\"><div class=\"sk-parallel-item\"><div class=\"sk-item\"><div class=\"sk-label-container\"><div class=\"sk-label sk-toggleable\"><input class=\"sk-toggleable__control sk-hidden--visually\" id=\"2f9d423d-6ade-463d-941c-1ced45ce26c9\" type=\"checkbox\" ><label class=\"sk-toggleable__label\" for=\"2f9d423d-6ade-463d-941c-1ced45ce26c9\">ohe_pipe</label><div class=\"sk-toggleable__content\"><pre>['MSSubClass', 'MSZoning', 'Street', 'Alley', 'LandContour', 'LotConfig', 'Condition1', 'Condition2', 'BldgType', 'HouseStyle', 'RoofStyle', 'RoofMatl', 'Exterior1st', 'Exterior2nd', 'MasVnrType', 'Foundation', 'Heating', 'Electrical', 'Functional', 'GarageType', 'MiscFeature', 'SaleType', 'SaleCondition']</pre></div></div></div><div class=\"sk-serial\"><div class=\"sk-item\"><div class=\"sk-serial\"><div class=\"sk-item\"><div class=\"sk-estimator sk-toggleable\"><input class=\"sk-toggleable__control sk-hidden--visually\" id=\"768d3c42-8e1f-4c04-b52a-19492dc6b12c\" type=\"checkbox\" ><label class=\"sk-toggleable__label\" for=\"768d3c42-8e1f-4c04-b52a-19492dc6b12c\">SimpleImputer</label><div class=\"sk-toggleable__content\"><pre>SimpleImputer(fill_value='Missing', strategy='constant')</pre></div></div></div><div class=\"sk-item\"><div class=\"sk-estimator sk-toggleable\"><input class=\"sk-toggleable__control sk-hidden--visually\" id=\"445bdb3e-8483-4378-9673-5401cfa6f745\" type=\"checkbox\" ><label class=\"sk-toggleable__label\" for=\"445bdb3e-8483-4378-9673-5401cfa6f745\">OneHotEncoder</label><div class=\"sk-toggleable__content\"><pre>OneHotEncoder(handle_unknown='ignore')</pre></div></div></div></div></div></div></div></div><div class=\"sk-parallel-item\"><div class=\"sk-item\"><div class=\"sk-label-container\"><div class=\"sk-label sk-toggleable\"><input class=\"sk-toggleable__control sk-hidden--visually\" id=\"5ccbc7d9-49aa-48cb-a7b4-5299c9a2a0d9\" type=\"checkbox\" ><label class=\"sk-toggleable__label\" for=\"5ccbc7d9-49aa-48cb-a7b4-5299c9a2a0d9\">num_pipe</label><div class=\"sk-toggleable__content\"><pre>['LotArea', 'OverallQual', 'OverallCond', 'YearBuilt', 'YearRemodAdd', 'MasVnrArea', 'BsmtFinSF1', 'BsmtFinSF2', 'BsmtUnfSF', 'TotalBsmtSF', '1stFlrSF', '2ndFlrSF', 'LowQualFinSF', 'GrLivArea', 'BsmtFullBath', 'BsmtHalfBath', 'FullBath', 'HalfBath', 'BedroomAbvGr', 'KitchenAbvGr', 'TotRmsAbvGrd', 'Fireplaces', 'GarageYrBlt', 'GarageCars', 'GarageArea', 'WoodDeckSF', 'OpenPorchSF', 'EnclosedPorch', '3SsnPorch', 'ScreenPorch', 'PoolArea', 'MiscVal', 'MoSold', 'YrSold']</pre></div></div></div><div class=\"sk-serial\"><div class=\"sk-item\"><div class=\"sk-serial\"><div class=\"sk-item\"><div class=\"sk-estimator sk-toggleable\"><input class=\"sk-toggleable__control sk-hidden--visually\" id=\"5aaab59a-788b-407e-86dc-694384f18689\" type=\"checkbox\" ><label class=\"sk-toggleable__label\" for=\"5aaab59a-788b-407e-86dc-694384f18689\">SimpleImputer</label><div class=\"sk-toggleable__content\"><pre>SimpleImputer(fill_value=0, strategy='constant')</pre></div></div></div><div class=\"sk-item\"><div class=\"sk-estimator sk-toggleable\"><input class=\"sk-toggleable__control sk-hidden--visually\" id=\"78df50a7-fc34-4c7c-b498-3ddfdd1391c8\" type=\"checkbox\" ><label class=\"sk-toggleable__label\" for=\"78df50a7-fc34-4c7c-b498-3ddfdd1391c8\">MinMaxScaler</label><div class=\"sk-toggleable__content\"><pre>MinMaxScaler()</pre></div></div></div></div></div></div></div></div><div class=\"sk-parallel-item\"><div class=\"sk-item\"><div class=\"sk-label-container\"><div class=\"sk-label sk-toggleable\"><input class=\"sk-toggleable__control sk-hidden--visually\" id=\"32ef3c6e-c54c-4d19-a785-16e504ce4d03\" type=\"checkbox\" ><label class=\"sk-toggleable__label\" for=\"32ef3c6e-c54c-4d19-a785-16e504ce4d03\">ordinal_pipe</label><div class=\"sk-toggleable__content\"><pre>['LotShape', 'Utilities', 'LandSlope', 'Neighborhood', 'ExterQual', 'ExterCond', 'BsmtQual', 'BsmtCond', 'BsmtExposure', 'BsmtFinType1', 'BsmtFinType2', 'HeatingQC', 'CentralAir', 'KitchenQual', 'FireplaceQu', 'GarageFinish', 'GarageQual', 'GarageCond', 'PavedDrive', 'PoolQC', 'Fence']</pre></div></div></div><div class=\"sk-serial\"><div class=\"sk-item\"><div class=\"sk-serial\"><div class=\"sk-item\"><div class=\"sk-estimator sk-toggleable\"><input class=\"sk-toggleable__control sk-hidden--visually\" id=\"b61e60d0-b39b-4a40-abc1-46e2c8176ade\" type=\"checkbox\" ><label class=\"sk-toggleable__label\" for=\"b61e60d0-b39b-4a40-abc1-46e2c8176ade\">SimpleImputer</label><div class=\"sk-toggleable__content\"><pre>SimpleImputer(fill_value='Missing', strategy='constant')</pre></div></div></div><div class=\"sk-item\"><div class=\"sk-estimator sk-toggleable\"><input class=\"sk-toggleable__control sk-hidden--visually\" id=\"852edb30-550e-46cc-b965-3c15746f87b6\" type=\"checkbox\" ><label class=\"sk-toggleable__label\" for=\"852edb30-550e-46cc-b965-3c15746f87b6\">OrdinalEncoder</label><div class=\"sk-toggleable__content\"><pre>OrdinalEncoder(categories=[['IR3', 'IR2', 'IR1', 'Reg'],\n",
       "                           ['ELO', 'NoSeWa', 'NoSewr', 'AllPub'],\n",
       "                           ['Sev', 'Mod', 'Gtl'],\n",
       "                           ['MeadowV', 'IDOTRR', 'BrDale', 'BrkSide', 'Edwards',\n",
       "                            'OldTown', 'Sawyer', 'Blueste', 'SWISU', 'NPkVill',\n",
       "                            'NAmes', 'Mitchel', 'SawyerW', 'NWAmes', 'Gilbert',\n",
       "                            'Blmngtn', 'CollgCr', 'Crawfor', 'ClearCr',\n",
       "                            'Somerst', 'Veenker', 'Timber', 'StoneBr',\n",
       "                            'NridgHt', 'NoRidge']...\n",
       "                            'GLQ'],\n",
       "                           ['Po', 'Fa', 'TA', 'Gd', 'Ex'], ['N', 'Y'],\n",
       "                           ['Po', 'Fa', 'TA', 'Gd', 'Ex'],\n",
       "                           ['Missing', 'Po', 'Fa', 'TA', 'Gd', 'Ex'],\n",
       "                           ['Missing', 'Unf', 'RFn', 'Fin'],\n",
       "                           ['Missing', 'Po', 'Fa', 'TA', 'Gd', 'Ex'],\n",
       "                           ['Missing', 'Po', 'Fa', 'TA', 'Gd', 'Ex'],\n",
       "                           ['N', 'P', 'Y'], ['Missing', 'Fa', 'TA', 'Gd', 'Ex'],\n",
       "                           ['Missing', 'MnWw', 'GdWo', 'MnPrv', 'GdPrv']],\n",
       "               handle_unknown='use_encoded_value', unknown_value=-1)</pre></div></div></div></div></div></div></div></div></div></div><div class=\"sk-item\"><div class=\"sk-estimator sk-toggleable\"><input class=\"sk-toggleable__control sk-hidden--visually\" id=\"2c890780-d779-4af4-b48d-cdcce7d2a74a\" type=\"checkbox\" ><label class=\"sk-toggleable__label\" for=\"2c890780-d779-4af4-b48d-cdcce7d2a74a\">SVR</label><div class=\"sk-toggleable__content\"><pre>SVR()</pre></div></div></div></div></div></div></div></div></div></div></div></div>"
      ],
      "text/plain": [
       "RandomizedSearchCV(estimator=Pipeline(steps=[('prepro',\n",
       "                                              ColumnTransformer(transformers=[('ohe_pipe',\n",
       "                                                                               Pipeline(steps=[('ohe_imputer',\n",
       "                                                                                                SimpleImputer(fill_value='Missing',\n",
       "                                                                                                              strategy='constant')),\n",
       "                                                                                               ('ohe_encoder',\n",
       "                                                                                                OneHotEncoder(handle_unknown='ignore'))]),\n",
       "                                                                               ['MSSubClass',\n",
       "                                                                                'MSZoning',\n",
       "                                                                                'Street',\n",
       "                                                                                'Alley',\n",
       "                                                                                'LandContour',\n",
       "                                                                                'LotConfig',\n",
       "                                                                                'Condition1',\n",
       "                                                                                'Condition2',\n",
       "                                                                                'BldgType',\n",
       "                                                                                '...\n",
       "       4500, 4600, 4700, 4800, 4900, 5000, 5100, 5200, 5300, 5400, 5500,\n",
       "       5600, 5700, 5800, 5900, 6000, 6100, 6200, 6300, 6400, 6500, 6600,\n",
       "       6700, 6800, 6900, 7000, 7100, 7200, 7300, 7400, 7500, 7600, 7700,\n",
       "       7800, 7900, 8000, 8100, 8200, 8300, 8400, 8500, 8600, 8700, 8800,\n",
       "       8900, 9000, 9100, 9200, 9300, 9400, 9500, 9600, 9700, 9800, 9900])},\n",
       "                   random_state=0,\n",
       "                   scoring=make_scorer(custom_score, greater_is_better=False))"
      ]
     },
     "execution_count": 110,
     "metadata": {},
     "output_type": "execute_result"
    }
   ],
   "source": [
    "from sklearn.model_selection import RandomizedSearchCV\n",
    "distributions_svr = dict(model_svr__kernel = [\"linear\", \"poly\", \"rbf\", \"sigmoid\", \"precomputed\"], model_svr__max_iter = np.arange(100, 10000, 100), model_svr__C = np.logspace(0.1,1000),model_svr__gamma = np.logspace(0.001,1), model_svr__epsilon = np.linspace(0,10))\n",
    "\n",
    "svr_random_search = RandomizedSearchCV(pipe_svr, distributions_svr, random_state=0, scoring=classic_rmse)\n",
    "svr_random_search.fit(X_train, y_train)\n",
    "\n"
   ]
  },
  {
   "cell_type": "code",
   "execution_count": 111,
   "metadata": {},
   "outputs": [
    {
     "name": "stdout",
     "output_type": "stream",
     "text": [
      "Best Score : -0.3952177585140496\n",
      "Best Parameters : {'model_svr__max_iter': 6300, 'model_svr__kernel': 'poly', 'model_svr__gamma': 1.328392853809027, 'model_svr__epsilon': 2.857142857142857, 'model_svr__C': inf}\n"
     ]
    }
   ],
   "source": [
    "print(f\"Best Score : {svr_random_search.best_score_}\")\n",
    "print(f\"Best Parameters : {svr_random_search.best_params_}\")"
   ]
  },
  {
   "cell_type": "markdown",
   "metadata": {},
   "source": [
    "# Random Forest"
   ]
  },
  {
   "cell_type": "markdown",
   "metadata": {},
   "source": [
    "## Entrainement et prédiction avec split"
   ]
  },
  {
   "cell_type": "code",
   "execution_count": 85,
   "metadata": {},
   "outputs": [],
   "source": [
    "X_train, X_val, y_train, y_val = train_test_split(X, y, test_size = 0.2, random_state = 0)"
   ]
  },
  {
   "cell_type": "code",
   "execution_count": 86,
   "metadata": {},
   "outputs": [
    {
     "data": {
      "text/html": [
       "<style>#sk-92f489c3-b451-4e2f-bc22-f1c5323d3329 {color: black;background-color: white;}#sk-92f489c3-b451-4e2f-bc22-f1c5323d3329 pre{padding: 0;}#sk-92f489c3-b451-4e2f-bc22-f1c5323d3329 div.sk-toggleable {background-color: white;}#sk-92f489c3-b451-4e2f-bc22-f1c5323d3329 label.sk-toggleable__label {cursor: pointer;display: block;width: 100%;margin-bottom: 0;padding: 0.2em 0.3em;box-sizing: border-box;text-align: center;}#sk-92f489c3-b451-4e2f-bc22-f1c5323d3329 div.sk-toggleable__content {max-height: 0;max-width: 0;overflow: hidden;text-align: left;background-color: #f0f8ff;}#sk-92f489c3-b451-4e2f-bc22-f1c5323d3329 div.sk-toggleable__content pre {margin: 0.2em;color: black;border-radius: 0.25em;background-color: #f0f8ff;}#sk-92f489c3-b451-4e2f-bc22-f1c5323d3329 input.sk-toggleable__control:checked~div.sk-toggleable__content {max-height: 200px;max-width: 100%;overflow: auto;}#sk-92f489c3-b451-4e2f-bc22-f1c5323d3329 div.sk-estimator input.sk-toggleable__control:checked~label.sk-toggleable__label {background-color: #d4ebff;}#sk-92f489c3-b451-4e2f-bc22-f1c5323d3329 div.sk-label input.sk-toggleable__control:checked~label.sk-toggleable__label {background-color: #d4ebff;}#sk-92f489c3-b451-4e2f-bc22-f1c5323d3329 input.sk-hidden--visually {border: 0;clip: rect(1px 1px 1px 1px);clip: rect(1px, 1px, 1px, 1px);height: 1px;margin: -1px;overflow: hidden;padding: 0;position: absolute;width: 1px;}#sk-92f489c3-b451-4e2f-bc22-f1c5323d3329 div.sk-estimator {font-family: monospace;background-color: #f0f8ff;margin: 0.25em 0.25em;border: 1px dotted black;border-radius: 0.25em;box-sizing: border-box;}#sk-92f489c3-b451-4e2f-bc22-f1c5323d3329 div.sk-estimator:hover {background-color: #d4ebff;}#sk-92f489c3-b451-4e2f-bc22-f1c5323d3329 div.sk-parallel-item::after {content: \"\";width: 100%;border-bottom: 1px solid gray;flex-grow: 1;}#sk-92f489c3-b451-4e2f-bc22-f1c5323d3329 div.sk-label:hover label.sk-toggleable__label {background-color: #d4ebff;}#sk-92f489c3-b451-4e2f-bc22-f1c5323d3329 div.sk-serial::before {content: \"\";position: absolute;border-left: 1px solid gray;box-sizing: border-box;top: 2em;bottom: 0;left: 50%;}#sk-92f489c3-b451-4e2f-bc22-f1c5323d3329 div.sk-serial {display: flex;flex-direction: column;align-items: center;background-color: white;}#sk-92f489c3-b451-4e2f-bc22-f1c5323d3329 div.sk-item {z-index: 1;}#sk-92f489c3-b451-4e2f-bc22-f1c5323d3329 div.sk-parallel {display: flex;align-items: stretch;justify-content: center;background-color: white;}#sk-92f489c3-b451-4e2f-bc22-f1c5323d3329 div.sk-parallel-item {display: flex;flex-direction: column;position: relative;background-color: white;}#sk-92f489c3-b451-4e2f-bc22-f1c5323d3329 div.sk-parallel-item:first-child::after {align-self: flex-end;width: 50%;}#sk-92f489c3-b451-4e2f-bc22-f1c5323d3329 div.sk-parallel-item:last-child::after {align-self: flex-start;width: 50%;}#sk-92f489c3-b451-4e2f-bc22-f1c5323d3329 div.sk-parallel-item:only-child::after {width: 0;}#sk-92f489c3-b451-4e2f-bc22-f1c5323d3329 div.sk-dashed-wrapped {border: 1px dashed gray;margin: 0.2em;box-sizing: border-box;padding-bottom: 0.1em;background-color: white;position: relative;}#sk-92f489c3-b451-4e2f-bc22-f1c5323d3329 div.sk-label label {font-family: monospace;font-weight: bold;background-color: white;display: inline-block;line-height: 1.2em;}#sk-92f489c3-b451-4e2f-bc22-f1c5323d3329 div.sk-label-container {position: relative;z-index: 2;text-align: center;}#sk-92f489c3-b451-4e2f-bc22-f1c5323d3329 div.sk-container {display: inline-block;position: relative;}</style><div id=\"sk-92f489c3-b451-4e2f-bc22-f1c5323d3329\" class\"sk-top-container\"><div class=\"sk-container\"><div class=\"sk-item sk-dashed-wrapped\"><div class=\"sk-label-container\"><div class=\"sk-label sk-toggleable\"><input class=\"sk-toggleable__control sk-hidden--visually\" id=\"55aa522a-638f-406b-9dbb-6a772117000b\" type=\"checkbox\" ><label class=\"sk-toggleable__label\" for=\"55aa522a-638f-406b-9dbb-6a772117000b\">Pipeline</label><div class=\"sk-toggleable__content\"><pre>Pipeline(steps=[('prepro',\n",
       "                 ColumnTransformer(transformers=[('ohe_pipe',\n",
       "                                                  Pipeline(steps=[('ohe_imputer',\n",
       "                                                                   SimpleImputer(fill_value='Missing',\n",
       "                                                                                 strategy='constant')),\n",
       "                                                                  ('ohe_encoder',\n",
       "                                                                   OneHotEncoder(handle_unknown='ignore'))]),\n",
       "                                                  ['MSSubClass', 'MSZoning',\n",
       "                                                   'Street', 'Alley',\n",
       "                                                   'LandContour', 'LotConfig',\n",
       "                                                   'Condition1', 'Condition2',\n",
       "                                                   'BldgType', 'HouseStyle',\n",
       "                                                   'RoofStyle', 'Roof...\n",
       "                                                                                  handle_unknown='use_encoded_value',\n",
       "                                                                                  unknown_value=-999))]),\n",
       "                                                  ['LotShape', 'Utilities',\n",
       "                                                   'LandSlope', 'Neighborhood',\n",
       "                                                   'ExterQual', 'ExterCond',\n",
       "                                                   'BsmtQual', 'BsmtCond',\n",
       "                                                   'BsmtExposure',\n",
       "                                                   'BsmtFinType1',\n",
       "                                                   'BsmtFinType2', 'HeatingQC',\n",
       "                                                   'CentralAir', 'KitchenQual',\n",
       "                                                   'FireplaceQu',\n",
       "                                                   'GarageFinish', 'GarageQual',\n",
       "                                                   'GarageCond', 'PavedDrive',\n",
       "                                                   'PoolQC', 'Fence'])])),\n",
       "                ('model_forest', RandomForestRegressor())])</pre></div></div></div><div class=\"sk-serial\"><div class=\"sk-item sk-dashed-wrapped\"><div class=\"sk-label-container\"><div class=\"sk-label sk-toggleable\"><input class=\"sk-toggleable__control sk-hidden--visually\" id=\"d319299a-3d68-4bf1-9aba-b486aaaaf509\" type=\"checkbox\" ><label class=\"sk-toggleable__label\" for=\"d319299a-3d68-4bf1-9aba-b486aaaaf509\">prepro: ColumnTransformer</label><div class=\"sk-toggleable__content\"><pre>ColumnTransformer(transformers=[('ohe_pipe',\n",
       "                                 Pipeline(steps=[('ohe_imputer',\n",
       "                                                  SimpleImputer(fill_value='Missing',\n",
       "                                                                strategy='constant')),\n",
       "                                                 ('ohe_encoder',\n",
       "                                                  OneHotEncoder(handle_unknown='ignore'))]),\n",
       "                                 ['MSSubClass', 'MSZoning', 'Street', 'Alley',\n",
       "                                  'LandContour', 'LotConfig', 'Condition1',\n",
       "                                  'Condition2', 'BldgType', 'HouseStyle',\n",
       "                                  'RoofStyle', 'RoofMatl', 'Exterior1st',\n",
       "                                  'Exter...\n",
       "                                                                              'GdWo',\n",
       "                                                                              'MnPrv',\n",
       "                                                                              'GdPrv']],\n",
       "                                                                 handle_unknown='use_encoded_value',\n",
       "                                                                 unknown_value=-999))]),\n",
       "                                 ['LotShape', 'Utilities', 'LandSlope',\n",
       "                                  'Neighborhood', 'ExterQual', 'ExterCond',\n",
       "                                  'BsmtQual', 'BsmtCond', 'BsmtExposure',\n",
       "                                  'BsmtFinType1', 'BsmtFinType2', 'HeatingQC',\n",
       "                                  'CentralAir', 'KitchenQual', 'FireplaceQu',\n",
       "                                  'GarageFinish', 'GarageQual', 'GarageCond',\n",
       "                                  'PavedDrive', 'PoolQC', 'Fence'])])</pre></div></div></div><div class=\"sk-parallel\"><div class=\"sk-parallel-item\"><div class=\"sk-item\"><div class=\"sk-label-container\"><div class=\"sk-label sk-toggleable\"><input class=\"sk-toggleable__control sk-hidden--visually\" id=\"03f550ac-9b24-4d61-8ecd-166771065aac\" type=\"checkbox\" ><label class=\"sk-toggleable__label\" for=\"03f550ac-9b24-4d61-8ecd-166771065aac\">ohe_pipe</label><div class=\"sk-toggleable__content\"><pre>['MSSubClass', 'MSZoning', 'Street', 'Alley', 'LandContour', 'LotConfig', 'Condition1', 'Condition2', 'BldgType', 'HouseStyle', 'RoofStyle', 'RoofMatl', 'Exterior1st', 'Exterior2nd', 'MasVnrType', 'Foundation', 'Heating', 'Electrical', 'Functional', 'GarageType', 'MiscFeature', 'SaleType', 'SaleCondition']</pre></div></div></div><div class=\"sk-serial\"><div class=\"sk-item\"><div class=\"sk-serial\"><div class=\"sk-item\"><div class=\"sk-estimator sk-toggleable\"><input class=\"sk-toggleable__control sk-hidden--visually\" id=\"d13fd073-508f-4ad2-853e-d6508c6e55a9\" type=\"checkbox\" ><label class=\"sk-toggleable__label\" for=\"d13fd073-508f-4ad2-853e-d6508c6e55a9\">SimpleImputer</label><div class=\"sk-toggleable__content\"><pre>SimpleImputer(fill_value='Missing', strategy='constant')</pre></div></div></div><div class=\"sk-item\"><div class=\"sk-estimator sk-toggleable\"><input class=\"sk-toggleable__control sk-hidden--visually\" id=\"3240a92a-2696-46e1-a882-30e0a4a04d89\" type=\"checkbox\" ><label class=\"sk-toggleable__label\" for=\"3240a92a-2696-46e1-a882-30e0a4a04d89\">OneHotEncoder</label><div class=\"sk-toggleable__content\"><pre>OneHotEncoder(handle_unknown='ignore')</pre></div></div></div></div></div></div></div></div><div class=\"sk-parallel-item\"><div class=\"sk-item\"><div class=\"sk-label-container\"><div class=\"sk-label sk-toggleable\"><input class=\"sk-toggleable__control sk-hidden--visually\" id=\"6b478694-6efd-4ade-940c-bcc215d81d2b\" type=\"checkbox\" ><label class=\"sk-toggleable__label\" for=\"6b478694-6efd-4ade-940c-bcc215d81d2b\">num_pipe</label><div class=\"sk-toggleable__content\"><pre>['LotArea', 'OverallQual', 'OverallCond', 'YearBuilt', 'YearRemodAdd', 'MasVnrArea', 'BsmtFinSF1', 'BsmtFinSF2', 'BsmtUnfSF', 'TotalBsmtSF', '1stFlrSF', '2ndFlrSF', 'LowQualFinSF', 'GrLivArea', 'BsmtFullBath', 'BsmtHalfBath', 'FullBath', 'HalfBath', 'BedroomAbvGr', 'KitchenAbvGr', 'TotRmsAbvGrd', 'Fireplaces', 'GarageYrBlt', 'GarageCars', 'GarageArea', 'WoodDeckSF', 'OpenPorchSF', 'EnclosedPorch', '3SsnPorch', 'ScreenPorch', 'PoolArea', 'MiscVal', 'MoSold', 'YrSold']</pre></div></div></div><div class=\"sk-serial\"><div class=\"sk-item\"><div class=\"sk-serial\"><div class=\"sk-item\"><div class=\"sk-estimator sk-toggleable\"><input class=\"sk-toggleable__control sk-hidden--visually\" id=\"33a83cee-b006-4673-965e-06056abcb619\" type=\"checkbox\" ><label class=\"sk-toggleable__label\" for=\"33a83cee-b006-4673-965e-06056abcb619\">SimpleImputer</label><div class=\"sk-toggleable__content\"><pre>SimpleImputer(fill_value=0, strategy='constant')</pre></div></div></div><div class=\"sk-item\"><div class=\"sk-estimator sk-toggleable\"><input class=\"sk-toggleable__control sk-hidden--visually\" id=\"6e825925-7ff3-46a1-9f56-04ab46e279ea\" type=\"checkbox\" ><label class=\"sk-toggleable__label\" for=\"6e825925-7ff3-46a1-9f56-04ab46e279ea\">MinMaxScaler</label><div class=\"sk-toggleable__content\"><pre>MinMaxScaler()</pre></div></div></div></div></div></div></div></div><div class=\"sk-parallel-item\"><div class=\"sk-item\"><div class=\"sk-label-container\"><div class=\"sk-label sk-toggleable\"><input class=\"sk-toggleable__control sk-hidden--visually\" id=\"4551f7e3-69aa-40fc-90ea-2f734f4518c0\" type=\"checkbox\" ><label class=\"sk-toggleable__label\" for=\"4551f7e3-69aa-40fc-90ea-2f734f4518c0\">ordinal_pipe</label><div class=\"sk-toggleable__content\"><pre>['LotShape', 'Utilities', 'LandSlope', 'Neighborhood', 'ExterQual', 'ExterCond', 'BsmtQual', 'BsmtCond', 'BsmtExposure', 'BsmtFinType1', 'BsmtFinType2', 'HeatingQC', 'CentralAir', 'KitchenQual', 'FireplaceQu', 'GarageFinish', 'GarageQual', 'GarageCond', 'PavedDrive', 'PoolQC', 'Fence']</pre></div></div></div><div class=\"sk-serial\"><div class=\"sk-item\"><div class=\"sk-serial\"><div class=\"sk-item\"><div class=\"sk-estimator sk-toggleable\"><input class=\"sk-toggleable__control sk-hidden--visually\" id=\"fdd291f5-e0bc-47c0-819c-9122bb6800cf\" type=\"checkbox\" ><label class=\"sk-toggleable__label\" for=\"fdd291f5-e0bc-47c0-819c-9122bb6800cf\">SimpleImputer</label><div class=\"sk-toggleable__content\"><pre>SimpleImputer(fill_value='Missing', strategy='constant')</pre></div></div></div><div class=\"sk-item\"><div class=\"sk-estimator sk-toggleable\"><input class=\"sk-toggleable__control sk-hidden--visually\" id=\"026e6e25-0092-49e7-9845-2305caa1ee67\" type=\"checkbox\" ><label class=\"sk-toggleable__label\" for=\"026e6e25-0092-49e7-9845-2305caa1ee67\">OrdinalEncoder</label><div class=\"sk-toggleable__content\"><pre>OrdinalEncoder(categories=[['IR3', 'IR2', 'IR1', 'Reg'],\n",
       "                           ['ELO', 'NoSeWa', 'NoSewr', 'AllPub'],\n",
       "                           ['Sev', 'Mod', 'Gtl'],\n",
       "                           ['MeadowV', 'IDOTRR', 'BrDale', 'BrkSide', 'Edwards',\n",
       "                            'OldTown', 'Sawyer', 'Blueste', 'SWISU', 'NPkVill',\n",
       "                            'NAmes', 'Mitchel', 'SawyerW', 'NWAmes', 'Gilbert',\n",
       "                            'Blmngtn', 'CollgCr', 'Crawfor', 'ClearCr',\n",
       "                            'Somerst', 'Veenker', 'Timber', 'StoneBr',\n",
       "                            'NridgHt', 'NoRidge']...\n",
       "                            'GLQ'],\n",
       "                           ['Po', 'Fa', 'TA', 'Gd', 'Ex'], ['N', 'Y'],\n",
       "                           ['Po', 'Fa', 'TA', 'Gd', 'Ex'],\n",
       "                           ['Missing', 'Po', 'Fa', 'TA', 'Gd', 'Ex'],\n",
       "                           ['Missing', 'Unf', 'RFn', 'Fin'],\n",
       "                           ['Missing', 'Po', 'Fa', 'TA', 'Gd', 'Ex'],\n",
       "                           ['Missing', 'Po', 'Fa', 'TA', 'Gd', 'Ex'],\n",
       "                           ['N', 'P', 'Y'], ['Missing', 'Fa', 'TA', 'Gd', 'Ex'],\n",
       "                           ['Missing', 'MnWw', 'GdWo', 'MnPrv', 'GdPrv']],\n",
       "               handle_unknown='use_encoded_value', unknown_value=-999)</pre></div></div></div></div></div></div></div></div></div></div><div class=\"sk-item\"><div class=\"sk-estimator sk-toggleable\"><input class=\"sk-toggleable__control sk-hidden--visually\" id=\"6cf5e96c-cbad-4864-9e56-a3fdfa4422d6\" type=\"checkbox\" ><label class=\"sk-toggleable__label\" for=\"6cf5e96c-cbad-4864-9e56-a3fdfa4422d6\">RandomForestRegressor</label><div class=\"sk-toggleable__content\"><pre>RandomForestRegressor()</pre></div></div></div></div></div></div></div>"
      ],
      "text/plain": [
       "Pipeline(steps=[('prepro',\n",
       "                 ColumnTransformer(transformers=[('ohe_pipe',\n",
       "                                                  Pipeline(steps=[('ohe_imputer',\n",
       "                                                                   SimpleImputer(fill_value='Missing',\n",
       "                                                                                 strategy='constant')),\n",
       "                                                                  ('ohe_encoder',\n",
       "                                                                   OneHotEncoder(handle_unknown='ignore'))]),\n",
       "                                                  ['MSSubClass', 'MSZoning',\n",
       "                                                   'Street', 'Alley',\n",
       "                                                   'LandContour', 'LotConfig',\n",
       "                                                   'Condition1', 'Condition2',\n",
       "                                                   'BldgType', 'HouseStyle',\n",
       "                                                   'RoofStyle', 'Roof...\n",
       "                                                                                  handle_unknown='use_encoded_value',\n",
       "                                                                                  unknown_value=-999))]),\n",
       "                                                  ['LotShape', 'Utilities',\n",
       "                                                   'LandSlope', 'Neighborhood',\n",
       "                                                   'ExterQual', 'ExterCond',\n",
       "                                                   'BsmtQual', 'BsmtCond',\n",
       "                                                   'BsmtExposure',\n",
       "                                                   'BsmtFinType1',\n",
       "                                                   'BsmtFinType2', 'HeatingQC',\n",
       "                                                   'CentralAir', 'KitchenQual',\n",
       "                                                   'FireplaceQu',\n",
       "                                                   'GarageFinish', 'GarageQual',\n",
       "                                                   'GarageCond', 'PavedDrive',\n",
       "                                                   'PoolQC', 'Fence'])])),\n",
       "                ('model_forest', RandomForestRegressor())])"
      ]
     },
     "execution_count": 86,
     "metadata": {},
     "output_type": "execute_result"
    }
   ],
   "source": [
    "pipe_forest.fit(X_train, y_train)"
   ]
  },
  {
   "cell_type": "code",
   "execution_count": 87,
   "metadata": {},
   "outputs": [
    {
     "data": {
      "text/plain": [
       "array([-0.14841166, -0.14071319, -0.14335062, -0.15686144, -0.12119801])"
      ]
     },
     "execution_count": 87,
     "metadata": {},
     "output_type": "execute_result"
    }
   ],
   "source": [
    "cross_val_score(pipe_forest, X_train, y_train, scoring=classic_rmse)"
   ]
  },
  {
   "cell_type": "code",
   "execution_count": 88,
   "metadata": {},
   "outputs": [],
   "source": [
    "y_pred = pipe_forest.predict(X_val)"
   ]
  },
  {
   "cell_type": "code",
   "execution_count": 89,
   "metadata": {},
   "outputs": [
    {
     "data": {
      "text/plain": [
       "0.1340069933505423"
      ]
     },
     "execution_count": 89,
     "metadata": {},
     "output_type": "execute_result"
    }
   ],
   "source": [
    "custom_score(y_val, y_pred)"
   ]
  },
  {
   "cell_type": "markdown",
   "metadata": {},
   "source": [
    "## Optimisation des hyperparamètres - A faire"
   ]
  },
  {
   "cell_type": "markdown",
   "metadata": {},
   "source": [
    "# Modèles d'ensemble - à faire"
   ]
  },
  {
   "cell_type": "code",
   "execution_count": null,
   "metadata": {},
   "outputs": [],
   "source": []
  }
 ],
 "metadata": {
  "kernelspec": {
   "display_name": "Python 3",
   "language": "python",
   "name": "python3"
  },
  "language_info": {
   "codemirror_mode": {
    "name": "ipython",
    "version": 3
   },
   "file_extension": ".py",
   "mimetype": "text/x-python",
   "name": "python",
   "nbconvert_exporter": "python",
   "pygments_lexer": "ipython3",
   "version": "3.8.5"
  },
  "latex_envs": {
   "LaTeX_envs_menu_present": true,
   "autoclose": false,
   "autocomplete": true,
   "bibliofile": "biblio.bib",
   "cite_by": "apalike",
   "current_citInitial": 1,
   "eqLabelWithNumbers": true,
   "eqNumInitial": 1,
   "hotkeys": {
    "equation": "Ctrl-E",
    "itemize": "Ctrl-I"
   },
   "labels_anchors": false,
   "latex_user_defs": false,
   "report_style_numbering": false,
   "user_envs_cfg": false
  },
  "toc": {
   "base_numbering": 1,
   "nav_menu": {},
   "number_sections": true,
   "sideBar": true,
   "skip_h1_title": false,
   "title_cell": "Table of Contents",
   "title_sidebar": "Contents",
   "toc_cell": false,
   "toc_position": {},
   "toc_section_display": true,
   "toc_window_display": true
  }
 },
 "nbformat": 4,
 "nbformat_minor": 4
}
